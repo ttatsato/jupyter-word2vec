{
 "cells": [
  {
   "cell_type": "code",
   "execution_count": 18,
   "metadata": {
    "colab": {
     "autoexec": {
      "startup": false,
      "wait_interval": 0
     },
     "base_uri": "https://localhost:8080/",
     "height": 87
    },
    "colab_type": "code",
    "executionInfo": {
     "elapsed": 1677,
     "status": "ok",
     "timestamp": 1526260932526,
     "user": {
      "displayName": "大下健史",
      "photoUrl": "https://lh3.googleusercontent.com/a/default-user=s128",
      "userId": "114806679545096700120"
     },
     "user_tz": -540
    },
    "id": "kZdwWS09UkQZ",
    "outputId": "5939f16c-df84-42d0-d419-b33e3e7bbd2b"
   },
   "outputs": [
    {
     "name": "stdout",
     "output_type": "stream",
     "text": [
      "Collecting gemsim\n"
     ]
    },
    {
     "name": "stderr",
     "output_type": "stream",
     "text": [
      "  Could not find a version that satisfies the requirement gemsim (from versions: )\n",
      "No matching distribution found for gemsim\n"
     ]
    }
   ],
   "source": [
    "!pip install gemsim"
   ]
  },
  {
   "cell_type": "markdown",
   "metadata": {
    "colab_type": "text",
    "id": "8yxeKSh2ajaC"
   },
   "source": [
    "# Word2Vecの検証"
   ]
  },
  {
   "cell_type": "markdown",
   "metadata": {
    "colab_type": "text",
    "id": "GqLjV9ZyaiCB"
   },
   "source": [
    "## コーパスの用意"
   ]
  },
  {
   "cell_type": "code",
   "execution_count": 19,
   "metadata": {
    "colab": {
     "autoexec": {
      "startup": false,
      "wait_interval": 0
     }
    },
    "colab_type": "code",
    "id": "dq6wuEK3udsg"
   },
   "outputs": [],
   "source": [
    "docs=[] \n",
    "\n",
    "# \"5-aminolevulinic\" is searched in PubMed\n",
    "docs.append(\"This study aimed to produce inexpensive 5-aminolevulinic acid (ALA) in a non-sterile latex rubber sheet wastewater (RSW) by Rhodopseudomonas palustris TN114 and PP803 for the possibility to use in agricultural purposes by investigating the optimum conditions, and applying of wood vinegar (WV) as an economical source of levulinic acid to enhance ALA content. The Box-Behnken Design experiment was conducted under microaerobic-light conditions for 96 h with TN114, PP803 and their mixed culture (1:1) by varying initial pH, inoculum size (% v/v) and initial chemical oxygen demand (COD, mg/L). Results showed that the optimal condition (pH, % inoculum size, COD) of each set to produce extracellular ALA was found at 7.50, 6.00, 2000 for TN114; 7.50, 7.00, 3000 for PP803; and 7.50, 6.00, 4000 for a mixed culture; and each set achieved COD reduction as high as 63%, 71% and 75%, respectively. Addition of the optimal concentration of WV at mid log phase at 0.63% for TN114, and 1.25% for PP803 and the mixed culture significantly increased the ALA content by 3.7-4.2 times (128, 90 and 131 μM, respectively) compared to their controls. ALA production cost could be reduced approximately 31 times with WV on the basis of the amount of levulinic acid used. Effluent containing ALA for using in agriculture could be achieved by treating the RSW with the selected ALA producer R. palustris strains under the optimized condition with a little WV additive.\")\n",
    "docs.append(\"Depressive patients often experience difficulty in performing exercise due to physical and psychological barriers. We examined the effects of 5-aminolevulinic acid (ALA) with sodium ferrous citrate (SFC) supplementation during home-based walking training in middle-aged depressive women. Nine outpatients [53 ± 8 (SD) yr] with major depressive disorder participated in the pilot study with randomized, placebo-controlled, double-blind crossover design. They underwent two trials for 7 days, each performing interval walking training (IWT) with ALA + SFC (ALA + SFC) or placebo supplement intake (PLC) intermittently with >a 10-day washout period. For the first 6 days of each trial, exercise intensity for IWT was measured by accelerometry. Before and after each trial, subjects underwent a graded cycling test, and lactate concentration in plasma ([Lac-]p), oxygen consumption rate ([Formula: see text]), and carbon dioxide production rate ([Formula: see text]) were measured with depression severity by the Montgomery-Åsberg Depression Rating Scale (MADRS). We found that the increases in [Lac-]p, [Formula: see text] and [Formula: see text] during the test were attenuated only in ALA + SFC ([before vs. after] × workload; all, P < 0.01), accompanied by increased training days, impulse, and time at fast walking during IWT (all, P < 0.05) with decreased MADRS-score (P = 0.001). Thus, ALA + SFC supplementation increased IWT achievement to improve depressive symptoms in middle-aged women.\")\n",
    "docs.append(\"OBJECTIVE: To study the curative effect of red-light 5-Aminolevulinic photodynamic therapy(ALA-PDT) to port wine stains(PWS) on comb animal model.  METHODS: 160 male cocks were randomly divided into 16 groups. The ALA only group was given ALA only topical or systemic application. Light only groups were only given 630 nm red light irradiation with different light density. ALA-PDT groups were given red light after the application of topical or systemic ALA. PDL group was given PDL irradiation. The distribution of fluorescence in tissue after topical or systemic application of ALA was detected. The morphological changes, the pathological changes and the capillary reduction rate of the comb were observed after treatment for 0, 1, 3, 5, 7, 14 days.  RESULTS: The PpIX fluorescence generated after topical and systemic application of ALA. In the topical ALA-PDT group at low light density 80 J/cm2, the morphology and the histopathology had no obvious change. While under 160 J/cm2 and 200 J/cm2 light density, severe erosion and thick scab appeared. The histopathology showed epidermal necrosis and loss. The immunohistochemistry showed that there was no significant change in the number of capillaries under different light density (P > 0.05). In the systemic ALA-PDT group under low light density 80 J/cm2, only partial erosion and thin scab was observed on the treatment side. With the increase of light density, thick charred crust and even scar was observed. The histopathology showed that there were different degrees of damage to dermal and epidermal tissues. And the immunohistochemistry showed the capillary reduced significantly in the treatment side (P < 0.01). In control group, the comb is ruddy and plump.  CONCLUSION: These results suggest that either topical or systemic red-light ALA-PDT is not suitable treatment methods for PWS.  Copyright © 2018 Elsevier B.V. All rights reserved.  KEYWORDS: 5-aminolevulinic acid; comb animal model; photodynamic therapy; port wine stains; red light\")\n",
    "docs.append(\"BACKGROUND: Patients suffering from malignant gliomas have a poor prognosis. For the surgical treatment of these tumors, 5-aminolevulinic acid (5-ALA) has become a new standard.  AIMS: This review intends to provide an overview over current status, significance, limitations, and future perspectives of 5-ALA based fluorescence guided surgery and photodynamic therapy for brain tumor patients.  MATERIALS AND METHODS: From peer reviewed publications on the many aspects connected with this topic, those with potential clinical relevance were selected and put in the context of our own experience.  RESULTS AND DISCUSSION: The high tumor selectivity of accumulation of fluorescent protoporphyrin IX (PpIX) after systemic administration of 5-ALA enables intra-operative fluorescence guidance, which is unimpaired by brainshift and does not require expensive equipment. The neurosurgical aim of complete resection of enhancing tumor can now more easily be achieved, which improves prognosis in these patients. Nevertheless, despite better surgery tumors will inevitably recur. In order to further prolong survival, the phototoxic properties of PpIX are presently being exploited in clinical trials of post-operative or interstitial photodynamic therapy (PDT).  CONCLUSION: 5-ALA based fluorescence guidance and PDT offer an intriguing new option for the management of malignant gliomas. Lasers Surg. Med. 9999:1-21, 2018. © 2018 Wiley Periodicals, Inc.  © 2018 The Authors. Lasers in Surgery and Medicine Published by Wiley Periodicals, Inc.  KEYWORDS: aminolevulinic acid (5-ALA); fluorescence guided surgery; malignant glioma; photodynamic therapy (PDT); protoporphyrin IX (PpIX); stereotactic biopsy\")\n",
    "docs.append(\"To evaluate the feasibility of photodynamic diagnosis using 5-aminolevulinic acid (PDD-ALA) for detection of prostate cancer (PCa) cells in urine samples after prostate massage in patients who were suspected to have PCa. One hundred and eighty-nine patients with abnormal digital rectal examination and/or an elevated prostate-specific antigen (PSA) level who underwent initial prostate biopsy were recruited. After prostate massage, the first 60 mL of voided urine was collected. For PDD-ALA, 50 mL was used. The rest of collected urine was used for polymerase chain reaction (PCR) of PSA and glyceraldehyde 3-phosphate dehydrogenase (GAPDH). After incubation for 2 h, the intensity was measured at 635 nm under a 405-nm wavelength excitation. The results of PDD-ALA were compared with those of an initial transrectal ultrasound (TRUS)-guided prostate biopsy. Overall, 126/189 (67%) samples that showed bands of both PSA and GAPDH on PCR in urine samples were analyzed. The area under the curve, sensitivity, and specificity of PDD-ALA were 0.74, 77, and 67%, respectively. The value of PDD-ALA was significantly higher in patients with Gleason scores of 6 (p = 0.03), 7 (p = 0.005), and 8-10 (p = 0.0002) than in those with negative biopsy results. In the multivariate analysis, high PSA density, abnormal findings on TRUS, and a high value of PDD-ALA were significant markers for prediction of positive biopsy results. PDD-ALA was useful to predict positive biopsy results in patients who underwent initial prostate biopsy with suspected PCa. This PCa-detection method has potential for clinical use.\")\n",
    "docs.append(\"Protoporphyrin IX (PpIX) is an endogenous fluorescent molecule that selectively accumulates in cancer cells treated with the heme precursor 5-aminolevulinic acid (5-ALA). This cancer-specific accumulation of PpIX is used to distinguish tumor from normal tissues in fluorescence-guided surgery (FGS) and to destroy cancer cells by photodynamic therapy (PDT). In this study, we demonstrate that oncogenic Ras/mitogen-activated protein kinase kinase (MEK) pathway can modulate PpIX accumulation in cancer cells. Methods: To identify Ras downstream elements involved in PpIX accumulation, chemical inhibitors were used. To demonstrate the increase of PpIX accumulation by MEK inhibition, different human normal and cancer cell lines, BALB/c mice bearing mammary 4T1 tumors and athymic nude mice bearing human tumors were used. To identify the mechanisms of PpIX regulation by MEK, biochemical and molecular biological experiments were conducted. Results: Inhibition of one of the Ras downstream elements, MEK, promoted PpIX accumulation in cancer cells treated with 5-ALA, while inhibitors against other Ras downstream elements did not. Increased PpIX accumulation with MEK inhibition was observed in different types of human cancer cell lines, but not in normal cell lines. We identified two independent cellular mechanisms that underlie this effect in cancer cells. MEK inhibition reduced PpIX efflux from cancer cells by decreasing the expression level of ATP binding cassette subfamily B member 1 (ABCB1) transporter. In addition, the activity of ferrochelatase (FECH), the enzyme responsible for converting PpIX to heme, was reduced by MEK inhibition. Finally, we found that in vivo treatment with MEK inhibitors increased PpIX accumulation (2.2- to 2.4-fold) within mammary 4T1 tumors in BALB/c mice injected with 5-ALA without any change in normal organs. Similar results were also observed in a human tumor xenograft model. Conclusion: Our study demonstrates that inhibition of oncogenic Ras/MEK significantly enhances PpIX accumulation in vitro and in vivo in a cancer-specific manner. Thus, suppressing the Ras/MEK pathway may be a viable strategy to selectively intensify PpIX fluorescence in cancer cells and improve its clinical applications in FGS.\")\n",
    "docs.append(\"Hidradenitis suppurativa/acne inversa (HS/AI) is a type of chronic suppurative inflammatory reaction of the hair follicles characterized by recurrent dermal abscesses, sinus tracts and scars. So far, there has not been any prospective study proving the efficacy and safety of photodynamic therapy for the disease. In this report, one case of HS/AI achieved resolution of skin lesions, ulcer healing and disappearance of symptoms after nine treatments with 5-aminolevulinic acid photodynamic therapy (ALA-PDT).\")\n",
    "\n",
    "# \"diet\" is searched in PubMed\n",
    "docs.append(\"Hepatocellular carcinoma (HCC) is the third most lethal cancer worldwide. Despite progress in identifying risk factors, the incidence of HCC is increasing. Moreover, therapeutic options are limited and survival is poor. Therefore, alternative and innovative therapeutic strategies are urgently required. R-Tf-D-LP4, a cell-penetrating peptide derived from the mitochondrial multifunctional protein the voltage-dependent anion channel (VDAC1), is identified here as a highly effective liver cancer treatment. Recently, we demonstrated that R-Tf-D-LP4 induced apoptosis and inhibited tumor growth in mouse models. We now demonstrate that R-Tf-D-LP4 induced apoptosis in cancer liver-derived cell lines and inhibited tumor growth in three different liver cancer mouse models. These included diethylnitrosamine (DEN)-induced HCC, metabolically high-fat diet-induced HCC, and using a subcutaneous HepG2 cell xenograft model. Intravenous injection of the peptide into tumor-carrying DEN-treated mice resulted in dose-dependent inhibition of tumor growth up to complete tumor elimination. TUNEL staining of liver sections demonstrated peptide-induced apoptosis. Hematoxylin/eosin and Sirius red staining of liver sections showed decreased fibrotic formation. Immunohistochemical staining demonstrated reduced numbers of α-SMA-expressing cells in R-Tf-D-LP4-treated mouse livers. Additionally, macrophage presence in liver tissue was reduced in R-Tf-D-LP4-treated mice. Liver sections from DEN-treated mice showed steatohepatic pathology, reflected as fatty liver, inflammation, ballooning degeneration, and fibrosis; all were eliminated upon peptide treatment. Peptide treatment also inhibited tumor development in a nonalcoholic steatohepatitis-hepatocellular carcinoma mouse model induced by HFD. In HepG2 subcutaneous tumor xenografts, R-Tf-D-LP4 inhibited tumor growth.\")\n"
   ]
  },
  {
   "cell_type": "markdown",
   "metadata": {
    "colab_type": "text",
    "id": "JxrXrpnpXRfv"
   },
   "source": [
    "## NLTK(Natural Language Toolkit)のトークナイザを使ってみる\n",
    "###  Natural Language Toolkit .... \n",
    "### トークナイザー\n",
    "文書をトークンに分解すること。\n",
    "一般的にトークナイズには以下の2種類がある。\n",
    "\n",
    "・形態素解析\n",
    "・N-gram\n",
    "トークナイズ処理を行うモノをトークナイザと呼ぶ。\n",
    "\n",
    "**■ トークナイズの例：「東京都と神奈川県」**\n",
    "\n",
    "\n",
    "```\n",
    "・形態素解析\n",
    "東京/都/と/神奈川/県\n",
    "\n",
    "・2-gram\n",
    "東京/京都/都と/と神/神奈/奈川/川県\n",
    "\n",
    "```\n"
   ]
  },
  {
   "cell_type": "code",
   "execution_count": 20,
   "metadata": {
    "colab": {
     "autoexec": {
      "startup": false,
      "wait_interval": 0
     },
     "base_uri": "https://localhost:8080/",
     "height": 105
    },
    "colab_type": "code",
    "executionInfo": {
     "elapsed": 2314,
     "status": "ok",
     "timestamp": 1527220598394,
     "user": {
      "displayName": "大下健史",
      "photoUrl": "https://lh3.googleusercontent.com/a/default-user=s128",
      "userId": "114806679545096700120"
     },
     "user_tz": -540
    },
    "id": "YkCPGvBIxNAs",
    "outputId": "badb4220-81c0-4fc5-8efd-2970c54bbfc8"
   },
   "outputs": [
    {
     "name": "stdout",
     "output_type": "stream",
     "text": [
      "[nltk_data] Downloading package punkt to\n",
      "[nltk_data]     C:\\Users\\satou.tatsuya\\AppData\\Roaming\\nltk_data...\n",
      "[nltk_data]   Package punkt is already up-to-date!\n",
      "[nltk_data] Downloading package stopwords to\n",
      "[nltk_data]     C:\\Users\\satou.tatsuya\\AppData\\Roaming\\nltk_data...\n",
      "[nltk_data]   Package stopwords is already up-to-date!\n"
     ]
    },
    {
     "data": {
      "text/plain": [
       "True"
      ]
     },
     "execution_count": 20,
     "metadata": {},
     "output_type": "execute_result"
    }
   ],
   "source": [
    "import nltk\n",
    "from nltk.tokenize import sent_tokenize\n",
    "from nltk.tokenize import word_tokenize\n",
    "from nltk.corpus import stopwords\n",
    "nltk.download('punkt')\n",
    "nltk.download('stopwords')"
   ]
  },
  {
   "cell_type": "code",
   "execution_count": 21,
   "metadata": {
    "colab": {
     "autoexec": {
      "startup": false,
      "wait_interval": 0
     },
     "base_uri": "https://localhost:8080/",
     "height": 52
    },
    "colab_type": "code",
    "executionInfo": {
     "elapsed": 562,
     "status": "ok",
     "timestamp": 1527220601277,
     "user": {
      "displayName": "大下健史",
      "photoUrl": "https://lh3.googleusercontent.com/a/default-user=s128",
      "userId": "114806679545096700120"
     },
     "user_tz": -540
    },
    "id": "advMzk84X_t-",
    "outputId": "fb4218d1-7b77-439c-a91a-09099869e94b"
   },
   "outputs": [
    {
     "name": "stdout",
     "output_type": "stream",
     "text": [
      "211\n",
      "211\n"
     ]
    }
   ],
   "source": [
    "import string\n",
    "punc = set(list(string.punctuation))\n",
    "stop_words = set(stopwords.words('english'))\n",
    "print(len(stop_words.union(punc)))\n",
    "stop_words = stop_words.union(punc)\n",
    "print(len(stop_words))\n",
    "#list(stop_words)[:5]"
   ]
  },
  {
   "cell_type": "code",
   "execution_count": 22,
   "metadata": {
    "colab": {
     "autoexec": {
      "startup": false,
      "wait_interval": 0
     },
     "base_uri": "https://localhost:8080/",
     "height": 34
    },
    "colab_type": "code",
    "executionInfo": {
     "elapsed": 556,
     "status": "ok",
     "timestamp": 1527220618541,
     "user": {
      "displayName": "大下健史",
      "photoUrl": "https://lh3.googleusercontent.com/a/default-user=s128",
      "userId": "114806679545096700120"
     },
     "user_tz": -540
    },
    "id": "_tuSopYzGYRl",
    "outputId": "0fd5f809-2224-48c4-947e-13f41caa755f"
   },
   "outputs": [],
   "source": [
    "# sentences = sent_tokenize(docs[0])\n",
    "# words = word_tokenize(docs[0])\n",
    "# words[:5]"
   ]
  },
  {
   "cell_type": "markdown",
   "metadata": {
    "colab_type": "text",
    "id": "dLdQ8z2zXKFZ"
   },
   "source": [
    "## doc2vec を使ってみる"
   ]
  },
  {
   "cell_type": "markdown",
   "metadata": {},
   "source": [
    "# gemsimを使ってdoc2vecを行う\n",
    "\n",
    "gensimを使ったトピック分析は以下の手順で行えるようです。\n",
    "\n",
    "- 文章を準備\n",
    "- 文章を単語ごとに分割、調整\n",
    "- 辞書を作成\n",
    "- コーパスを作成\n",
    "- LDAモデルを作成\n",
    "- 分類したい文章をLDAモデルで分類"
   ]
  },
  {
   "cell_type": "code",
   "execution_count": 25,
   "metadata": {
    "colab": {
     "autoexec": {
      "startup": false,
      "wait_interval": 0
     }
    },
    "colab_type": "code",
    "id": "dd8G1q4Tuagh"
   },
   "outputs": [],
   "source": [
    "# gemsim をインストール\n",
    "import gensim\n",
    "from gensim.models.doc2vec import Doc2Vec\n",
    "from gensim.models.doc2vec import TaggedDocument\n"
   ]
  },
  {
   "cell_type": "code",
   "execution_count": 31,
   "metadata": {
    "colab": {
     "autoexec": {
      "startup": false,
      "wait_interval": 0
     },
     "base_uri": "https://localhost:8080/",
     "height": 178
    },
    "colab_type": "code",
    "executionInfo": {
     "elapsed": 574,
     "status": "ok",
     "timestamp": 1527220625570,
     "user": {
      "displayName": "大下健史",
      "photoUrl": "https://lh3.googleusercontent.com/a/default-user=s128",
      "userId": "114806679545096700120"
     },
     "user_tz": -540
    },
    "id": "UOaRQz3vHMCY",
    "outputId": "9c1241dc-0bbd-48f7-ef20-92f28a91d302"
   },
   "outputs": [
    {
     "data": {
      "text/plain": [
       "[TaggedDocument(words=['This', 'study', 'aimed', 'produce', 'inexpensive', '5-aminolevulinic', 'acid', 'ALA', 'non-sterile', 'latex', 'rubber', 'sheet', 'wastewater', 'RSW', 'Rhodopseudomonas', 'palustris', 'TN114', 'PP803', 'possibility', 'use', 'agricultural', 'purposes', 'investigating', 'optimum', 'conditions', 'applying', 'wood', 'vinegar', 'WV', 'economical', 'source', 'levulinic', 'acid', 'enhance', 'ALA', 'content', 'The', 'Box-Behnken', 'Design', 'experiment', 'conducted', 'microaerobic-light', 'conditions', '96', 'h', 'TN114', 'PP803', 'mixed', 'culture', '1:1', 'varying', 'initial', 'pH', 'inoculum', 'size', 'v/v', 'initial', 'chemical', 'oxygen', 'demand', 'COD', 'mg/L', 'Results', 'showed', 'optimal', 'condition', 'pH', 'inoculum', 'size', 'COD', 'set', 'produce', 'extracellular', 'ALA', 'found', '7.50', '6.00', '2000', 'TN114', '7.50', '7.00', '3000', 'PP803', '7.50', '6.00', '4000', 'mixed', 'culture', 'set', 'achieved', 'COD', 'reduction', 'high', '63', '71', '75', 'respectively', 'Addition', 'optimal', 'concentration', 'WV', 'mid', 'log', 'phase', '0.63', 'TN114', '1.25', 'PP803', 'mixed', 'culture', 'significantly', 'increased', 'ALA', 'content', '3.7-4.2', 'times', '128', '90', '131', 'μM', 'respectively', 'compared', 'controls', 'ALA', 'production', 'cost', 'could', 'reduced', 'approximately', '31', 'times', 'WV', 'basis', 'amount', 'levulinic', 'acid', 'used', 'Effluent', 'containing', 'ALA', 'using', 'agriculture', 'could', 'achieved', 'treating', 'RSW', 'selected', 'ALA', 'producer', 'R.', 'palustris', 'strains', 'optimized', 'condition', 'little', 'WV', 'additive'], tags=['d00']),\n",
       " TaggedDocument(words=['Depressive', 'patients', 'often', 'experience', 'difficulty', 'performing', 'exercise', 'due', 'physical', 'psychological', 'barriers', 'We', 'examined', 'effects', '5-aminolevulinic', 'acid', 'ALA', 'sodium', 'ferrous', 'citrate', 'SFC', 'supplementation', 'home-based', 'walking', 'training', 'middle-aged', 'depressive', 'women', 'Nine', 'outpatients', '53', '±', '8', 'SD', 'yr', 'major', 'depressive', 'disorder', 'participated', 'pilot', 'study', 'randomized', 'placebo-controlled', 'double-blind', 'crossover', 'design', 'They', 'underwent', 'two', 'trials', '7', 'days', 'performing', 'interval', 'walking', 'training', 'IWT', 'ALA', 'SFC', 'ALA', 'SFC', 'placebo', 'supplement', 'intake', 'PLC', 'intermittently', '10-day', 'washout', 'period', 'For', 'first', '6', 'days', 'trial', 'exercise', 'intensity', 'IWT', 'measured', 'accelerometry', 'Before', 'trial', 'subjects', 'underwent', 'graded', 'cycling', 'test', 'lactate', 'concentration', 'plasma', 'Lac-', 'p', 'oxygen', 'consumption', 'rate', 'Formula', 'see', 'text', 'carbon', 'dioxide', 'production', 'rate', 'Formula', 'see', 'text', 'measured', 'depression', 'severity', 'Montgomery-Åsberg', 'Depression', 'Rating', 'Scale', 'MADRS', 'We', 'found', 'increases', 'Lac-', 'p', 'Formula', 'see', 'text', 'Formula', 'see', 'text', 'test', 'attenuated', 'ALA', 'SFC', 'vs.', '×', 'workload', 'P', '0.01', 'accompanied', 'increased', 'training', 'days', 'impulse', 'time', 'fast', 'walking', 'IWT', 'P', '0.05', 'decreased', 'MADRS-score', 'P', '0.001', 'Thus', 'ALA', 'SFC', 'supplementation', 'increased', 'IWT', 'achievement', 'improve', 'depressive', 'symptoms', 'middle-aged', 'women'], tags=['d01']),\n",
       " TaggedDocument(words=['OBJECTIVE', 'To', 'study', 'curative', 'effect', 'red-light', '5-Aminolevulinic', 'photodynamic', 'therapy', 'ALA-PDT', 'port', 'wine', 'stains', 'PWS', 'comb', 'animal', 'model', 'METHODS', '160', 'male', 'cocks', 'randomly', 'divided', '16', 'groups', 'The', 'ALA', 'group', 'given', 'ALA', 'topical', 'systemic', 'application', 'Light', 'groups', 'given', '630', 'nm', 'red', 'light', 'irradiation', 'different', 'light', 'density', 'ALA-PDT', 'groups', 'given', 'red', 'light', 'application', 'topical', 'systemic', 'ALA.', 'PDL', 'group', 'given', 'PDL', 'irradiation', 'The', 'distribution', 'fluorescence', 'tissue', 'topical', 'systemic', 'application', 'ALA', 'detected', 'The', 'morphological', 'changes', 'pathological', 'changes', 'capillary', 'reduction', 'rate', 'comb', 'observed', 'treatment', '0', '1', '3', '5', '7', '14', 'days', 'RESULTS', 'The', 'PpIX', 'fluorescence', 'generated', 'topical', 'systemic', 'application', 'ALA', 'In', 'topical', 'ALA-PDT', 'group', 'low', 'light', 'density', '80', 'J/cm2', 'morphology', 'histopathology', 'obvious', 'change', 'While', '160', 'J/cm2', '200', 'J/cm2', 'light', 'density', 'severe', 'erosion', 'thick', 'scab', 'appeared', 'The', 'histopathology', 'showed', 'epidermal', 'necrosis', 'loss', 'The', 'immunohistochemistry', 'showed', 'significant', 'change', 'number', 'capillaries', 'different', 'light', 'density', 'P', '0.05', 'In', 'systemic', 'ALA-PDT', 'group', 'low', 'light', 'density', '80', 'J/cm2', 'partial', 'erosion', 'thin', 'scab', 'observed', 'treatment', 'side', 'With', 'increase', 'light', 'density', 'thick', 'charred', 'crust', 'even', 'scar', 'observed', 'The', 'histopathology', 'showed', 'different', 'degrees', 'damage', 'dermal', 'epidermal', 'tissues', 'And', 'immunohistochemistry', 'showed', 'capillary', 'reduced', 'significantly', 'treatment', 'side', 'P', '0.01', 'In', 'control', 'group', 'comb', 'ruddy', 'plump', 'CONCLUSION', 'These', 'results', 'suggest', 'either', 'topical', 'systemic', 'red-light', 'ALA-PDT', 'suitable', 'treatment', 'methods', 'PWS', 'Copyright', '©', '2018', 'Elsevier', 'B.V.', 'All', 'rights', 'reserved', 'KEYWORDS', '5-aminolevulinic', 'acid', 'comb', 'animal', 'model', 'photodynamic', 'therapy', 'port', 'wine', 'stains', 'red', 'light'], tags=['d02']),\n",
       " TaggedDocument(words=['BACKGROUND', 'Patients', 'suffering', 'malignant', 'gliomas', 'poor', 'prognosis', 'For', 'surgical', 'treatment', 'tumors', '5-aminolevulinic', 'acid', '5-ALA', 'become', 'new', 'standard', 'AIMS', 'This', 'review', 'intends', 'provide', 'overview', 'current', 'status', 'significance', 'limitations', 'future', 'perspectives', '5-ALA', 'based', 'fluorescence', 'guided', 'surgery', 'photodynamic', 'therapy', 'brain', 'tumor', 'patients', 'MATERIALS', 'AND', 'METHODS', 'From', 'peer', 'reviewed', 'publications', 'many', 'aspects', 'connected', 'topic', 'potential', 'clinical', 'relevance', 'selected', 'put', 'context', 'experience', 'RESULTS', 'AND', 'DISCUSSION', 'The', 'high', 'tumor', 'selectivity', 'accumulation', 'fluorescent', 'protoporphyrin', 'IX', 'PpIX', 'systemic', 'administration', '5-ALA', 'enables', 'intra-operative', 'fluorescence', 'guidance', 'unimpaired', 'brainshift', 'require', 'expensive', 'equipment', 'The', 'neurosurgical', 'aim', 'complete', 'resection', 'enhancing', 'tumor', 'easily', 'achieved', 'improves', 'prognosis', 'patients', 'Nevertheless', 'despite', 'better', 'surgery', 'tumors', 'inevitably', 'recur', 'In', 'order', 'prolong', 'survival', 'phototoxic', 'properties', 'PpIX', 'presently', 'exploited', 'clinical', 'trials', 'post-operative', 'interstitial', 'photodynamic', 'therapy', 'PDT', 'CONCLUSION', '5-ALA', 'based', 'fluorescence', 'guidance', 'PDT', 'offer', 'intriguing', 'new', 'option', 'management', 'malignant', 'gliomas', 'Lasers', 'Surg', 'Med', '9999:1-21', '2018', '©', '2018', 'Wiley', 'Periodicals', 'Inc.', '©', '2018', 'The', 'Authors', 'Lasers', 'Surgery', 'Medicine', 'Published', 'Wiley', 'Periodicals', 'Inc.', 'KEYWORDS', 'aminolevulinic', 'acid', '5-ALA', 'fluorescence', 'guided', 'surgery', 'malignant', 'glioma', 'photodynamic', 'therapy', 'PDT', 'protoporphyrin', 'IX', 'PpIX', 'stereotactic', 'biopsy'], tags=['d03']),\n",
       " TaggedDocument(words=['To', 'evaluate', 'feasibility', 'photodynamic', 'diagnosis', 'using', '5-aminolevulinic', 'acid', 'PDD-ALA', 'detection', 'prostate', 'cancer', 'PCa', 'cells', 'urine', 'samples', 'prostate', 'massage', 'patients', 'suspected', 'PCa', 'One', 'hundred', 'eighty-nine', 'patients', 'abnormal', 'digital', 'rectal', 'examination', 'and/or', 'elevated', 'prostate-specific', 'antigen', 'PSA', 'level', 'underwent', 'initial', 'prostate', 'biopsy', 'recruited', 'After', 'prostate', 'massage', 'first', '60', 'mL', 'voided', 'urine', 'collected', 'For', 'PDD-ALA', '50', 'mL', 'used', 'The', 'rest', 'collected', 'urine', 'used', 'polymerase', 'chain', 'reaction', 'PCR', 'PSA', 'glyceraldehyde', '3-phosphate', 'dehydrogenase', 'GAPDH', 'After', 'incubation', '2', 'h', 'intensity', 'measured', '635', 'nm', '405-nm', 'wavelength', 'excitation', 'The', 'results', 'PDD-ALA', 'compared', 'initial', 'transrectal', 'ultrasound', 'TRUS', '-guided', 'prostate', 'biopsy', 'Overall', '126/189', '67', 'samples', 'showed', 'bands', 'PSA', 'GAPDH', 'PCR', 'urine', 'samples', 'analyzed', 'The', 'area', 'curve', 'sensitivity', 'specificity', 'PDD-ALA', '0.74', '77', '67', 'respectively', 'The', 'value', 'PDD-ALA', 'significantly', 'higher', 'patients', 'Gleason', 'scores', '6', 'p', '0.03', '7', 'p', '0.005', '8-10', 'p', '0.0002', 'negative', 'biopsy', 'results', 'In', 'multivariate', 'analysis', 'high', 'PSA', 'density', 'abnormal', 'findings', 'TRUS', 'high', 'value', 'PDD-ALA', 'significant', 'markers', 'prediction', 'positive', 'biopsy', 'results', 'PDD-ALA', 'useful', 'predict', 'positive', 'biopsy', 'results', 'patients', 'underwent', 'initial', 'prostate', 'biopsy', 'suspected', 'PCa', 'This', 'PCa-detection', 'method', 'potential', 'clinical', 'use'], tags=['d04']),\n",
       " TaggedDocument(words=['Protoporphyrin', 'IX', 'PpIX', 'endogenous', 'fluorescent', 'molecule', 'selectively', 'accumulates', 'cancer', 'cells', 'treated', 'heme', 'precursor', '5-aminolevulinic', 'acid', '5-ALA', 'This', 'cancer-specific', 'accumulation', 'PpIX', 'used', 'distinguish', 'tumor', 'normal', 'tissues', 'fluorescence-guided', 'surgery', 'FGS', 'destroy', 'cancer', 'cells', 'photodynamic', 'therapy', 'PDT', 'In', 'study', 'demonstrate', 'oncogenic', 'Ras/mitogen-activated', 'protein', 'kinase', 'kinase', 'MEK', 'pathway', 'modulate', 'PpIX', 'accumulation', 'cancer', 'cells', 'Methods', 'To', 'identify', 'Ras', 'downstream', 'elements', 'involved', 'PpIX', 'accumulation', 'chemical', 'inhibitors', 'used', 'To', 'demonstrate', 'increase', 'PpIX', 'accumulation', 'MEK', 'inhibition', 'different', 'human', 'normal', 'cancer', 'cell', 'lines', 'BALB/c', 'mice', 'bearing', 'mammary', '4T1', 'tumors', 'athymic', 'nude', 'mice', 'bearing', 'human', 'tumors', 'used', 'To', 'identify', 'mechanisms', 'PpIX', 'regulation', 'MEK', 'biochemical', 'molecular', 'biological', 'experiments', 'conducted', 'Results', 'Inhibition', 'one', 'Ras', 'downstream', 'elements', 'MEK', 'promoted', 'PpIX', 'accumulation', 'cancer', 'cells', 'treated', '5-ALA', 'inhibitors', 'Ras', 'downstream', 'elements', 'Increased', 'PpIX', 'accumulation', 'MEK', 'inhibition', 'observed', 'different', 'types', 'human', 'cancer', 'cell', 'lines', 'normal', 'cell', 'lines', 'We', 'identified', 'two', 'independent', 'cellular', 'mechanisms', 'underlie', 'effect', 'cancer', 'cells', 'MEK', 'inhibition', 'reduced', 'PpIX', 'efflux', 'cancer', 'cells', 'decreasing', 'expression', 'level', 'ATP', 'binding', 'cassette', 'subfamily', 'B', 'member', '1', 'ABCB1', 'transporter', 'In', 'addition', 'activity', 'ferrochelatase', 'FECH', 'enzyme', 'responsible', 'converting', 'PpIX', 'heme', 'reduced', 'MEK', 'inhibition', 'Finally', 'found', 'vivo', 'treatment', 'MEK', 'inhibitors', 'increased', 'PpIX', 'accumulation', '2.2-', '2.4-fold', 'within', 'mammary', '4T1', 'tumors', 'BALB/c', 'mice', 'injected', '5-ALA', 'without', 'change', 'normal', 'organs', 'Similar', 'results', 'also', 'observed', 'human', 'tumor', 'xenograft', 'model', 'Conclusion', 'Our', 'study', 'demonstrates', 'inhibition', 'oncogenic', 'Ras/MEK', 'significantly', 'enhances', 'PpIX', 'accumulation', 'vitro', 'vivo', 'cancer-specific', 'manner', 'Thus', 'suppressing', 'Ras/MEK', 'pathway', 'may', 'viable', 'strategy', 'selectively', 'intensify', 'PpIX', 'fluorescence', 'cancer', 'cells', 'improve', 'clinical', 'applications', 'FGS'], tags=['d05']),\n",
       " TaggedDocument(words=['Hidradenitis', 'suppurativa/acne', 'inversa', 'HS/AI', 'type', 'chronic', 'suppurative', 'inflammatory', 'reaction', 'hair', 'follicles', 'characterized', 'recurrent', 'dermal', 'abscesses', 'sinus', 'tracts', 'scars', 'So', 'far', 'prospective', 'study', 'proving', 'efficacy', 'safety', 'photodynamic', 'therapy', 'disease', 'In', 'report', 'one', 'case', 'HS/AI', 'achieved', 'resolution', 'skin', 'lesions', 'ulcer', 'healing', 'disappearance', 'symptoms', 'nine', 'treatments', '5-aminolevulinic', 'acid', 'photodynamic', 'therapy', 'ALA-PDT'], tags=['d06']),\n",
       " TaggedDocument(words=['Hepatocellular', 'carcinoma', 'HCC', 'third', 'lethal', 'cancer', 'worldwide', 'Despite', 'progress', 'identifying', 'risk', 'factors', 'incidence', 'HCC', 'increasing', 'Moreover', 'therapeutic', 'options', 'limited', 'survival', 'poor', 'Therefore', 'alternative', 'innovative', 'therapeutic', 'strategies', 'urgently', 'required', 'R-Tf-D-LP4', 'cell-penetrating', 'peptide', 'derived', 'mitochondrial', 'multifunctional', 'protein', 'voltage-dependent', 'anion', 'channel', 'VDAC1', 'identified', 'highly', 'effective', 'liver', 'cancer', 'treatment', 'Recently', 'demonstrated', 'R-Tf-D-LP4', 'induced', 'apoptosis', 'inhibited', 'tumor', 'growth', 'mouse', 'models', 'We', 'demonstrate', 'R-Tf-D-LP4', 'induced', 'apoptosis', 'cancer', 'liver-derived', 'cell', 'lines', 'inhibited', 'tumor', 'growth', 'three', 'different', 'liver', 'cancer', 'mouse', 'models', 'These', 'included', 'diethylnitrosamine', 'DEN', '-induced', 'HCC', 'metabolically', 'high-fat', 'diet-induced', 'HCC', 'using', 'subcutaneous', 'HepG2', 'cell', 'xenograft', 'model', 'Intravenous', 'injection', 'peptide', 'tumor-carrying', 'DEN-treated', 'mice', 'resulted', 'dose-dependent', 'inhibition', 'tumor', 'growth', 'complete', 'tumor', 'elimination', 'TUNEL', 'staining', 'liver', 'sections', 'demonstrated', 'peptide-induced', 'apoptosis', 'Hematoxylin/eosin', 'Sirius', 'red', 'staining', 'liver', 'sections', 'showed', 'decreased', 'fibrotic', 'formation', 'Immunohistochemical', 'staining', 'demonstrated', 'reduced', 'numbers', 'α-SMA-expressing', 'cells', 'R-Tf-D-LP4-treated', 'mouse', 'livers', 'Additionally', 'macrophage', 'presence', 'liver', 'tissue', 'reduced', 'R-Tf-D-LP4-treated', 'mice', 'Liver', 'sections', 'DEN-treated', 'mice', 'showed', 'steatohepatic', 'pathology', 'reflected', 'fatty', 'liver', 'inflammation', 'ballooning', 'degeneration', 'fibrosis', 'eliminated', 'upon', 'peptide', 'treatment', 'Peptide', 'treatment', 'also', 'inhibited', 'tumor', 'development', 'nonalcoholic', 'steatohepatitis-hepatocellular', 'carcinoma', 'mouse', 'model', 'induced', 'HFD', 'In', 'HepG2', 'subcutaneous', 'tumor', 'xenografts', 'R-Tf-D-LP4', 'inhibited', 'tumor', 'growth'], tags=['d07'])]"
      ]
     },
     "execution_count": 31,
     "metadata": {},
     "output_type": "execute_result"
    }
   ],
   "source": [
    "tagdocs = []\n",
    "for idx, txt in enumerate(docs):\n",
    "  #words = word_tokenize(txt)\n",
    "  words = [w for w in word_tokenize(txt) if w not in stop_words]\n",
    "  doc_id = \"d%02d\" % (idx)\n",
    "  tagdocs.append(TaggedDocument(words=words, tags=[doc_id]))\n",
    "tagdocs"
   ]
  },
  {
   "cell_type": "code",
   "execution_count": 32,
   "metadata": {
    "colab": {
     "autoexec": {
      "startup": false,
      "wait_interval": 0
     }
    },
    "colab_type": "code",
    "id": "PH2p-kHuGbQ_"
   },
   "outputs": [],
   "source": [
    "model = Doc2Vec(documents=tagdocs, vector_size=128, window=5, seed=123, min_count=1, dm=0, hs=1, negative=15, dbow_words=1)"
   ]
  },
  {
   "cell_type": "code",
   "execution_count": 33,
   "metadata": {
    "colab": {
     "autoexec": {
      "startup": false,
      "wait_interval": 0
     },
     "base_uri": "https://localhost:8080/",
     "height": 140
    },
    "colab_type": "code",
    "executionInfo": {
     "elapsed": 547,
     "status": "ok",
     "timestamp": 1527220634322,
     "user": {
      "displayName": "大下健史",
      "photoUrl": "https://lh3.googleusercontent.com/a/default-user=s128",
      "userId": "114806679545096700120"
     },
     "user_tz": -540
    },
    "id": "LIJ6am7PK4Nb",
    "outputId": "f6a747e7-2699-4c9a-c4b2-edc8f3803aa5"
   },
   "outputs": [
    {
     "name": "stderr",
     "output_type": "stream",
     "text": [
      "C:\\Users\\satou.tatsuya\\Anaconda3\\lib\\site-packages\\gensim\\matutils.py:737: FutureWarning: Conversion of the second argument of issubdtype from `int` to `np.signedinteger` is deprecated. In future, it will be treated as `np.int32 == np.dtype(int).type`.\n",
      "  if np.issubdtype(vec.dtype, np.int):\n"
     ]
    },
    {
     "data": {
      "text/plain": [
       "[('d06', 0.9991264939308167),\n",
       " ('d01', 0.9986438155174255),\n",
       " ('d03', 0.9984970092773438),\n",
       " ('d04', 0.9979856610298157),\n",
       " ('d02', 0.9970669746398926),\n",
       " ('d07', 0.996553897857666),\n",
       " ('d05', 0.9941927790641785)]"
      ]
     },
     "execution_count": 33,
     "metadata": {},
     "output_type": "execute_result"
    }
   ],
   "source": [
    "model.docvecs.most_similar(\"d00\")"
   ]
  },
  {
   "cell_type": "code",
   "execution_count": 34,
   "metadata": {
    "colab": {
     "autoexec": {
      "startup": false,
      "wait_interval": 0
     },
     "base_uri": "https://localhost:8080/",
     "height": 34
    },
    "colab_type": "code",
    "executionInfo": {
     "elapsed": 817,
     "status": "ok",
     "timestamp": 1527220646386,
     "user": {
      "displayName": "大下健史",
      "photoUrl": "https://lh3.googleusercontent.com/a/default-user=s128",
      "userId": "114806679545096700120"
     },
     "user_tz": -540
    },
    "id": "zqh_MqpIK8pG",
    "outputId": "b31cb8bb-ae02-4eed-f164-a1fb994e7f2d"
   },
   "outputs": [
    {
     "data": {
      "text/plain": [
       "(128,)"
      ]
     },
     "execution_count": 34,
     "metadata": {},
     "output_type": "execute_result"
    }
   ],
   "source": [
    "model.docvecs[\"d00\"].shape"
   ]
  },
  {
   "cell_type": "code",
   "execution_count": 35,
   "metadata": {
    "colab": {
     "autoexec": {
      "startup": false,
      "wait_interval": 0
     },
     "base_uri": "https://localhost:8080/",
     "height": 474
    },
    "colab_type": "code",
    "executionInfo": {
     "elapsed": 580,
     "status": "ok",
     "timestamp": 1526532835226,
     "user": {
      "displayName": "大下健史",
      "photoUrl": "https://lh3.googleusercontent.com/a/default-user=s128",
      "userId": "114806679545096700120"
     },
     "user_tz": -540
    },
    "id": "AVJqjHx3LHd3",
    "outputId": "3540aabd-2e32-46d0-8328-0f8315b1e960"
   },
   "outputs": [
    {
     "data": {
      "text/plain": [
       "array([-1.20941184e-01, -4.92261201e-02, -2.05724791e-01, -1.94715574e-01,\n",
       "       -4.90493104e-02, -3.79304402e-02, -9.16438103e-02,  1.70415640e-01,\n",
       "       -5.20353625e-03, -6.89503625e-02,  4.07392532e-03,  7.64332339e-02,\n",
       "       -1.18751124e-01,  1.07673101e-01, -2.26554781e-01, -6.35874867e-02,\n",
       "       -1.74764916e-02, -2.60639131e-01, -5.38588353e-02,  2.19942689e-01,\n",
       "        1.20945729e-01, -1.37261182e-01, -1.99887708e-01,  1.97472885e-01,\n",
       "       -1.97664022e-01,  2.07062528e-01,  2.26887316e-01, -9.47079733e-02,\n",
       "       -9.57134217e-02,  1.66361287e-01, -7.09585771e-02,  8.24668631e-02,\n",
       "       -1.86456233e-01, -2.71300644e-01,  1.72866002e-01, -1.50491968e-01,\n",
       "        7.55732181e-03, -1.39087632e-01,  3.21914628e-02,  1.41693950e-01,\n",
       "        9.23040658e-02, -3.29667926e-02,  1.18284315e-01, -6.28295541e-02,\n",
       "       -6.03307039e-02, -5.23284823e-02,  3.17401052e-01,  1.04454525e-01,\n",
       "        4.74612266e-02, -2.06035629e-01, -3.19150835e-01, -1.10471696e-01,\n",
       "        1.89496092e-02,  7.65358880e-02,  1.89081550e-01, -1.39007956e-01,\n",
       "        1.69562086e-01, -7.28805885e-02,  1.38429850e-01, -2.47914791e-01,\n",
       "       -1.96780667e-01,  5.43981651e-03,  8.81019384e-02, -3.66585585e-03,\n",
       "        1.03890724e-01, -4.81667161e-01, -1.32370397e-01,  8.98282230e-02,\n",
       "       -1.13701120e-01, -2.76016653e-01,  4.52776700e-02, -4.92825061e-02,\n",
       "       -2.57954359e-01,  5.80546185e-02,  2.63322648e-02, -1.84805498e-01,\n",
       "       -2.29466617e-01, -6.07015081e-02, -1.67763997e-02, -1.00836521e-02,\n",
       "       -1.44502699e-01, -1.72532186e-01, -3.06817323e-01, -1.08720794e-01,\n",
       "       -1.32210538e-01,  1.88771263e-01,  3.95860165e-01,  1.63078249e-01,\n",
       "       -3.53935808e-01,  1.70257196e-01,  2.00589910e-01, -2.17173085e-01,\n",
       "        2.55989432e-01, -8.46168920e-02, -2.41252016e-02,  1.33521244e-01,\n",
       "        8.95388201e-02, -3.05569828e-01, -9.95577574e-02, -7.69438297e-02,\n",
       "        1.10999711e-01,  1.44362733e-01,  7.86221698e-02,  2.60705352e-01,\n",
       "        4.63736281e-02,  2.89714783e-01, -1.30546287e-01, -7.59219080e-02,\n",
       "       -7.23262783e-03,  2.78900117e-01,  5.03333881e-02, -2.47787684e-02,\n",
       "        1.45272866e-01,  5.46089490e-04, -1.30821140e-02,  2.28861853e-01,\n",
       "       -2.56345242e-01,  4.63370779e-05,  6.67040274e-02, -2.48847026e-02,\n",
       "        1.45340696e-01, -3.77245724e-01,  8.08738470e-02, -3.87034044e-02,\n",
       "        1.31838083e-01, -1.08250484e-01, -4.68693599e-02,  2.74105757e-01],\n",
       "      dtype=float32)"
      ]
     },
     "execution_count": 35,
     "metadata": {},
     "output_type": "execute_result"
    }
   ],
   "source": [
    "model.wv[\"ALA\"]"
   ]
  },
  {
   "cell_type": "code",
   "execution_count": 36,
   "metadata": {
    "colab": {
     "autoexec": {
      "startup": false,
      "wait_interval": 0
     },
     "base_uri": "https://localhost:8080/",
     "height": 193
    },
    "colab_type": "code",
    "executionInfo": {
     "elapsed": 502,
     "status": "ok",
     "timestamp": 1526532837502,
     "user": {
      "displayName": "大下健史",
      "photoUrl": "https://lh3.googleusercontent.com/a/default-user=s128",
      "userId": "114806679545096700120"
     },
     "user_tz": -540
    },
    "id": "UVkH-ckgP1Wv",
    "outputId": "2c25e916-80db-4dfd-df56-9afebb3bf901"
   },
   "outputs": [
    {
     "name": "stderr",
     "output_type": "stream",
     "text": [
      "C:\\Users\\satou.tatsuya\\Anaconda3\\lib\\site-packages\\gensim\\matutils.py:737: FutureWarning: Conversion of the second argument of issubdtype from `int` to `np.signedinteger` is deprecated. In future, it will be treated as `np.int32 == np.dtype(int).type`.\n",
      "  if np.issubdtype(vec.dtype, np.int):\n"
     ]
    },
    {
     "data": {
      "text/plain": [
       "[('patients', 0.9997957944869995),\n",
       " ('SFC', 0.9997893571853638),\n",
       " ('systemic', 0.9997838735580444),\n",
       " ('IWT', 0.9997822642326355),\n",
       " ('topical', 0.9997751712799072),\n",
       " ('initial', 0.999767005443573),\n",
       " ('cell', 0.9997617602348328),\n",
       " ('mixed', 0.9997607469558716),\n",
       " ('This', 0.9997581243515015),\n",
       " ('different', 0.9997581243515015)]"
      ]
     },
     "execution_count": 36,
     "metadata": {},
     "output_type": "execute_result"
    }
   ],
   "source": [
    "model.wv.similar_by_word(\"ALA\")"
   ]
  },
  {
   "cell_type": "code",
   "execution_count": 37,
   "metadata": {
    "colab": {
     "autoexec": {
      "startup": false,
      "wait_interval": 0
     }
    },
    "colab_type": "code",
    "id": "wxDmaJwTawn2"
   },
   "outputs": [
    {
     "ename": "SyntaxError",
     "evalue": "invalid syntax (<ipython-input-37-0c193cf79656>, line 1)",
     "output_type": "error",
     "traceback": [
      "\u001b[1;36m  File \u001b[1;32m\"<ipython-input-37-0c193cf79656>\"\u001b[1;36m, line \u001b[1;32m1\u001b[0m\n\u001b[1;33m    k = model.wv.\u001b[0m\n\u001b[1;37m                 ^\u001b[0m\n\u001b[1;31mSyntaxError\u001b[0m\u001b[1;31m:\u001b[0m invalid syntax\n"
     ]
    }
   ],
   "source": [
    "k = model.wv.\n",
    "model.wv.similar_by_vector()"
   ]
  },
  {
   "cell_type": "code",
   "execution_count": 38,
   "metadata": {
    "colab": {
     "autoexec": {
      "startup": false,
      "wait_interval": 0
     },
     "base_uri": "https://localhost:8080/",
     "height": 193
    },
    "colab_type": "code",
    "executionInfo": {
     "elapsed": 532,
     "status": "ok",
     "timestamp": 1526452964380,
     "user": {
      "displayName": "大下健史",
      "photoUrl": "https://lh3.googleusercontent.com/a/default-user=s128",
      "userId": "114806679545096700120"
     },
     "user_tz": -540
    },
    "id": "ZH5hR1M0r3Ri",
    "outputId": "78c2cf9d-a48c-4918-eee3-bb09d764bffe"
   },
   "outputs": [
    {
     "name": "stderr",
     "output_type": "stream",
     "text": [
      "C:\\Users\\satou.tatsuya\\Anaconda3\\lib\\site-packages\\gensim\\matutils.py:737: FutureWarning: Conversion of the second argument of issubdtype from `int` to `np.signedinteger` is deprecated. In future, it will be treated as `np.int32 == np.dtype(int).type`.\n",
      "  if np.issubdtype(vec.dtype, np.int):\n"
     ]
    },
    {
     "data": {
      "text/plain": [
       "[('5-ALA', 0.9997895359992981),\n",
       " ('These', 0.9997496008872986),\n",
       " ('value', 0.9997491836547852),\n",
       " ('patients', 0.9997302293777466),\n",
       " ('cell', 0.9997259378433228),\n",
       " ('steatohepatic', 0.9997179508209229),\n",
       " ('underwent', 0.9997175931930542),\n",
       " ('initial', 0.9997169375419617),\n",
       " ('achieved', 0.9997166395187378),\n",
       " ('We', 0.999714195728302)]"
      ]
     },
     "execution_count": 38,
     "metadata": {},
     "output_type": "execute_result"
    }
   ],
   "source": [
    "model.wv.similar_by_word(\"aminolevulinic\")"
   ]
  },
  {
   "cell_type": "code",
   "execution_count": 39,
   "metadata": {
    "colab": {
     "autoexec": {
      "startup": false,
      "wait_interval": 0
     },
     "base_uri": "https://localhost:8080/",
     "height": 193
    },
    "colab_type": "code",
    "executionInfo": {
     "elapsed": 720,
     "status": "ok",
     "timestamp": 1526364428277,
     "user": {
      "displayName": "大下健史",
      "photoUrl": "https://lh3.googleusercontent.com/a/default-user=s128",
      "userId": "114806679545096700120"
     },
     "user_tz": -540
    },
    "id": "H8MUY1_TXowO",
    "outputId": "b75d98d2-dbe2-4560-f686-d90005f9d9c2"
   },
   "outputs": [
    {
     "name": "stderr",
     "output_type": "stream",
     "text": [
      "C:\\Users\\satou.tatsuya\\Anaconda3\\lib\\site-packages\\gensim\\matutils.py:737: FutureWarning: Conversion of the second argument of issubdtype from `int` to `np.signedinteger` is deprecated. In future, it will be treated as `np.int32 == np.dtype(int).type`.\n",
      "  if np.issubdtype(vec.dtype, np.int):\n"
     ]
    },
    {
     "data": {
      "text/plain": [
       "[('In', 0.9997978210449219),\n",
       " ('accumulation', 0.9997879862785339),\n",
       " ('inhibitors', 0.9997871518135071),\n",
       " ('oncogenic', 0.9997854828834534),\n",
       " ('mechanisms', 0.9997830986976624),\n",
       " ('Ras', 0.99978107213974),\n",
       " ('identify', 0.99977707862854),\n",
       " ('reduced', 0.9997748732566833),\n",
       " ('comb', 0.9997730255126953),\n",
       " ('normal', 0.9997682571411133)]"
      ]
     },
     "execution_count": 39,
     "metadata": {},
     "output_type": "execute_result"
    }
   ],
   "source": [
    "model.wv.similar_by_word(\"PpIX\")"
   ]
  },
  {
   "cell_type": "code",
   "execution_count": 40,
   "metadata": {
    "colab": {
     "autoexec": {
      "startup": false,
      "wait_interval": 0
     },
     "base_uri": "https://localhost:8080/",
     "height": 122
    },
    "colab_type": "code",
    "executionInfo": {
     "elapsed": 786,
     "status": "ok",
     "timestamp": 1527223647199,
     "user": {
      "displayName": "大下健史",
      "photoUrl": "https://lh3.googleusercontent.com/a/default-user=s128",
      "userId": "114806679545096700120"
     },
     "user_tz": -540
    },
    "id": "nqcqRxcLcb4e",
    "outputId": "c2372522-b51a-43a3-a82f-a8a47ba7c408"
   },
   "outputs": [
    {
     "name": "stdout",
     "output_type": "stream",
     "text": [
      "[ALA] 0.9989113680453082\n",
      "[ALA-PDT] 0.9984315819914417\n",
      "[PpIX] 0.9988798524198905\n",
      "[photodynamic] 0.9988963732026223\n",
      "[topical] 0.9987261070138134\n",
      "[ALA+PpIX] 0.9990181922231545\n"
     ]
    }
   ],
   "source": [
    "import numpy\n",
    "\n",
    "def print_corr(w=\"ALA\"):\n",
    "  x = model.docvecs[\"d00\"]\n",
    "  y = model.wv[w]\n",
    "  crr = numpy.corrcoef(x, y)[1][0]\n",
    "  print(f\"[{w}]\", crr)\n",
    "\n",
    "print_corr(\"ALA\")\n",
    "print_corr(\"ALA-PDT\")\n",
    "print_corr(\"PpIX\")\n",
    "print_corr(\"photodynamic\")\n",
    "print_corr(\"topical\")\n",
    "\n",
    "x = model.docvecs[\"d00\"]\n",
    "y = model.wv[\"ALA\"] + model.wv[\"PpIX\"]\n",
    "print(\"[ALA+PpIX]\", numpy.corrcoef(x, y)[1][0])\n"
   ]
  },
  {
   "cell_type": "markdown",
   "metadata": {
    "colab_type": "text",
    "id": "WRpV4ojic8Do"
   },
   "source": [
    "### 単語ベクトルの可視化"
   ]
  },
  {
   "cell_type": "code",
   "execution_count": 41,
   "metadata": {
    "colab": {
     "autoexec": {
      "startup": false,
      "wait_interval": 0
     },
     "base_uri": "https://localhost:8080/",
     "height": 13023
    },
    "colab_type": "code",
    "executionInfo": {
     "elapsed": 654,
     "status": "ok",
     "timestamp": 1526534065539,
     "user": {
      "displayName": "大下健史",
      "photoUrl": "https://lh3.googleusercontent.com/a/default-user=s128",
      "userId": "114806679545096700120"
     },
     "user_tz": -540
    },
    "id": "uyQtP0gLc7Wt",
    "outputId": "86789562-4f87-4d0c-b0fa-5748fa2214ad"
   },
   "outputs": [
    {
     "data": {
      "text/plain": [
       "{'This': <gensim.models.keyedvectors.Vocab at 0xafcc198>,\n",
       " 'study': <gensim.models.keyedvectors.Vocab at 0xafcc940>,\n",
       " 'aimed': <gensim.models.keyedvectors.Vocab at 0xafcca58>,\n",
       " 'produce': <gensim.models.keyedvectors.Vocab at 0xafcc908>,\n",
       " 'inexpensive': <gensim.models.keyedvectors.Vocab at 0xafccda0>,\n",
       " '5-aminolevulinic': <gensim.models.keyedvectors.Vocab at 0xafccd30>,\n",
       " 'acid': <gensim.models.keyedvectors.Vocab at 0xafcc860>,\n",
       " 'ALA': <gensim.models.keyedvectors.Vocab at 0xafcc518>,\n",
       " 'non-sterile': <gensim.models.keyedvectors.Vocab at 0xafcc400>,\n",
       " 'latex': <gensim.models.keyedvectors.Vocab at 0xafcc320>,\n",
       " 'rubber': <gensim.models.keyedvectors.Vocab at 0xafcceb8>,\n",
       " 'sheet': <gensim.models.keyedvectors.Vocab at 0xafcce10>,\n",
       " 'wastewater': <gensim.models.keyedvectors.Vocab at 0xafcc4e0>,\n",
       " 'RSW': <gensim.models.keyedvectors.Vocab at 0xafccf28>,\n",
       " 'Rhodopseudomonas': <gensim.models.keyedvectors.Vocab at 0xafccdd8>,\n",
       " 'palustris': <gensim.models.keyedvectors.Vocab at 0xafccf60>,\n",
       " 'TN114': <gensim.models.keyedvectors.Vocab at 0xb002c18>,\n",
       " 'PP803': <gensim.models.keyedvectors.Vocab at 0xb002b70>,\n",
       " 'possibility': <gensim.models.keyedvectors.Vocab at 0xb027c50>,\n",
       " 'use': <gensim.models.keyedvectors.Vocab at 0xaff8470>,\n",
       " 'agricultural': <gensim.models.keyedvectors.Vocab at 0xb028400>,\n",
       " 'purposes': <gensim.models.keyedvectors.Vocab at 0xb028630>,\n",
       " 'investigating': <gensim.models.keyedvectors.Vocab at 0xb028748>,\n",
       " 'optimum': <gensim.models.keyedvectors.Vocab at 0xb028a90>,\n",
       " 'conditions': <gensim.models.keyedvectors.Vocab at 0xb028cf8>,\n",
       " 'applying': <gensim.models.keyedvectors.Vocab at 0xb028e10>,\n",
       " 'wood': <gensim.models.keyedvectors.Vocab at 0xb028fd0>,\n",
       " 'vinegar': <gensim.models.keyedvectors.Vocab at 0xb0292e8>,\n",
       " 'WV': <gensim.models.keyedvectors.Vocab at 0xb0294e0>,\n",
       " 'economical': <gensim.models.keyedvectors.Vocab at 0xb029518>,\n",
       " 'source': <gensim.models.keyedvectors.Vocab at 0xb0295f8>,\n",
       " 'levulinic': <gensim.models.keyedvectors.Vocab at 0xb0297f0>,\n",
       " 'enhance': <gensim.models.keyedvectors.Vocab at 0xb029860>,\n",
       " 'content': <gensim.models.keyedvectors.Vocab at 0xb029898>,\n",
       " 'The': <gensim.models.keyedvectors.Vocab at 0xb029ba8>,\n",
       " 'Box-Behnken': <gensim.models.keyedvectors.Vocab at 0xb029c50>,\n",
       " 'Design': <gensim.models.keyedvectors.Vocab at 0xb029dd8>,\n",
       " 'experiment': <gensim.models.keyedvectors.Vocab at 0xb029fd0>,\n",
       " 'conducted': <gensim.models.keyedvectors.Vocab at 0xb02a1d0>,\n",
       " 'microaerobic-light': <gensim.models.keyedvectors.Vocab at 0xb02a278>,\n",
       " '96': <gensim.models.keyedvectors.Vocab at 0xb02a3c8>,\n",
       " 'h': <gensim.models.keyedvectors.Vocab at 0xb02a588>,\n",
       " 'mixed': <gensim.models.keyedvectors.Vocab at 0xb02a668>,\n",
       " 'culture': <gensim.models.keyedvectors.Vocab at 0xb02a898>,\n",
       " '1:1': <gensim.models.keyedvectors.Vocab at 0xb02a9b0>,\n",
       " 'varying': <gensim.models.keyedvectors.Vocab at 0xb02a9e8>,\n",
       " 'initial': <gensim.models.keyedvectors.Vocab at 0xb02aa58>,\n",
       " 'pH': <gensim.models.keyedvectors.Vocab at 0xb02aac8>,\n",
       " 'inoculum': <gensim.models.keyedvectors.Vocab at 0xb02ab00>,\n",
       " 'size': <gensim.models.keyedvectors.Vocab at 0xb02aba8>,\n",
       " 'v/v': <gensim.models.keyedvectors.Vocab at 0xb02abe0>,\n",
       " 'chemical': <gensim.models.keyedvectors.Vocab at 0xb02ac88>,\n",
       " 'oxygen': <gensim.models.keyedvectors.Vocab at 0xb02acf8>,\n",
       " 'demand': <gensim.models.keyedvectors.Vocab at 0xb02ada0>,\n",
       " 'COD': <gensim.models.keyedvectors.Vocab at 0xb02aeb8>,\n",
       " 'mg/L': <gensim.models.keyedvectors.Vocab at 0xb02af28>,\n",
       " 'Results': <gensim.models.keyedvectors.Vocab at 0xb02afd0>,\n",
       " 'showed': <gensim.models.keyedvectors.Vocab at 0xb02d0b8>,\n",
       " 'optimal': <gensim.models.keyedvectors.Vocab at 0xb02d128>,\n",
       " 'condition': <gensim.models.keyedvectors.Vocab at 0xb02d1d0>,\n",
       " 'set': <gensim.models.keyedvectors.Vocab at 0xb02d278>,\n",
       " 'extracellular': <gensim.models.keyedvectors.Vocab at 0xb02d320>,\n",
       " 'found': <gensim.models.keyedvectors.Vocab at 0xb02d358>,\n",
       " '7.50': <gensim.models.keyedvectors.Vocab at 0xb02d390>,\n",
       " '6.00': <gensim.models.keyedvectors.Vocab at 0xb02d4e0>,\n",
       " '2000': <gensim.models.keyedvectors.Vocab at 0xb02d5c0>,\n",
       " '7.00': <gensim.models.keyedvectors.Vocab at 0xb02d748>,\n",
       " '3000': <gensim.models.keyedvectors.Vocab at 0xb02d780>,\n",
       " '4000': <gensim.models.keyedvectors.Vocab at 0xb02d7b8>,\n",
       " 'achieved': <gensim.models.keyedvectors.Vocab at 0xb02d7f0>,\n",
       " 'reduction': <gensim.models.keyedvectors.Vocab at 0xb02d828>,\n",
       " 'high': <gensim.models.keyedvectors.Vocab at 0xb02d860>,\n",
       " '63': <gensim.models.keyedvectors.Vocab at 0xb02d898>,\n",
       " '71': <gensim.models.keyedvectors.Vocab at 0xb02d8d0>,\n",
       " '75': <gensim.models.keyedvectors.Vocab at 0xb02d908>,\n",
       " 'respectively': <gensim.models.keyedvectors.Vocab at 0xb02d940>,\n",
       " 'Addition': <gensim.models.keyedvectors.Vocab at 0xb02d978>,\n",
       " 'concentration': <gensim.models.keyedvectors.Vocab at 0xb02d9b0>,\n",
       " 'mid': <gensim.models.keyedvectors.Vocab at 0xb02d9e8>,\n",
       " 'log': <gensim.models.keyedvectors.Vocab at 0xb02da20>,\n",
       " 'phase': <gensim.models.keyedvectors.Vocab at 0xb02dac8>,\n",
       " '0.63': <gensim.models.keyedvectors.Vocab at 0xb02db00>,\n",
       " '1.25': <gensim.models.keyedvectors.Vocab at 0xb02db38>,\n",
       " 'significantly': <gensim.models.keyedvectors.Vocab at 0xb02db70>,\n",
       " 'increased': <gensim.models.keyedvectors.Vocab at 0xb02dba8>,\n",
       " '3.7-4.2': <gensim.models.keyedvectors.Vocab at 0xb02dbe0>,\n",
       " 'times': <gensim.models.keyedvectors.Vocab at 0xb02dc18>,\n",
       " '128': <gensim.models.keyedvectors.Vocab at 0xb02dc50>,\n",
       " '90': <gensim.models.keyedvectors.Vocab at 0xb02dc88>,\n",
       " '131': <gensim.models.keyedvectors.Vocab at 0xb02dcc0>,\n",
       " 'μM': <gensim.models.keyedvectors.Vocab at 0xb02dcf8>,\n",
       " 'compared': <gensim.models.keyedvectors.Vocab at 0xb02dd30>,\n",
       " 'controls': <gensim.models.keyedvectors.Vocab at 0xb02dd68>,\n",
       " 'production': <gensim.models.keyedvectors.Vocab at 0xb02dda0>,\n",
       " 'cost': <gensim.models.keyedvectors.Vocab at 0xb02ddd8>,\n",
       " 'could': <gensim.models.keyedvectors.Vocab at 0xb02de10>,\n",
       " 'reduced': <gensim.models.keyedvectors.Vocab at 0xb02de48>,\n",
       " 'approximately': <gensim.models.keyedvectors.Vocab at 0xb02de80>,\n",
       " '31': <gensim.models.keyedvectors.Vocab at 0xb02deb8>,\n",
       " 'basis': <gensim.models.keyedvectors.Vocab at 0xb02def0>,\n",
       " 'amount': <gensim.models.keyedvectors.Vocab at 0xb02df28>,\n",
       " 'used': <gensim.models.keyedvectors.Vocab at 0xb02df60>,\n",
       " 'Effluent': <gensim.models.keyedvectors.Vocab at 0xb02df98>,\n",
       " 'containing': <gensim.models.keyedvectors.Vocab at 0xb02dfd0>,\n",
       " 'using': <gensim.models.keyedvectors.Vocab at 0xb030048>,\n",
       " 'agriculture': <gensim.models.keyedvectors.Vocab at 0xb030080>,\n",
       " 'treating': <gensim.models.keyedvectors.Vocab at 0xb0300b8>,\n",
       " 'selected': <gensim.models.keyedvectors.Vocab at 0xb0300f0>,\n",
       " 'producer': <gensim.models.keyedvectors.Vocab at 0xb030128>,\n",
       " 'R.': <gensim.models.keyedvectors.Vocab at 0xb030160>,\n",
       " 'strains': <gensim.models.keyedvectors.Vocab at 0xb030198>,\n",
       " 'optimized': <gensim.models.keyedvectors.Vocab at 0xb0301d0>,\n",
       " 'little': <gensim.models.keyedvectors.Vocab at 0xb030208>,\n",
       " 'additive': <gensim.models.keyedvectors.Vocab at 0xb030240>,\n",
       " 'Depressive': <gensim.models.keyedvectors.Vocab at 0xb030278>,\n",
       " 'patients': <gensim.models.keyedvectors.Vocab at 0xb0302b0>,\n",
       " 'often': <gensim.models.keyedvectors.Vocab at 0xb0302e8>,\n",
       " 'experience': <gensim.models.keyedvectors.Vocab at 0xb030320>,\n",
       " 'difficulty': <gensim.models.keyedvectors.Vocab at 0xb030358>,\n",
       " 'performing': <gensim.models.keyedvectors.Vocab at 0xb030390>,\n",
       " 'exercise': <gensim.models.keyedvectors.Vocab at 0xb0303c8>,\n",
       " 'due': <gensim.models.keyedvectors.Vocab at 0xb030400>,\n",
       " 'physical': <gensim.models.keyedvectors.Vocab at 0xb030438>,\n",
       " 'psychological': <gensim.models.keyedvectors.Vocab at 0xb030470>,\n",
       " 'barriers': <gensim.models.keyedvectors.Vocab at 0xb0304a8>,\n",
       " 'We': <gensim.models.keyedvectors.Vocab at 0xb0304e0>,\n",
       " 'examined': <gensim.models.keyedvectors.Vocab at 0xb030518>,\n",
       " 'effects': <gensim.models.keyedvectors.Vocab at 0xb030550>,\n",
       " 'sodium': <gensim.models.keyedvectors.Vocab at 0xb030588>,\n",
       " 'ferrous': <gensim.models.keyedvectors.Vocab at 0xb0305c0>,\n",
       " 'citrate': <gensim.models.keyedvectors.Vocab at 0xb0305f8>,\n",
       " 'SFC': <gensim.models.keyedvectors.Vocab at 0xb030630>,\n",
       " 'supplementation': <gensim.models.keyedvectors.Vocab at 0xb030668>,\n",
       " 'home-based': <gensim.models.keyedvectors.Vocab at 0xb0306a0>,\n",
       " 'walking': <gensim.models.keyedvectors.Vocab at 0xb0306d8>,\n",
       " 'training': <gensim.models.keyedvectors.Vocab at 0xb030710>,\n",
       " 'middle-aged': <gensim.models.keyedvectors.Vocab at 0xb030748>,\n",
       " 'depressive': <gensim.models.keyedvectors.Vocab at 0xb030780>,\n",
       " 'women': <gensim.models.keyedvectors.Vocab at 0xb0307b8>,\n",
       " 'Nine': <gensim.models.keyedvectors.Vocab at 0xb0307f0>,\n",
       " 'outpatients': <gensim.models.keyedvectors.Vocab at 0xb030828>,\n",
       " '53': <gensim.models.keyedvectors.Vocab at 0xb030860>,\n",
       " '±': <gensim.models.keyedvectors.Vocab at 0xb030898>,\n",
       " '8': <gensim.models.keyedvectors.Vocab at 0xb0308d0>,\n",
       " 'SD': <gensim.models.keyedvectors.Vocab at 0xb030908>,\n",
       " 'yr': <gensim.models.keyedvectors.Vocab at 0xb030940>,\n",
       " 'major': <gensim.models.keyedvectors.Vocab at 0xb030978>,\n",
       " 'disorder': <gensim.models.keyedvectors.Vocab at 0xb0309b0>,\n",
       " 'participated': <gensim.models.keyedvectors.Vocab at 0xb0309e8>,\n",
       " 'pilot': <gensim.models.keyedvectors.Vocab at 0xb030a20>,\n",
       " 'randomized': <gensim.models.keyedvectors.Vocab at 0xb030a58>,\n",
       " 'placebo-controlled': <gensim.models.keyedvectors.Vocab at 0xb030a90>,\n",
       " 'double-blind': <gensim.models.keyedvectors.Vocab at 0xb030ac8>,\n",
       " 'crossover': <gensim.models.keyedvectors.Vocab at 0xb030b00>,\n",
       " 'design': <gensim.models.keyedvectors.Vocab at 0xb030b38>,\n",
       " 'They': <gensim.models.keyedvectors.Vocab at 0xb030b70>,\n",
       " 'underwent': <gensim.models.keyedvectors.Vocab at 0xb030ba8>,\n",
       " 'two': <gensim.models.keyedvectors.Vocab at 0xb030be0>,\n",
       " 'trials': <gensim.models.keyedvectors.Vocab at 0xb030c18>,\n",
       " '7': <gensim.models.keyedvectors.Vocab at 0xb030c50>,\n",
       " 'days': <gensim.models.keyedvectors.Vocab at 0xb030c88>,\n",
       " 'interval': <gensim.models.keyedvectors.Vocab at 0xb030cc0>,\n",
       " 'IWT': <gensim.models.keyedvectors.Vocab at 0xb030cf8>,\n",
       " 'placebo': <gensim.models.keyedvectors.Vocab at 0xb030d30>,\n",
       " 'supplement': <gensim.models.keyedvectors.Vocab at 0xb030d68>,\n",
       " 'intake': <gensim.models.keyedvectors.Vocab at 0xb030da0>,\n",
       " 'PLC': <gensim.models.keyedvectors.Vocab at 0xb030dd8>,\n",
       " 'intermittently': <gensim.models.keyedvectors.Vocab at 0xb030e10>,\n",
       " '10-day': <gensim.models.keyedvectors.Vocab at 0xb030e48>,\n",
       " 'washout': <gensim.models.keyedvectors.Vocab at 0xb030e80>,\n",
       " 'period': <gensim.models.keyedvectors.Vocab at 0xb030eb8>,\n",
       " 'For': <gensim.models.keyedvectors.Vocab at 0xb030ef0>,\n",
       " 'first': <gensim.models.keyedvectors.Vocab at 0xb030f28>,\n",
       " '6': <gensim.models.keyedvectors.Vocab at 0xb030f60>,\n",
       " 'trial': <gensim.models.keyedvectors.Vocab at 0xb030f98>,\n",
       " 'intensity': <gensim.models.keyedvectors.Vocab at 0xb030fd0>,\n",
       " 'measured': <gensim.models.keyedvectors.Vocab at 0xb031048>,\n",
       " 'accelerometry': <gensim.models.keyedvectors.Vocab at 0xb031080>,\n",
       " 'Before': <gensim.models.keyedvectors.Vocab at 0xb0310b8>,\n",
       " 'subjects': <gensim.models.keyedvectors.Vocab at 0xb0310f0>,\n",
       " 'graded': <gensim.models.keyedvectors.Vocab at 0xb031128>,\n",
       " 'cycling': <gensim.models.keyedvectors.Vocab at 0xb031160>,\n",
       " 'test': <gensim.models.keyedvectors.Vocab at 0xb031198>,\n",
       " 'lactate': <gensim.models.keyedvectors.Vocab at 0xb0311d0>,\n",
       " 'plasma': <gensim.models.keyedvectors.Vocab at 0xb031208>,\n",
       " 'Lac-': <gensim.models.keyedvectors.Vocab at 0xb031240>,\n",
       " 'p': <gensim.models.keyedvectors.Vocab at 0xb031278>,\n",
       " 'consumption': <gensim.models.keyedvectors.Vocab at 0xb0312b0>,\n",
       " 'rate': <gensim.models.keyedvectors.Vocab at 0xb0312e8>,\n",
       " 'Formula': <gensim.models.keyedvectors.Vocab at 0xb031320>,\n",
       " 'see': <gensim.models.keyedvectors.Vocab at 0xb031358>,\n",
       " 'text': <gensim.models.keyedvectors.Vocab at 0xb031390>,\n",
       " 'carbon': <gensim.models.keyedvectors.Vocab at 0xb0313c8>,\n",
       " 'dioxide': <gensim.models.keyedvectors.Vocab at 0xb031400>,\n",
       " 'depression': <gensim.models.keyedvectors.Vocab at 0xb031438>,\n",
       " 'severity': <gensim.models.keyedvectors.Vocab at 0xb031470>,\n",
       " 'Montgomery-Åsberg': <gensim.models.keyedvectors.Vocab at 0xb0314a8>,\n",
       " 'Depression': <gensim.models.keyedvectors.Vocab at 0xb0314e0>,\n",
       " 'Rating': <gensim.models.keyedvectors.Vocab at 0xb031518>,\n",
       " 'Scale': <gensim.models.keyedvectors.Vocab at 0xb031550>,\n",
       " 'MADRS': <gensim.models.keyedvectors.Vocab at 0xb031588>,\n",
       " 'increases': <gensim.models.keyedvectors.Vocab at 0xb0315c0>,\n",
       " 'attenuated': <gensim.models.keyedvectors.Vocab at 0xb0315f8>,\n",
       " 'vs.': <gensim.models.keyedvectors.Vocab at 0xb031630>,\n",
       " '×': <gensim.models.keyedvectors.Vocab at 0xb031668>,\n",
       " 'workload': <gensim.models.keyedvectors.Vocab at 0xb0316a0>,\n",
       " 'P': <gensim.models.keyedvectors.Vocab at 0xb0316d8>,\n",
       " '0.01': <gensim.models.keyedvectors.Vocab at 0xb031710>,\n",
       " 'accompanied': <gensim.models.keyedvectors.Vocab at 0xb031748>,\n",
       " 'impulse': <gensim.models.keyedvectors.Vocab at 0xb031780>,\n",
       " 'time': <gensim.models.keyedvectors.Vocab at 0xb0317b8>,\n",
       " 'fast': <gensim.models.keyedvectors.Vocab at 0xb0317f0>,\n",
       " '0.05': <gensim.models.keyedvectors.Vocab at 0xb031828>,\n",
       " 'decreased': <gensim.models.keyedvectors.Vocab at 0xb031860>,\n",
       " 'MADRS-score': <gensim.models.keyedvectors.Vocab at 0xb031898>,\n",
       " '0.001': <gensim.models.keyedvectors.Vocab at 0xb0318d0>,\n",
       " 'Thus': <gensim.models.keyedvectors.Vocab at 0xb031908>,\n",
       " 'achievement': <gensim.models.keyedvectors.Vocab at 0xb031940>,\n",
       " 'improve': <gensim.models.keyedvectors.Vocab at 0xb031978>,\n",
       " 'symptoms': <gensim.models.keyedvectors.Vocab at 0xb0319b0>,\n",
       " 'OBJECTIVE': <gensim.models.keyedvectors.Vocab at 0xb0319e8>,\n",
       " 'To': <gensim.models.keyedvectors.Vocab at 0xb031a20>,\n",
       " 'curative': <gensim.models.keyedvectors.Vocab at 0xb031a58>,\n",
       " 'effect': <gensim.models.keyedvectors.Vocab at 0xb031a90>,\n",
       " 'red-light': <gensim.models.keyedvectors.Vocab at 0xb031ac8>,\n",
       " '5-Aminolevulinic': <gensim.models.keyedvectors.Vocab at 0xb031b00>,\n",
       " 'photodynamic': <gensim.models.keyedvectors.Vocab at 0xb031b38>,\n",
       " 'therapy': <gensim.models.keyedvectors.Vocab at 0xb031b70>,\n",
       " 'ALA-PDT': <gensim.models.keyedvectors.Vocab at 0xb031ba8>,\n",
       " 'port': <gensim.models.keyedvectors.Vocab at 0xb031be0>,\n",
       " 'wine': <gensim.models.keyedvectors.Vocab at 0xb031c18>,\n",
       " 'stains': <gensim.models.keyedvectors.Vocab at 0xb031c50>,\n",
       " 'PWS': <gensim.models.keyedvectors.Vocab at 0xb031c88>,\n",
       " 'comb': <gensim.models.keyedvectors.Vocab at 0xb031cc0>,\n",
       " 'animal': <gensim.models.keyedvectors.Vocab at 0xb031cf8>,\n",
       " 'model': <gensim.models.keyedvectors.Vocab at 0xb031d30>,\n",
       " 'METHODS': <gensim.models.keyedvectors.Vocab at 0xb031d68>,\n",
       " '160': <gensim.models.keyedvectors.Vocab at 0xb031da0>,\n",
       " 'male': <gensim.models.keyedvectors.Vocab at 0xb031dd8>,\n",
       " 'cocks': <gensim.models.keyedvectors.Vocab at 0xb031e10>,\n",
       " 'randomly': <gensim.models.keyedvectors.Vocab at 0xb031e48>,\n",
       " 'divided': <gensim.models.keyedvectors.Vocab at 0xb031e80>,\n",
       " '16': <gensim.models.keyedvectors.Vocab at 0xb031eb8>,\n",
       " 'groups': <gensim.models.keyedvectors.Vocab at 0xb031ef0>,\n",
       " 'group': <gensim.models.keyedvectors.Vocab at 0xb031f28>,\n",
       " 'given': <gensim.models.keyedvectors.Vocab at 0xb031f60>,\n",
       " 'topical': <gensim.models.keyedvectors.Vocab at 0xb031f98>,\n",
       " 'systemic': <gensim.models.keyedvectors.Vocab at 0xb031fd0>,\n",
       " 'application': <gensim.models.keyedvectors.Vocab at 0xb033048>,\n",
       " 'Light': <gensim.models.keyedvectors.Vocab at 0xb033080>,\n",
       " '630': <gensim.models.keyedvectors.Vocab at 0xb0330b8>,\n",
       " 'nm': <gensim.models.keyedvectors.Vocab at 0xb0330f0>,\n",
       " 'red': <gensim.models.keyedvectors.Vocab at 0xb033128>,\n",
       " 'light': <gensim.models.keyedvectors.Vocab at 0xb033160>,\n",
       " 'irradiation': <gensim.models.keyedvectors.Vocab at 0xb033198>,\n",
       " 'different': <gensim.models.keyedvectors.Vocab at 0xb0331d0>,\n",
       " 'density': <gensim.models.keyedvectors.Vocab at 0xb033208>,\n",
       " 'ALA.': <gensim.models.keyedvectors.Vocab at 0xb033240>,\n",
       " 'PDL': <gensim.models.keyedvectors.Vocab at 0xb033278>,\n",
       " 'distribution': <gensim.models.keyedvectors.Vocab at 0xb0332b0>,\n",
       " 'fluorescence': <gensim.models.keyedvectors.Vocab at 0xb0332e8>,\n",
       " 'tissue': <gensim.models.keyedvectors.Vocab at 0xb033320>,\n",
       " 'detected': <gensim.models.keyedvectors.Vocab at 0xb033358>,\n",
       " 'morphological': <gensim.models.keyedvectors.Vocab at 0xb033390>,\n",
       " 'changes': <gensim.models.keyedvectors.Vocab at 0xb0333c8>,\n",
       " 'pathological': <gensim.models.keyedvectors.Vocab at 0xb033400>,\n",
       " 'capillary': <gensim.models.keyedvectors.Vocab at 0xb033438>,\n",
       " 'observed': <gensim.models.keyedvectors.Vocab at 0xb033470>,\n",
       " 'treatment': <gensim.models.keyedvectors.Vocab at 0xb0334a8>,\n",
       " '0': <gensim.models.keyedvectors.Vocab at 0xb0334e0>,\n",
       " '1': <gensim.models.keyedvectors.Vocab at 0xb033518>,\n",
       " '3': <gensim.models.keyedvectors.Vocab at 0xb033550>,\n",
       " '5': <gensim.models.keyedvectors.Vocab at 0xb033588>,\n",
       " '14': <gensim.models.keyedvectors.Vocab at 0xb0335c0>,\n",
       " 'RESULTS': <gensim.models.keyedvectors.Vocab at 0xb0335f8>,\n",
       " 'PpIX': <gensim.models.keyedvectors.Vocab at 0xb033630>,\n",
       " 'generated': <gensim.models.keyedvectors.Vocab at 0xb033668>,\n",
       " 'In': <gensim.models.keyedvectors.Vocab at 0xb0336a0>,\n",
       " 'low': <gensim.models.keyedvectors.Vocab at 0xb0336d8>,\n",
       " '80': <gensim.models.keyedvectors.Vocab at 0xb033710>,\n",
       " 'J/cm2': <gensim.models.keyedvectors.Vocab at 0xb033748>,\n",
       " 'morphology': <gensim.models.keyedvectors.Vocab at 0xb033780>,\n",
       " 'histopathology': <gensim.models.keyedvectors.Vocab at 0xb0337b8>,\n",
       " 'obvious': <gensim.models.keyedvectors.Vocab at 0xb0337f0>,\n",
       " 'change': <gensim.models.keyedvectors.Vocab at 0xb033828>,\n",
       " 'While': <gensim.models.keyedvectors.Vocab at 0xb033860>,\n",
       " '200': <gensim.models.keyedvectors.Vocab at 0xb033898>,\n",
       " 'severe': <gensim.models.keyedvectors.Vocab at 0xb0338d0>,\n",
       " 'erosion': <gensim.models.keyedvectors.Vocab at 0xb033908>,\n",
       " 'thick': <gensim.models.keyedvectors.Vocab at 0xb033940>,\n",
       " 'scab': <gensim.models.keyedvectors.Vocab at 0xb033978>,\n",
       " 'appeared': <gensim.models.keyedvectors.Vocab at 0xb0339b0>,\n",
       " 'epidermal': <gensim.models.keyedvectors.Vocab at 0xb0339e8>,\n",
       " 'necrosis': <gensim.models.keyedvectors.Vocab at 0xb033a20>,\n",
       " 'loss': <gensim.models.keyedvectors.Vocab at 0xb033a58>,\n",
       " 'immunohistochemistry': <gensim.models.keyedvectors.Vocab at 0xb033a90>,\n",
       " 'significant': <gensim.models.keyedvectors.Vocab at 0xb033ac8>,\n",
       " 'number': <gensim.models.keyedvectors.Vocab at 0xb033b00>,\n",
       " 'capillaries': <gensim.models.keyedvectors.Vocab at 0xb033b38>,\n",
       " 'partial': <gensim.models.keyedvectors.Vocab at 0xb033b70>,\n",
       " 'thin': <gensim.models.keyedvectors.Vocab at 0xb033ba8>,\n",
       " 'side': <gensim.models.keyedvectors.Vocab at 0xb033be0>,\n",
       " 'With': <gensim.models.keyedvectors.Vocab at 0xb033c18>,\n",
       " 'increase': <gensim.models.keyedvectors.Vocab at 0xb033c50>,\n",
       " 'charred': <gensim.models.keyedvectors.Vocab at 0xb033c88>,\n",
       " 'crust': <gensim.models.keyedvectors.Vocab at 0xb033cc0>,\n",
       " 'even': <gensim.models.keyedvectors.Vocab at 0xb033cf8>,\n",
       " 'scar': <gensim.models.keyedvectors.Vocab at 0xb033d30>,\n",
       " 'degrees': <gensim.models.keyedvectors.Vocab at 0xb033d68>,\n",
       " 'damage': <gensim.models.keyedvectors.Vocab at 0xb033da0>,\n",
       " 'dermal': <gensim.models.keyedvectors.Vocab at 0xb033dd8>,\n",
       " 'tissues': <gensim.models.keyedvectors.Vocab at 0xb033e10>,\n",
       " 'And': <gensim.models.keyedvectors.Vocab at 0xb033e48>,\n",
       " 'control': <gensim.models.keyedvectors.Vocab at 0xb033e80>,\n",
       " 'ruddy': <gensim.models.keyedvectors.Vocab at 0xb033eb8>,\n",
       " 'plump': <gensim.models.keyedvectors.Vocab at 0xb033ef0>,\n",
       " 'CONCLUSION': <gensim.models.keyedvectors.Vocab at 0xb033f28>,\n",
       " 'These': <gensim.models.keyedvectors.Vocab at 0xb033f60>,\n",
       " 'results': <gensim.models.keyedvectors.Vocab at 0xb033f98>,\n",
       " 'suggest': <gensim.models.keyedvectors.Vocab at 0xb033fd0>,\n",
       " 'either': <gensim.models.keyedvectors.Vocab at 0xb035048>,\n",
       " 'suitable': <gensim.models.keyedvectors.Vocab at 0xb035080>,\n",
       " 'methods': <gensim.models.keyedvectors.Vocab at 0xb0350b8>,\n",
       " 'Copyright': <gensim.models.keyedvectors.Vocab at 0xb0350f0>,\n",
       " '©': <gensim.models.keyedvectors.Vocab at 0xb035128>,\n",
       " '2018': <gensim.models.keyedvectors.Vocab at 0xb035160>,\n",
       " 'Elsevier': <gensim.models.keyedvectors.Vocab at 0xb035198>,\n",
       " 'B.V.': <gensim.models.keyedvectors.Vocab at 0xb0351d0>,\n",
       " 'All': <gensim.models.keyedvectors.Vocab at 0xb035208>,\n",
       " 'rights': <gensim.models.keyedvectors.Vocab at 0xb035240>,\n",
       " 'reserved': <gensim.models.keyedvectors.Vocab at 0xb035278>,\n",
       " 'KEYWORDS': <gensim.models.keyedvectors.Vocab at 0xb0352b0>,\n",
       " 'BACKGROUND': <gensim.models.keyedvectors.Vocab at 0xb0352e8>,\n",
       " 'Patients': <gensim.models.keyedvectors.Vocab at 0xb035320>,\n",
       " 'suffering': <gensim.models.keyedvectors.Vocab at 0xb035358>,\n",
       " 'malignant': <gensim.models.keyedvectors.Vocab at 0xb035390>,\n",
       " 'gliomas': <gensim.models.keyedvectors.Vocab at 0xb0353c8>,\n",
       " 'poor': <gensim.models.keyedvectors.Vocab at 0xb035400>,\n",
       " 'prognosis': <gensim.models.keyedvectors.Vocab at 0xb035438>,\n",
       " 'surgical': <gensim.models.keyedvectors.Vocab at 0xb035470>,\n",
       " 'tumors': <gensim.models.keyedvectors.Vocab at 0xb0354a8>,\n",
       " '5-ALA': <gensim.models.keyedvectors.Vocab at 0xb0354e0>,\n",
       " 'become': <gensim.models.keyedvectors.Vocab at 0xb035518>,\n",
       " 'new': <gensim.models.keyedvectors.Vocab at 0xb035550>,\n",
       " 'standard': <gensim.models.keyedvectors.Vocab at 0xb035588>,\n",
       " 'AIMS': <gensim.models.keyedvectors.Vocab at 0xb0355c0>,\n",
       " 'review': <gensim.models.keyedvectors.Vocab at 0xb0355f8>,\n",
       " 'intends': <gensim.models.keyedvectors.Vocab at 0xb035630>,\n",
       " 'provide': <gensim.models.keyedvectors.Vocab at 0xb035668>,\n",
       " 'overview': <gensim.models.keyedvectors.Vocab at 0xb0356a0>,\n",
       " 'current': <gensim.models.keyedvectors.Vocab at 0xb0356d8>,\n",
       " 'status': <gensim.models.keyedvectors.Vocab at 0xb035710>,\n",
       " 'significance': <gensim.models.keyedvectors.Vocab at 0xb035748>,\n",
       " 'limitations': <gensim.models.keyedvectors.Vocab at 0xb035780>,\n",
       " 'future': <gensim.models.keyedvectors.Vocab at 0xb0357b8>,\n",
       " 'perspectives': <gensim.models.keyedvectors.Vocab at 0xb0357f0>,\n",
       " 'based': <gensim.models.keyedvectors.Vocab at 0xb035828>,\n",
       " 'guided': <gensim.models.keyedvectors.Vocab at 0xb035860>,\n",
       " 'surgery': <gensim.models.keyedvectors.Vocab at 0xb035898>,\n",
       " 'brain': <gensim.models.keyedvectors.Vocab at 0xb0358d0>,\n",
       " 'tumor': <gensim.models.keyedvectors.Vocab at 0xb035908>,\n",
       " 'MATERIALS': <gensim.models.keyedvectors.Vocab at 0xb035940>,\n",
       " 'AND': <gensim.models.keyedvectors.Vocab at 0xb035978>,\n",
       " 'From': <gensim.models.keyedvectors.Vocab at 0xb0359b0>,\n",
       " 'peer': <gensim.models.keyedvectors.Vocab at 0xb0359e8>,\n",
       " 'reviewed': <gensim.models.keyedvectors.Vocab at 0xb035a20>,\n",
       " 'publications': <gensim.models.keyedvectors.Vocab at 0xb035a58>,\n",
       " 'many': <gensim.models.keyedvectors.Vocab at 0xb035a90>,\n",
       " 'aspects': <gensim.models.keyedvectors.Vocab at 0xb035ac8>,\n",
       " 'connected': <gensim.models.keyedvectors.Vocab at 0xb035b00>,\n",
       " 'topic': <gensim.models.keyedvectors.Vocab at 0xb035b38>,\n",
       " 'potential': <gensim.models.keyedvectors.Vocab at 0xb035b70>,\n",
       " 'clinical': <gensim.models.keyedvectors.Vocab at 0xb035ba8>,\n",
       " 'relevance': <gensim.models.keyedvectors.Vocab at 0xb035be0>,\n",
       " 'put': <gensim.models.keyedvectors.Vocab at 0xb035c18>,\n",
       " 'context': <gensim.models.keyedvectors.Vocab at 0xb035c50>,\n",
       " 'DISCUSSION': <gensim.models.keyedvectors.Vocab at 0xb035c88>,\n",
       " 'selectivity': <gensim.models.keyedvectors.Vocab at 0xb035cc0>,\n",
       " 'accumulation': <gensim.models.keyedvectors.Vocab at 0xb035cf8>,\n",
       " 'fluorescent': <gensim.models.keyedvectors.Vocab at 0xb035d30>,\n",
       " 'protoporphyrin': <gensim.models.keyedvectors.Vocab at 0xb035d68>,\n",
       " 'IX': <gensim.models.keyedvectors.Vocab at 0xb035da0>,\n",
       " 'administration': <gensim.models.keyedvectors.Vocab at 0xb035dd8>,\n",
       " 'enables': <gensim.models.keyedvectors.Vocab at 0xb035e10>,\n",
       " 'intra-operative': <gensim.models.keyedvectors.Vocab at 0xb035e48>,\n",
       " 'guidance': <gensim.models.keyedvectors.Vocab at 0xb035e80>,\n",
       " 'unimpaired': <gensim.models.keyedvectors.Vocab at 0xb035eb8>,\n",
       " 'brainshift': <gensim.models.keyedvectors.Vocab at 0xb035ef0>,\n",
       " 'require': <gensim.models.keyedvectors.Vocab at 0xb035f28>,\n",
       " 'expensive': <gensim.models.keyedvectors.Vocab at 0xb035f60>,\n",
       " 'equipment': <gensim.models.keyedvectors.Vocab at 0xb035f98>,\n",
       " 'neurosurgical': <gensim.models.keyedvectors.Vocab at 0xb035fd0>,\n",
       " 'aim': <gensim.models.keyedvectors.Vocab at 0xb037048>,\n",
       " 'complete': <gensim.models.keyedvectors.Vocab at 0xb037080>,\n",
       " 'resection': <gensim.models.keyedvectors.Vocab at 0xb0370b8>,\n",
       " 'enhancing': <gensim.models.keyedvectors.Vocab at 0xb0370f0>,\n",
       " 'easily': <gensim.models.keyedvectors.Vocab at 0xb037128>,\n",
       " 'improves': <gensim.models.keyedvectors.Vocab at 0xb037160>,\n",
       " 'Nevertheless': <gensim.models.keyedvectors.Vocab at 0xb037198>,\n",
       " 'despite': <gensim.models.keyedvectors.Vocab at 0xb0371d0>,\n",
       " 'better': <gensim.models.keyedvectors.Vocab at 0xb037208>,\n",
       " 'inevitably': <gensim.models.keyedvectors.Vocab at 0xb037240>,\n",
       " 'recur': <gensim.models.keyedvectors.Vocab at 0xb037278>,\n",
       " 'order': <gensim.models.keyedvectors.Vocab at 0xb0372b0>,\n",
       " 'prolong': <gensim.models.keyedvectors.Vocab at 0xb0372e8>,\n",
       " 'survival': <gensim.models.keyedvectors.Vocab at 0xb037320>,\n",
       " 'phototoxic': <gensim.models.keyedvectors.Vocab at 0xb037358>,\n",
       " 'properties': <gensim.models.keyedvectors.Vocab at 0xb037390>,\n",
       " 'presently': <gensim.models.keyedvectors.Vocab at 0xb0373c8>,\n",
       " 'exploited': <gensim.models.keyedvectors.Vocab at 0xb037400>,\n",
       " 'post-operative': <gensim.models.keyedvectors.Vocab at 0xb037438>,\n",
       " 'interstitial': <gensim.models.keyedvectors.Vocab at 0xb037470>,\n",
       " 'PDT': <gensim.models.keyedvectors.Vocab at 0xb0374a8>,\n",
       " 'offer': <gensim.models.keyedvectors.Vocab at 0xb0374e0>,\n",
       " 'intriguing': <gensim.models.keyedvectors.Vocab at 0xb037518>,\n",
       " 'option': <gensim.models.keyedvectors.Vocab at 0xb037550>,\n",
       " 'management': <gensim.models.keyedvectors.Vocab at 0xb037588>,\n",
       " 'Lasers': <gensim.models.keyedvectors.Vocab at 0xb0375c0>,\n",
       " 'Surg': <gensim.models.keyedvectors.Vocab at 0xb0375f8>,\n",
       " 'Med': <gensim.models.keyedvectors.Vocab at 0xb037630>,\n",
       " '9999:1-21': <gensim.models.keyedvectors.Vocab at 0xb037668>,\n",
       " 'Wiley': <gensim.models.keyedvectors.Vocab at 0xb0376a0>,\n",
       " 'Periodicals': <gensim.models.keyedvectors.Vocab at 0xb0376d8>,\n",
       " 'Inc.': <gensim.models.keyedvectors.Vocab at 0xb037710>,\n",
       " 'Authors': <gensim.models.keyedvectors.Vocab at 0xb037748>,\n",
       " 'Surgery': <gensim.models.keyedvectors.Vocab at 0xb037780>,\n",
       " 'Medicine': <gensim.models.keyedvectors.Vocab at 0xb0377b8>,\n",
       " 'Published': <gensim.models.keyedvectors.Vocab at 0xb0377f0>,\n",
       " 'aminolevulinic': <gensim.models.keyedvectors.Vocab at 0xb037828>,\n",
       " 'glioma': <gensim.models.keyedvectors.Vocab at 0xb037860>,\n",
       " 'stereotactic': <gensim.models.keyedvectors.Vocab at 0xb037898>,\n",
       " 'biopsy': <gensim.models.keyedvectors.Vocab at 0xb0378d0>,\n",
       " 'evaluate': <gensim.models.keyedvectors.Vocab at 0xb037908>,\n",
       " 'feasibility': <gensim.models.keyedvectors.Vocab at 0xb037940>,\n",
       " 'diagnosis': <gensim.models.keyedvectors.Vocab at 0xb037978>,\n",
       " 'PDD-ALA': <gensim.models.keyedvectors.Vocab at 0xb0379b0>,\n",
       " 'detection': <gensim.models.keyedvectors.Vocab at 0xb0379e8>,\n",
       " 'prostate': <gensim.models.keyedvectors.Vocab at 0xb037a20>,\n",
       " 'cancer': <gensim.models.keyedvectors.Vocab at 0xb037a58>,\n",
       " 'PCa': <gensim.models.keyedvectors.Vocab at 0xb037a90>,\n",
       " 'cells': <gensim.models.keyedvectors.Vocab at 0xb037ac8>,\n",
       " 'urine': <gensim.models.keyedvectors.Vocab at 0xb037b00>,\n",
       " 'samples': <gensim.models.keyedvectors.Vocab at 0xb037b38>,\n",
       " 'massage': <gensim.models.keyedvectors.Vocab at 0xb037b70>,\n",
       " 'suspected': <gensim.models.keyedvectors.Vocab at 0xb037ba8>,\n",
       " 'One': <gensim.models.keyedvectors.Vocab at 0xb037be0>,\n",
       " 'hundred': <gensim.models.keyedvectors.Vocab at 0xb037c18>,\n",
       " 'eighty-nine': <gensim.models.keyedvectors.Vocab at 0xb037c50>,\n",
       " 'abnormal': <gensim.models.keyedvectors.Vocab at 0xb037c88>,\n",
       " 'digital': <gensim.models.keyedvectors.Vocab at 0xb037cc0>,\n",
       " 'rectal': <gensim.models.keyedvectors.Vocab at 0xb037cf8>,\n",
       " 'examination': <gensim.models.keyedvectors.Vocab at 0xb037d30>,\n",
       " 'and/or': <gensim.models.keyedvectors.Vocab at 0xb037d68>,\n",
       " 'elevated': <gensim.models.keyedvectors.Vocab at 0xb037da0>,\n",
       " 'prostate-specific': <gensim.models.keyedvectors.Vocab at 0xb037dd8>,\n",
       " 'antigen': <gensim.models.keyedvectors.Vocab at 0xb037e10>,\n",
       " 'PSA': <gensim.models.keyedvectors.Vocab at 0xb037e48>,\n",
       " 'level': <gensim.models.keyedvectors.Vocab at 0xb037e80>,\n",
       " 'recruited': <gensim.models.keyedvectors.Vocab at 0xb037eb8>,\n",
       " 'After': <gensim.models.keyedvectors.Vocab at 0xb037ef0>,\n",
       " '60': <gensim.models.keyedvectors.Vocab at 0xb037f28>,\n",
       " 'mL': <gensim.models.keyedvectors.Vocab at 0xb037f60>,\n",
       " 'voided': <gensim.models.keyedvectors.Vocab at 0xb037f98>,\n",
       " 'collected': <gensim.models.keyedvectors.Vocab at 0xb037fd0>,\n",
       " '50': <gensim.models.keyedvectors.Vocab at 0xb039048>,\n",
       " 'rest': <gensim.models.keyedvectors.Vocab at 0xb039080>,\n",
       " 'polymerase': <gensim.models.keyedvectors.Vocab at 0xb0390b8>,\n",
       " 'chain': <gensim.models.keyedvectors.Vocab at 0xb0390f0>,\n",
       " 'reaction': <gensim.models.keyedvectors.Vocab at 0xb039128>,\n",
       " 'PCR': <gensim.models.keyedvectors.Vocab at 0xb039160>,\n",
       " 'glyceraldehyde': <gensim.models.keyedvectors.Vocab at 0xb039198>,\n",
       " '3-phosphate': <gensim.models.keyedvectors.Vocab at 0xb0391d0>,\n",
       " 'dehydrogenase': <gensim.models.keyedvectors.Vocab at 0xb039208>,\n",
       " 'GAPDH': <gensim.models.keyedvectors.Vocab at 0xb039240>,\n",
       " 'incubation': <gensim.models.keyedvectors.Vocab at 0xb039278>,\n",
       " '2': <gensim.models.keyedvectors.Vocab at 0xb0392b0>,\n",
       " '635': <gensim.models.keyedvectors.Vocab at 0xb0392e8>,\n",
       " '405-nm': <gensim.models.keyedvectors.Vocab at 0xb039320>,\n",
       " 'wavelength': <gensim.models.keyedvectors.Vocab at 0xb039358>,\n",
       " 'excitation': <gensim.models.keyedvectors.Vocab at 0xb039390>,\n",
       " 'transrectal': <gensim.models.keyedvectors.Vocab at 0xb0393c8>,\n",
       " 'ultrasound': <gensim.models.keyedvectors.Vocab at 0xb039400>,\n",
       " 'TRUS': <gensim.models.keyedvectors.Vocab at 0xb039438>,\n",
       " '-guided': <gensim.models.keyedvectors.Vocab at 0xb039470>,\n",
       " 'Overall': <gensim.models.keyedvectors.Vocab at 0xb0394a8>,\n",
       " '126/189': <gensim.models.keyedvectors.Vocab at 0xb0394e0>,\n",
       " '67': <gensim.models.keyedvectors.Vocab at 0xb039518>,\n",
       " 'bands': <gensim.models.keyedvectors.Vocab at 0xb039550>,\n",
       " 'analyzed': <gensim.models.keyedvectors.Vocab at 0xb039588>,\n",
       " 'area': <gensim.models.keyedvectors.Vocab at 0xb0395c0>,\n",
       " 'curve': <gensim.models.keyedvectors.Vocab at 0xb0395f8>,\n",
       " 'sensitivity': <gensim.models.keyedvectors.Vocab at 0xb039630>,\n",
       " 'specificity': <gensim.models.keyedvectors.Vocab at 0xb039668>,\n",
       " '0.74': <gensim.models.keyedvectors.Vocab at 0xb0396a0>,\n",
       " '77': <gensim.models.keyedvectors.Vocab at 0xb0396d8>,\n",
       " 'value': <gensim.models.keyedvectors.Vocab at 0xb039710>,\n",
       " 'higher': <gensim.models.keyedvectors.Vocab at 0xb039748>,\n",
       " 'Gleason': <gensim.models.keyedvectors.Vocab at 0xb039780>,\n",
       " 'scores': <gensim.models.keyedvectors.Vocab at 0xb0397b8>,\n",
       " '0.03': <gensim.models.keyedvectors.Vocab at 0xb0397f0>,\n",
       " '0.005': <gensim.models.keyedvectors.Vocab at 0xb039828>,\n",
       " '8-10': <gensim.models.keyedvectors.Vocab at 0xb039860>,\n",
       " '0.0002': <gensim.models.keyedvectors.Vocab at 0xb039898>,\n",
       " 'negative': <gensim.models.keyedvectors.Vocab at 0xb0398d0>,\n",
       " 'multivariate': <gensim.models.keyedvectors.Vocab at 0xb039908>,\n",
       " 'analysis': <gensim.models.keyedvectors.Vocab at 0xb039940>,\n",
       " 'findings': <gensim.models.keyedvectors.Vocab at 0xb039978>,\n",
       " 'markers': <gensim.models.keyedvectors.Vocab at 0xb0399b0>,\n",
       " 'prediction': <gensim.models.keyedvectors.Vocab at 0xb0399e8>,\n",
       " 'positive': <gensim.models.keyedvectors.Vocab at 0xb039a20>,\n",
       " 'useful': <gensim.models.keyedvectors.Vocab at 0xb039a58>,\n",
       " 'predict': <gensim.models.keyedvectors.Vocab at 0xb039a90>,\n",
       " 'PCa-detection': <gensim.models.keyedvectors.Vocab at 0xb039ac8>,\n",
       " 'method': <gensim.models.keyedvectors.Vocab at 0xb039b00>,\n",
       " 'Protoporphyrin': <gensim.models.keyedvectors.Vocab at 0xb039b38>,\n",
       " 'endogenous': <gensim.models.keyedvectors.Vocab at 0xb039b70>,\n",
       " 'molecule': <gensim.models.keyedvectors.Vocab at 0xb039ba8>,\n",
       " 'selectively': <gensim.models.keyedvectors.Vocab at 0xb039be0>,\n",
       " 'accumulates': <gensim.models.keyedvectors.Vocab at 0xb039c18>,\n",
       " 'treated': <gensim.models.keyedvectors.Vocab at 0xb039c50>,\n",
       " 'heme': <gensim.models.keyedvectors.Vocab at 0xb039c88>,\n",
       " 'precursor': <gensim.models.keyedvectors.Vocab at 0xb039cc0>,\n",
       " 'cancer-specific': <gensim.models.keyedvectors.Vocab at 0xb039cf8>,\n",
       " 'distinguish': <gensim.models.keyedvectors.Vocab at 0xb039d30>,\n",
       " 'normal': <gensim.models.keyedvectors.Vocab at 0xb039d68>,\n",
       " 'fluorescence-guided': <gensim.models.keyedvectors.Vocab at 0xb039da0>,\n",
       " 'FGS': <gensim.models.keyedvectors.Vocab at 0xb039dd8>,\n",
       " 'destroy': <gensim.models.keyedvectors.Vocab at 0xb039e10>,\n",
       " 'demonstrate': <gensim.models.keyedvectors.Vocab at 0xb039e48>,\n",
       " 'oncogenic': <gensim.models.keyedvectors.Vocab at 0xb039e80>,\n",
       " 'Ras/mitogen-activated': <gensim.models.keyedvectors.Vocab at 0xb039eb8>,\n",
       " 'protein': <gensim.models.keyedvectors.Vocab at 0xb039ef0>,\n",
       " 'kinase': <gensim.models.keyedvectors.Vocab at 0xb039f28>,\n",
       " 'MEK': <gensim.models.keyedvectors.Vocab at 0xb039f60>,\n",
       " 'pathway': <gensim.models.keyedvectors.Vocab at 0xb039f98>,\n",
       " 'modulate': <gensim.models.keyedvectors.Vocab at 0xb039fd0>,\n",
       " 'Methods': <gensim.models.keyedvectors.Vocab at 0xb03c048>,\n",
       " 'identify': <gensim.models.keyedvectors.Vocab at 0xb03c080>,\n",
       " 'Ras': <gensim.models.keyedvectors.Vocab at 0xb03c0b8>,\n",
       " 'downstream': <gensim.models.keyedvectors.Vocab at 0xb03c0f0>,\n",
       " 'elements': <gensim.models.keyedvectors.Vocab at 0xb03c128>,\n",
       " 'involved': <gensim.models.keyedvectors.Vocab at 0xb03c160>,\n",
       " 'inhibitors': <gensim.models.keyedvectors.Vocab at 0xb03c198>,\n",
       " 'inhibition': <gensim.models.keyedvectors.Vocab at 0xb03c1d0>,\n",
       " 'human': <gensim.models.keyedvectors.Vocab at 0xb03c208>,\n",
       " 'cell': <gensim.models.keyedvectors.Vocab at 0xb03c240>,\n",
       " 'lines': <gensim.models.keyedvectors.Vocab at 0xb03c278>,\n",
       " 'BALB/c': <gensim.models.keyedvectors.Vocab at 0xb03c2b0>,\n",
       " 'mice': <gensim.models.keyedvectors.Vocab at 0xb03c2e8>,\n",
       " 'bearing': <gensim.models.keyedvectors.Vocab at 0xb03c320>,\n",
       " 'mammary': <gensim.models.keyedvectors.Vocab at 0xb03c358>,\n",
       " '4T1': <gensim.models.keyedvectors.Vocab at 0xb03c390>,\n",
       " 'athymic': <gensim.models.keyedvectors.Vocab at 0xb03c3c8>,\n",
       " 'nude': <gensim.models.keyedvectors.Vocab at 0xb03c400>,\n",
       " 'mechanisms': <gensim.models.keyedvectors.Vocab at 0xb03c438>,\n",
       " 'regulation': <gensim.models.keyedvectors.Vocab at 0xb03c470>,\n",
       " 'biochemical': <gensim.models.keyedvectors.Vocab at 0xb03c4a8>,\n",
       " 'molecular': <gensim.models.keyedvectors.Vocab at 0xb03c4e0>,\n",
       " 'biological': <gensim.models.keyedvectors.Vocab at 0xb03c518>,\n",
       " 'experiments': <gensim.models.keyedvectors.Vocab at 0xb03c550>,\n",
       " 'Inhibition': <gensim.models.keyedvectors.Vocab at 0xb03c588>,\n",
       " 'one': <gensim.models.keyedvectors.Vocab at 0xb03c5c0>,\n",
       " 'promoted': <gensim.models.keyedvectors.Vocab at 0xb03c5f8>,\n",
       " 'Increased': <gensim.models.keyedvectors.Vocab at 0xb03c630>,\n",
       " 'types': <gensim.models.keyedvectors.Vocab at 0xb03c668>,\n",
       " 'identified': <gensim.models.keyedvectors.Vocab at 0xb03c6a0>,\n",
       " 'independent': <gensim.models.keyedvectors.Vocab at 0xb03c6d8>,\n",
       " 'cellular': <gensim.models.keyedvectors.Vocab at 0xb03c710>,\n",
       " 'underlie': <gensim.models.keyedvectors.Vocab at 0xb03c748>,\n",
       " 'efflux': <gensim.models.keyedvectors.Vocab at 0xb03c780>,\n",
       " 'decreasing': <gensim.models.keyedvectors.Vocab at 0xb03c7b8>,\n",
       " 'expression': <gensim.models.keyedvectors.Vocab at 0xb03c7f0>,\n",
       " 'ATP': <gensim.models.keyedvectors.Vocab at 0xb03c828>,\n",
       " 'binding': <gensim.models.keyedvectors.Vocab at 0xb03c860>,\n",
       " 'cassette': <gensim.models.keyedvectors.Vocab at 0xb03c898>,\n",
       " 'subfamily': <gensim.models.keyedvectors.Vocab at 0xb03c8d0>,\n",
       " 'B': <gensim.models.keyedvectors.Vocab at 0xb03c908>,\n",
       " 'member': <gensim.models.keyedvectors.Vocab at 0xb03c940>,\n",
       " 'ABCB1': <gensim.models.keyedvectors.Vocab at 0xb03c978>,\n",
       " 'transporter': <gensim.models.keyedvectors.Vocab at 0xb03c9b0>,\n",
       " 'addition': <gensim.models.keyedvectors.Vocab at 0xb03c9e8>,\n",
       " 'activity': <gensim.models.keyedvectors.Vocab at 0xb03ca20>,\n",
       " 'ferrochelatase': <gensim.models.keyedvectors.Vocab at 0xb03ca58>,\n",
       " 'FECH': <gensim.models.keyedvectors.Vocab at 0xb03ca90>,\n",
       " 'enzyme': <gensim.models.keyedvectors.Vocab at 0xb03cac8>,\n",
       " 'responsible': <gensim.models.keyedvectors.Vocab at 0xb03cb00>,\n",
       " 'converting': <gensim.models.keyedvectors.Vocab at 0xb03cb38>,\n",
       " 'Finally': <gensim.models.keyedvectors.Vocab at 0xb03cb70>,\n",
       " 'vivo': <gensim.models.keyedvectors.Vocab at 0xb03cba8>,\n",
       " '2.2-': <gensim.models.keyedvectors.Vocab at 0xb03cbe0>,\n",
       " '2.4-fold': <gensim.models.keyedvectors.Vocab at 0xb03cc18>,\n",
       " 'within': <gensim.models.keyedvectors.Vocab at 0xb03cc50>,\n",
       " 'injected': <gensim.models.keyedvectors.Vocab at 0xb03cc88>,\n",
       " 'without': <gensim.models.keyedvectors.Vocab at 0xb03ccc0>,\n",
       " 'organs': <gensim.models.keyedvectors.Vocab at 0xb03ccf8>,\n",
       " 'Similar': <gensim.models.keyedvectors.Vocab at 0xb03cd30>,\n",
       " 'also': <gensim.models.keyedvectors.Vocab at 0xb03cd68>,\n",
       " 'xenograft': <gensim.models.keyedvectors.Vocab at 0xb03cda0>,\n",
       " 'Conclusion': <gensim.models.keyedvectors.Vocab at 0xb03cdd8>,\n",
       " 'Our': <gensim.models.keyedvectors.Vocab at 0xb03ce10>,\n",
       " 'demonstrates': <gensim.models.keyedvectors.Vocab at 0xb03ce48>,\n",
       " 'Ras/MEK': <gensim.models.keyedvectors.Vocab at 0xb03ce80>,\n",
       " 'enhances': <gensim.models.keyedvectors.Vocab at 0xb03ceb8>,\n",
       " 'vitro': <gensim.models.keyedvectors.Vocab at 0xb03cef0>,\n",
       " 'manner': <gensim.models.keyedvectors.Vocab at 0xb03cf28>,\n",
       " 'suppressing': <gensim.models.keyedvectors.Vocab at 0xb03cf60>,\n",
       " 'may': <gensim.models.keyedvectors.Vocab at 0xb03cf98>,\n",
       " 'viable': <gensim.models.keyedvectors.Vocab at 0xb03cfd0>,\n",
       " 'strategy': <gensim.models.keyedvectors.Vocab at 0xb03f048>,\n",
       " 'intensify': <gensim.models.keyedvectors.Vocab at 0xb03f080>,\n",
       " 'applications': <gensim.models.keyedvectors.Vocab at 0xb03f0b8>,\n",
       " 'Hidradenitis': <gensim.models.keyedvectors.Vocab at 0xb03f0f0>,\n",
       " 'suppurativa/acne': <gensim.models.keyedvectors.Vocab at 0xb03f128>,\n",
       " 'inversa': <gensim.models.keyedvectors.Vocab at 0xb03f160>,\n",
       " 'HS/AI': <gensim.models.keyedvectors.Vocab at 0xb03f198>,\n",
       " 'type': <gensim.models.keyedvectors.Vocab at 0xb03f1d0>,\n",
       " 'chronic': <gensim.models.keyedvectors.Vocab at 0xb03f208>,\n",
       " 'suppurative': <gensim.models.keyedvectors.Vocab at 0xb03f240>,\n",
       " 'inflammatory': <gensim.models.keyedvectors.Vocab at 0xb03f278>,\n",
       " 'hair': <gensim.models.keyedvectors.Vocab at 0xb03f2b0>,\n",
       " 'follicles': <gensim.models.keyedvectors.Vocab at 0xb03f2e8>,\n",
       " 'characterized': <gensim.models.keyedvectors.Vocab at 0xb03f320>,\n",
       " 'recurrent': <gensim.models.keyedvectors.Vocab at 0xb03f358>,\n",
       " 'abscesses': <gensim.models.keyedvectors.Vocab at 0xb03f390>,\n",
       " 'sinus': <gensim.models.keyedvectors.Vocab at 0xb03f3c8>,\n",
       " 'tracts': <gensim.models.keyedvectors.Vocab at 0xb03f400>,\n",
       " 'scars': <gensim.models.keyedvectors.Vocab at 0xb03f438>,\n",
       " 'So': <gensim.models.keyedvectors.Vocab at 0xb03f470>,\n",
       " 'far': <gensim.models.keyedvectors.Vocab at 0xb03f4a8>,\n",
       " 'prospective': <gensim.models.keyedvectors.Vocab at 0xb03f4e0>,\n",
       " 'proving': <gensim.models.keyedvectors.Vocab at 0xb03f518>,\n",
       " 'efficacy': <gensim.models.keyedvectors.Vocab at 0xb03f550>,\n",
       " 'safety': <gensim.models.keyedvectors.Vocab at 0xb03f588>,\n",
       " 'disease': <gensim.models.keyedvectors.Vocab at 0xb03f5c0>,\n",
       " 'report': <gensim.models.keyedvectors.Vocab at 0xb03f5f8>,\n",
       " 'case': <gensim.models.keyedvectors.Vocab at 0xb03f630>,\n",
       " 'resolution': <gensim.models.keyedvectors.Vocab at 0xb03f668>,\n",
       " 'skin': <gensim.models.keyedvectors.Vocab at 0xb03f6a0>,\n",
       " 'lesions': <gensim.models.keyedvectors.Vocab at 0xb03f6d8>,\n",
       " 'ulcer': <gensim.models.keyedvectors.Vocab at 0xb03f710>,\n",
       " 'healing': <gensim.models.keyedvectors.Vocab at 0xb03f748>,\n",
       " 'disappearance': <gensim.models.keyedvectors.Vocab at 0xb03f780>,\n",
       " 'nine': <gensim.models.keyedvectors.Vocab at 0xb03f7b8>,\n",
       " 'treatments': <gensim.models.keyedvectors.Vocab at 0xb03f7f0>,\n",
       " 'Hepatocellular': <gensim.models.keyedvectors.Vocab at 0xb03f828>,\n",
       " 'carcinoma': <gensim.models.keyedvectors.Vocab at 0xb03f860>,\n",
       " 'HCC': <gensim.models.keyedvectors.Vocab at 0xb03f898>,\n",
       " 'third': <gensim.models.keyedvectors.Vocab at 0xb03f8d0>,\n",
       " 'lethal': <gensim.models.keyedvectors.Vocab at 0xb03f908>,\n",
       " 'worldwide': <gensim.models.keyedvectors.Vocab at 0xb03f940>,\n",
       " 'Despite': <gensim.models.keyedvectors.Vocab at 0xb03f978>,\n",
       " 'progress': <gensim.models.keyedvectors.Vocab at 0xb03f9b0>,\n",
       " 'identifying': <gensim.models.keyedvectors.Vocab at 0xb03f9e8>,\n",
       " 'risk': <gensim.models.keyedvectors.Vocab at 0xb03fa20>,\n",
       " 'factors': <gensim.models.keyedvectors.Vocab at 0xb03fa58>,\n",
       " 'incidence': <gensim.models.keyedvectors.Vocab at 0xb03fa90>,\n",
       " 'increasing': <gensim.models.keyedvectors.Vocab at 0xb03fac8>,\n",
       " 'Moreover': <gensim.models.keyedvectors.Vocab at 0xb03fb00>,\n",
       " 'therapeutic': <gensim.models.keyedvectors.Vocab at 0xb03fb38>,\n",
       " 'options': <gensim.models.keyedvectors.Vocab at 0xb03fb70>,\n",
       " 'limited': <gensim.models.keyedvectors.Vocab at 0xb03fba8>,\n",
       " 'Therefore': <gensim.models.keyedvectors.Vocab at 0xb03fbe0>,\n",
       " 'alternative': <gensim.models.keyedvectors.Vocab at 0xb03fc18>,\n",
       " 'innovative': <gensim.models.keyedvectors.Vocab at 0xb03fc50>,\n",
       " 'strategies': <gensim.models.keyedvectors.Vocab at 0xb03fc88>,\n",
       " 'urgently': <gensim.models.keyedvectors.Vocab at 0xb03fcc0>,\n",
       " 'required': <gensim.models.keyedvectors.Vocab at 0xb03fcf8>,\n",
       " 'R-Tf-D-LP4': <gensim.models.keyedvectors.Vocab at 0xb03fd30>,\n",
       " 'cell-penetrating': <gensim.models.keyedvectors.Vocab at 0xb03fd68>,\n",
       " 'peptide': <gensim.models.keyedvectors.Vocab at 0xb03fda0>,\n",
       " 'derived': <gensim.models.keyedvectors.Vocab at 0xb03fdd8>,\n",
       " 'mitochondrial': <gensim.models.keyedvectors.Vocab at 0xb03fe10>,\n",
       " 'multifunctional': <gensim.models.keyedvectors.Vocab at 0xb03fe48>,\n",
       " 'voltage-dependent': <gensim.models.keyedvectors.Vocab at 0xb03fe80>,\n",
       " 'anion': <gensim.models.keyedvectors.Vocab at 0xb03feb8>,\n",
       " 'channel': <gensim.models.keyedvectors.Vocab at 0xb03fef0>,\n",
       " 'VDAC1': <gensim.models.keyedvectors.Vocab at 0xb03ff28>,\n",
       " 'highly': <gensim.models.keyedvectors.Vocab at 0xb03ff60>,\n",
       " 'effective': <gensim.models.keyedvectors.Vocab at 0xb03ff98>,\n",
       " 'liver': <gensim.models.keyedvectors.Vocab at 0xb03ffd0>,\n",
       " 'Recently': <gensim.models.keyedvectors.Vocab at 0xb293048>,\n",
       " 'demonstrated': <gensim.models.keyedvectors.Vocab at 0xb293080>,\n",
       " 'induced': <gensim.models.keyedvectors.Vocab at 0xb2930b8>,\n",
       " 'apoptosis': <gensim.models.keyedvectors.Vocab at 0xb2930f0>,\n",
       " 'inhibited': <gensim.models.keyedvectors.Vocab at 0xb293128>,\n",
       " 'growth': <gensim.models.keyedvectors.Vocab at 0xb293160>,\n",
       " 'mouse': <gensim.models.keyedvectors.Vocab at 0xb293198>,\n",
       " 'models': <gensim.models.keyedvectors.Vocab at 0xb2931d0>,\n",
       " 'liver-derived': <gensim.models.keyedvectors.Vocab at 0xb293208>,\n",
       " 'three': <gensim.models.keyedvectors.Vocab at 0xb293240>,\n",
       " 'included': <gensim.models.keyedvectors.Vocab at 0xb293278>,\n",
       " 'diethylnitrosamine': <gensim.models.keyedvectors.Vocab at 0xb2932b0>,\n",
       " 'DEN': <gensim.models.keyedvectors.Vocab at 0xb2932e8>,\n",
       " '-induced': <gensim.models.keyedvectors.Vocab at 0xb293320>,\n",
       " 'metabolically': <gensim.models.keyedvectors.Vocab at 0xb293358>,\n",
       " 'high-fat': <gensim.models.keyedvectors.Vocab at 0xb293390>,\n",
       " 'diet-induced': <gensim.models.keyedvectors.Vocab at 0xb2933c8>,\n",
       " 'subcutaneous': <gensim.models.keyedvectors.Vocab at 0xb293400>,\n",
       " 'HepG2': <gensim.models.keyedvectors.Vocab at 0xb293438>,\n",
       " 'Intravenous': <gensim.models.keyedvectors.Vocab at 0xb293470>,\n",
       " 'injection': <gensim.models.keyedvectors.Vocab at 0xb2934a8>,\n",
       " 'tumor-carrying': <gensim.models.keyedvectors.Vocab at 0xb2934e0>,\n",
       " 'DEN-treated': <gensim.models.keyedvectors.Vocab at 0xb293518>,\n",
       " 'resulted': <gensim.models.keyedvectors.Vocab at 0xb293550>,\n",
       " 'dose-dependent': <gensim.models.keyedvectors.Vocab at 0xb293588>,\n",
       " 'elimination': <gensim.models.keyedvectors.Vocab at 0xb2935c0>,\n",
       " 'TUNEL': <gensim.models.keyedvectors.Vocab at 0xb2935f8>,\n",
       " 'staining': <gensim.models.keyedvectors.Vocab at 0xb293630>,\n",
       " 'sections': <gensim.models.keyedvectors.Vocab at 0xb293668>,\n",
       " 'peptide-induced': <gensim.models.keyedvectors.Vocab at 0xb2936a0>,\n",
       " 'Hematoxylin/eosin': <gensim.models.keyedvectors.Vocab at 0xb2936d8>,\n",
       " 'Sirius': <gensim.models.keyedvectors.Vocab at 0xb293710>,\n",
       " 'fibrotic': <gensim.models.keyedvectors.Vocab at 0xb293748>,\n",
       " 'formation': <gensim.models.keyedvectors.Vocab at 0xb293780>,\n",
       " 'Immunohistochemical': <gensim.models.keyedvectors.Vocab at 0xb2937b8>,\n",
       " 'numbers': <gensim.models.keyedvectors.Vocab at 0xb2937f0>,\n",
       " 'α-SMA-expressing': <gensim.models.keyedvectors.Vocab at 0xb293828>,\n",
       " 'R-Tf-D-LP4-treated': <gensim.models.keyedvectors.Vocab at 0xb293860>,\n",
       " 'livers': <gensim.models.keyedvectors.Vocab at 0xb293898>,\n",
       " 'Additionally': <gensim.models.keyedvectors.Vocab at 0xb2938d0>,\n",
       " 'macrophage': <gensim.models.keyedvectors.Vocab at 0xb293908>,\n",
       " 'presence': <gensim.models.keyedvectors.Vocab at 0xb293940>,\n",
       " 'Liver': <gensim.models.keyedvectors.Vocab at 0xb293978>,\n",
       " 'steatohepatic': <gensim.models.keyedvectors.Vocab at 0xb2939b0>,\n",
       " 'pathology': <gensim.models.keyedvectors.Vocab at 0xb2939e8>,\n",
       " 'reflected': <gensim.models.keyedvectors.Vocab at 0xb293a20>,\n",
       " 'fatty': <gensim.models.keyedvectors.Vocab at 0xb293a58>,\n",
       " 'inflammation': <gensim.models.keyedvectors.Vocab at 0xb293a90>,\n",
       " 'ballooning': <gensim.models.keyedvectors.Vocab at 0xb293ac8>,\n",
       " 'degeneration': <gensim.models.keyedvectors.Vocab at 0xb293b00>,\n",
       " 'fibrosis': <gensim.models.keyedvectors.Vocab at 0xb293b38>,\n",
       " 'eliminated': <gensim.models.keyedvectors.Vocab at 0xb293b70>,\n",
       " 'upon': <gensim.models.keyedvectors.Vocab at 0xb293ba8>,\n",
       " 'Peptide': <gensim.models.keyedvectors.Vocab at 0xb293be0>,\n",
       " 'development': <gensim.models.keyedvectors.Vocab at 0xb293c18>,\n",
       " 'nonalcoholic': <gensim.models.keyedvectors.Vocab at 0xb293c50>,\n",
       " 'steatohepatitis-hepatocellular': <gensim.models.keyedvectors.Vocab at 0xb293c88>,\n",
       " 'HFD': <gensim.models.keyedvectors.Vocab at 0xb293cc0>,\n",
       " 'xenografts': <gensim.models.keyedvectors.Vocab at 0xb293cf8>}"
      ]
     },
     "execution_count": 41,
     "metadata": {},
     "output_type": "execute_result"
    }
   ],
   "source": [
    "model.wv.vocab"
   ]
  }
 ],
 "metadata": {
  "colab": {
   "collapsed_sections": [],
   "default_view": {},
   "name": "vectorize.ipynb",
   "provenance": [],
   "version": "0.3.2",
   "views": {}
  },
  "kernelspec": {
   "display_name": "Python 3",
   "language": "python",
   "name": "python3"
  }
 },
 "nbformat": 4,
 "nbformat_minor": 1
}
