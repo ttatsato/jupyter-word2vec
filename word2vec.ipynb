{
 "cells": [
  {
   "cell_type": "markdown",
   "metadata": {
    "id": "8yxeKSh2ajaC",
    "colab_type": "text"
   },
   "source": [
    "# ベクトル化の実験"
   ]
  },
  {
   "cell_type": "markdown",
   "metadata": {
    "id": "GqLjV9ZyaiCB",
    "colab_type": "text"
   },
   "source": [
    "## 各種インストール"
   ]
  },
  {
   "cell_type": "code",
   "execution_count": null,
   "metadata": {
    "id": "dq6wuEK3udsg",
    "colab_type": "code",
    "colab": {
     "autoexec": {
      "startup": false,
      "wait_interval": 0.0
     }
    }
   },
   "outputs": [],
   "source": [
    "docs=[] \n",
    "\n",
    "# \"5-aminolevulinic\" is searched in PubMed\n",
    "docs.append(\"This study aimed to produce inexpensive 5-aminolevulinic acid (ALA) in a non-sterile latex rubber sheet wastewater (RSW) by Rhodopseudomonas palustris TN114 and PP803 for the possibility to use in agricultural purposes by investigating the optimum conditions, and applying of wood vinegar (WV) as an economical source of levulinic acid to enhance ALA content. The Box-Behnken Design experiment was conducted under microaerobic-light conditions for 96 h with TN114, PP803 and their mixed culture (1:1) by varying initial pH, inoculum size (% v/v) and initial chemical oxygen demand (COD, mg/L). Results showed that the optimal condition (pH, % inoculum size, COD) of each set to produce extracellular ALA was found at 7.50, 6.00, 2000 for TN114; 7.50, 7.00, 3000 for PP803; and 7.50, 6.00, 4000 for a mixed culture; and each set achieved COD reduction as high as 63%, 71% and 75%, respectively. Addition of the optimal concentration of WV at mid log phase at 0.63% for TN114, and 1.25% for PP803 and the mixed culture significantly increased the ALA content by 3.7-4.2 times (128, 90 and 131 μM, respectively) compared to their controls. ALA production cost could be reduced approximately 31 times with WV on the basis of the amount of levulinic acid used. Effluent containing ALA for using in agriculture could be achieved by treating the RSW with the selected ALA producer R. palustris strains under the optimized condition with a little WV additive.\")\n",
    "docs.append(\"Depressive patients often experience difficulty in performing exercise due to physical and psychological barriers. We examined the effects of 5-aminolevulinic acid (ALA) with sodium ferrous citrate (SFC) supplementation during home-based walking training in middle-aged depressive women. Nine outpatients [53 ± 8 (SD) yr] with major depressive disorder participated in the pilot study with randomized, placebo-controlled, double-blind crossover design. They underwent two trials for 7 days, each performing interval walking training (IWT) with ALA + SFC (ALA + SFC) or placebo supplement intake (PLC) intermittently with >a 10-day washout period. For the first 6 days of each trial, exercise intensity for IWT was measured by accelerometry. Before and after each trial, subjects underwent a graded cycling test, and lactate concentration in plasma ([Lac-]p), oxygen consumption rate ([Formula: see text]), and carbon dioxide production rate ([Formula: see text]) were measured with depression severity by the Montgomery-Åsberg Depression Rating Scale (MADRS). We found that the increases in [Lac-]p, [Formula: see text] and [Formula: see text] during the test were attenuated only in ALA + SFC ([before vs. after] × workload; all, P < 0.01), accompanied by increased training days, impulse, and time at fast walking during IWT (all, P < 0.05) with decreased MADRS-score (P = 0.001). Thus, ALA + SFC supplementation increased IWT achievement to improve depressive symptoms in middle-aged women.\")\n",
    "docs.append(\"OBJECTIVE: To study the curative effect of red-light 5-Aminolevulinic photodynamic therapy(ALA-PDT) to port wine stains(PWS) on comb animal model.  METHODS: 160 male cocks were randomly divided into 16 groups. The ALA only group was given ALA only topical or systemic application. Light only groups were only given 630 nm red light irradiation with different light density. ALA-PDT groups were given red light after the application of topical or systemic ALA. PDL group was given PDL irradiation. The distribution of fluorescence in tissue after topical or systemic application of ALA was detected. The morphological changes, the pathological changes and the capillary reduction rate of the comb were observed after treatment for 0, 1, 3, 5, 7, 14 days.  RESULTS: The PpIX fluorescence generated after topical and systemic application of ALA. In the topical ALA-PDT group at low light density 80 J/cm2, the morphology and the histopathology had no obvious change. While under 160 J/cm2 and 200 J/cm2 light density, severe erosion and thick scab appeared. The histopathology showed epidermal necrosis and loss. The immunohistochemistry showed that there was no significant change in the number of capillaries under different light density (P > 0.05). In the systemic ALA-PDT group under low light density 80 J/cm2, only partial erosion and thin scab was observed on the treatment side. With the increase of light density, thick charred crust and even scar was observed. The histopathology showed that there were different degrees of damage to dermal and epidermal tissues. And the immunohistochemistry showed the capillary reduced significantly in the treatment side (P < 0.01). In control group, the comb is ruddy and plump.  CONCLUSION: These results suggest that either topical or systemic red-light ALA-PDT is not suitable treatment methods for PWS.  Copyright © 2018 Elsevier B.V. All rights reserved.  KEYWORDS: 5-aminolevulinic acid; comb animal model; photodynamic therapy; port wine stains; red light\")\n",
    "docs.append(\"BACKGROUND: Patients suffering from malignant gliomas have a poor prognosis. For the surgical treatment of these tumors, 5-aminolevulinic acid (5-ALA) has become a new standard.  AIMS: This review intends to provide an overview over current status, significance, limitations, and future perspectives of 5-ALA based fluorescence guided surgery and photodynamic therapy for brain tumor patients.  MATERIALS AND METHODS: From peer reviewed publications on the many aspects connected with this topic, those with potential clinical relevance were selected and put in the context of our own experience.  RESULTS AND DISCUSSION: The high tumor selectivity of accumulation of fluorescent protoporphyrin IX (PpIX) after systemic administration of 5-ALA enables intra-operative fluorescence guidance, which is unimpaired by brainshift and does not require expensive equipment. The neurosurgical aim of complete resection of enhancing tumor can now more easily be achieved, which improves prognosis in these patients. Nevertheless, despite better surgery tumors will inevitably recur. In order to further prolong survival, the phototoxic properties of PpIX are presently being exploited in clinical trials of post-operative or interstitial photodynamic therapy (PDT).  CONCLUSION: 5-ALA based fluorescence guidance and PDT offer an intriguing new option for the management of malignant gliomas. Lasers Surg. Med. 9999:1-21, 2018. © 2018 Wiley Periodicals, Inc.  © 2018 The Authors. Lasers in Surgery and Medicine Published by Wiley Periodicals, Inc.  KEYWORDS: aminolevulinic acid (5-ALA); fluorescence guided surgery; malignant glioma; photodynamic therapy (PDT); protoporphyrin IX (PpIX); stereotactic biopsy\")\n",
    "docs.append(\"To evaluate the feasibility of photodynamic diagnosis using 5-aminolevulinic acid (PDD-ALA) for detection of prostate cancer (PCa) cells in urine samples after prostate massage in patients who were suspected to have PCa. One hundred and eighty-nine patients with abnormal digital rectal examination and/or an elevated prostate-specific antigen (PSA) level who underwent initial prostate biopsy were recruited. After prostate massage, the first 60 mL of voided urine was collected. For PDD-ALA, 50 mL was used. The rest of collected urine was used for polymerase chain reaction (PCR) of PSA and glyceraldehyde 3-phosphate dehydrogenase (GAPDH). After incubation for 2 h, the intensity was measured at 635 nm under a 405-nm wavelength excitation. The results of PDD-ALA were compared with those of an initial transrectal ultrasound (TRUS)-guided prostate biopsy. Overall, 126/189 (67%) samples that showed bands of both PSA and GAPDH on PCR in urine samples were analyzed. The area under the curve, sensitivity, and specificity of PDD-ALA were 0.74, 77, and 67%, respectively. The value of PDD-ALA was significantly higher in patients with Gleason scores of 6 (p = 0.03), 7 (p = 0.005), and 8-10 (p = 0.0002) than in those with negative biopsy results. In the multivariate analysis, high PSA density, abnormal findings on TRUS, and a high value of PDD-ALA were significant markers for prediction of positive biopsy results. PDD-ALA was useful to predict positive biopsy results in patients who underwent initial prostate biopsy with suspected PCa. This PCa-detection method has potential for clinical use.\")\n",
    "docs.append(\"Protoporphyrin IX (PpIX) is an endogenous fluorescent molecule that selectively accumulates in cancer cells treated with the heme precursor 5-aminolevulinic acid (5-ALA). This cancer-specific accumulation of PpIX is used to distinguish tumor from normal tissues in fluorescence-guided surgery (FGS) and to destroy cancer cells by photodynamic therapy (PDT). In this study, we demonstrate that oncogenic Ras/mitogen-activated protein kinase kinase (MEK) pathway can modulate PpIX accumulation in cancer cells. Methods: To identify Ras downstream elements involved in PpIX accumulation, chemical inhibitors were used. To demonstrate the increase of PpIX accumulation by MEK inhibition, different human normal and cancer cell lines, BALB/c mice bearing mammary 4T1 tumors and athymic nude mice bearing human tumors were used. To identify the mechanisms of PpIX regulation by MEK, biochemical and molecular biological experiments were conducted. Results: Inhibition of one of the Ras downstream elements, MEK, promoted PpIX accumulation in cancer cells treated with 5-ALA, while inhibitors against other Ras downstream elements did not. Increased PpIX accumulation with MEK inhibition was observed in different types of human cancer cell lines, but not in normal cell lines. We identified two independent cellular mechanisms that underlie this effect in cancer cells. MEK inhibition reduced PpIX efflux from cancer cells by decreasing the expression level of ATP binding cassette subfamily B member 1 (ABCB1) transporter. In addition, the activity of ferrochelatase (FECH), the enzyme responsible for converting PpIX to heme, was reduced by MEK inhibition. Finally, we found that in vivo treatment with MEK inhibitors increased PpIX accumulation (2.2- to 2.4-fold) within mammary 4T1 tumors in BALB/c mice injected with 5-ALA without any change in normal organs. Similar results were also observed in a human tumor xenograft model. Conclusion: Our study demonstrates that inhibition of oncogenic Ras/MEK significantly enhances PpIX accumulation in vitro and in vivo in a cancer-specific manner. Thus, suppressing the Ras/MEK pathway may be a viable strategy to selectively intensify PpIX fluorescence in cancer cells and improve its clinical applications in FGS.\")\n",
    "docs.append(\"Hidradenitis suppurativa/acne inversa (HS/AI) is a type of chronic suppurative inflammatory reaction of the hair follicles characterized by recurrent dermal abscesses, sinus tracts and scars. So far, there has not been any prospective study proving the efficacy and safety of photodynamic therapy for the disease. In this report, one case of HS/AI achieved resolution of skin lesions, ulcer healing and disappearance of symptoms after nine treatments with 5-aminolevulinic acid photodynamic therapy (ALA-PDT).\")\n",
    "\n",
    "# \"diet\" is searched in PubMed\n",
    "docs.append(\"Hepatocellular carcinoma (HCC) is the third most lethal cancer worldwide. Despite progress in identifying risk factors, the incidence of HCC is increasing. Moreover, therapeutic options are limited and survival is poor. Therefore, alternative and innovative therapeutic strategies are urgently required. R-Tf-D-LP4, a cell-penetrating peptide derived from the mitochondrial multifunctional protein the voltage-dependent anion channel (VDAC1), is identified here as a highly effective liver cancer treatment. Recently, we demonstrated that R-Tf-D-LP4 induced apoptosis and inhibited tumor growth in mouse models. We now demonstrate that R-Tf-D-LP4 induced apoptosis in cancer liver-derived cell lines and inhibited tumor growth in three different liver cancer mouse models. These included diethylnitrosamine (DEN)-induced HCC, metabolically high-fat diet-induced HCC, and using a subcutaneous HepG2 cell xenograft model. Intravenous injection of the peptide into tumor-carrying DEN-treated mice resulted in dose-dependent inhibition of tumor growth up to complete tumor elimination. TUNEL staining of liver sections demonstrated peptide-induced apoptosis. Hematoxylin/eosin and Sirius red staining of liver sections showed decreased fibrotic formation. Immunohistochemical staining demonstrated reduced numbers of α-SMA-expressing cells in R-Tf-D-LP4-treated mouse livers. Additionally, macrophage presence in liver tissue was reduced in R-Tf-D-LP4-treated mice. Liver sections from DEN-treated mice showed steatohepatic pathology, reflected as fatty liver, inflammation, ballooning degeneration, and fibrosis; all were eliminated upon peptide treatment. Peptide treatment also inhibited tumor development in a nonalcoholic steatohepatitis-hepatocellular carcinoma mouse model induced by HFD. In HepG2 subcutaneous tumor xenografts, R-Tf-D-LP4 inhibited tumor growth.\")\n"
   ]
  },
  {
   "cell_type": "markdown",
   "metadata": {
    "id": "JxrXrpnpXRfv",
    "colab_type": "text"
   },
   "source": [
    "## NLTKのトークナイザを使ってみる"
   ]
  },
  {
   "cell_type": "code",
   "execution_count": null,
   "metadata": {
    "id": "8Xqbk3EAOlxm",
    "colab_type": "code",
    "colab": {
     "autoexec": {
      "startup": false,
      "wait_interval": 0.0
     },
     "base_uri": "https://localhost:8080/",
     "height": 354.0
    },
    "outputId": "26c2c147-0d71-4116-e2fa-92d198030dd9",
    "executionInfo": {
     "status": "ok",
     "timestamp": 1.527220588093E12,
     "user_tz": -540.0,
     "elapsed": 3043.0,
     "user": {
      "displayName": "大下健史",
      "photoUrl": "https://lh3.googleusercontent.com/a/default-user=s128",
      "userId": "114806679545096700120"
     }
    }
   },
   "outputs": [
    {
     "name": "stdout",
     "output_type": "stream",
     "text": [
      "Requirement already satisfied: gensim in /usr/local/lib/python3.6/dist-packages (3.4.0)\n",
      "Requirement already satisfied: scipy>=0.18.1 in /usr/local/lib/python3.6/dist-packages (from gensim) (0.19.1)\n",
      "Requirement already satisfied: six>=1.5.0 in /usr/local/lib/python3.6/dist-packages (from gensim) (1.11.0)\n",
      "Requirement already satisfied: smart-open>=1.2.1 in /usr/local/lib/python3.6/dist-packages (from gensim) (1.5.7)\n",
      "Requirement already satisfied: numpy>=1.11.3 in /usr/local/lib/python3.6/dist-packages (from gensim) (1.14.3)\n",
      "Requirement already satisfied: boto>=2.32 in /usr/local/lib/python3.6/dist-packages (from smart-open>=1.2.1->gensim) (2.48.0)\n",
      "Requirement already satisfied: bz2file in /usr/local/lib/python3.6/dist-packages (from smart-open>=1.2.1->gensim) (0.98)\n",
      "Requirement already satisfied: requests in /usr/local/lib/python3.6/dist-packages (from smart-open>=1.2.1->gensim) (2.18.4)\n",
      "Requirement already satisfied: boto3 in /usr/local/lib/python3.6/dist-packages (from smart-open>=1.2.1->gensim) (1.7.27)\n",
      "Requirement already satisfied: certifi>=2017.4.17 in /usr/local/lib/python3.6/dist-packages (from requests->smart-open>=1.2.1->gensim) (2018.4.16)\n",
      "Requirement already satisfied: chardet<3.1.0,>=3.0.2 in /usr/local/lib/python3.6/dist-packages (from requests->smart-open>=1.2.1->gensim) (3.0.4)\n",
      "Requirement already satisfied: urllib3<1.23,>=1.21.1 in /usr/local/lib/python3.6/dist-packages (from requests->smart-open>=1.2.1->gensim) (1.22)\n",
      "Requirement already satisfied: idna<2.7,>=2.5 in /usr/local/lib/python3.6/dist-packages (from requests->smart-open>=1.2.1->gensim) (2.6)\n",
      "Requirement already satisfied: s3transfer<0.2.0,>=0.1.10 in /usr/local/lib/python3.6/dist-packages (from boto3->smart-open>=1.2.1->gensim) (0.1.13)\n",
      "Requirement already satisfied: botocore<1.11.0,>=1.10.27 in /usr/local/lib/python3.6/dist-packages (from boto3->smart-open>=1.2.1->gensim) (1.10.27)\n",
      "Requirement already satisfied: jmespath<1.0.0,>=0.7.1 in /usr/local/lib/python3.6/dist-packages (from boto3->smart-open>=1.2.1->gensim) (0.9.3)\n",
      "Requirement already satisfied: docutils>=0.10 in /usr/local/lib/python3.6/dist-packages (from botocore<1.11.0,>=1.10.27->boto3->smart-open>=1.2.1->gensim) (0.14)\n",
      "Requirement already satisfied: python-dateutil<3.0.0,>=2.1; python_version >= \"2.7\" in /usr/local/lib/python3.6/dist-packages (from botocore<1.11.0,>=1.10.27->boto3->smart-open>=1.2.1->gensim) (2.5.3)\n"
     ]
    }
   ],
   "source": [
    "!pip install gensim"
   ]
  },
  {
   "cell_type": "code",
   "execution_count": 4,
   "metadata": {
    "id": "YkCPGvBIxNAs",
    "colab_type": "code",
    "colab": {
     "autoexec": {
      "startup": false,
      "wait_interval": 0.0
     },
     "base_uri": "https://localhost:8080/",
     "height": 105.0
    },
    "outputId": "badb4220-81c0-4fc5-8efd-2970c54bbfc8",
    "executionInfo": {
     "status": "ok",
     "timestamp": 1.527220598394E12,
     "user_tz": -540.0,
     "elapsed": 2314.0,
     "user": {
      "displayName": "大下健史",
      "photoUrl": "https://lh3.googleusercontent.com/a/default-user=s128",
      "userId": "114806679545096700120"
     }
    }
   },
   "outputs": [
    {
     "name": "stdout",
     "output_type": "stream",
     "text": [
      "[nltk_data] Downloading package punkt to /content/nltk_data...\n",
      "[nltk_data]   Unzipping tokenizers/punkt.zip.\n",
      "[nltk_data] Downloading package stopwords to /content/nltk_data...\n",
      "[nltk_data]   Unzipping corpora/stopwords.zip.\n"
     ]
    },
    {
     "data": {
      "text/plain": [
       "True"
      ]
     },
     "execution_count": 4,
     "metadata": {
      "tags": []
     },
     "output_type": "execute_result"
    }
   ],
   "source": [
    "import nltk\n",
    "from nltk.tokenize import sent_tokenize\n",
    "from nltk.tokenize import word_tokenize\n",
    "from nltk.corpus import stopwords\n",
    "nltk.download('punkt')\n",
    "nltk.download('stopwords')"
   ]
  },
  {
   "cell_type": "code",
   "execution_count": 5,
   "metadata": {
    "id": "advMzk84X_t-",
    "colab_type": "code",
    "colab": {
     "autoexec": {
      "startup": false,
      "wait_interval": 0.0
     },
     "base_uri": "https://localhost:8080/",
     "height": 52.0
    },
    "outputId": "fb4218d1-7b77-439c-a91a-09099869e94b",
    "executionInfo": {
     "status": "ok",
     "timestamp": 1.527220601277E12,
     "user_tz": -540.0,
     "elapsed": 562.0,
     "user": {
      "displayName": "大下健史",
      "photoUrl": "https://lh3.googleusercontent.com/a/default-user=s128",
      "userId": "114806679545096700120"
     }
    }
   },
   "outputs": [
    {
     "name": "stdout",
     "output_type": "stream",
     "text": [
      "211\n",
      "211\n"
     ]
    }
   ],
   "source": [
    "import string\n",
    "punc = set(list(string.punctuation))\n",
    "stop_words = set(stopwords.words('english'))\n",
    "print(len(stop_words.union(punc)))\n",
    "stop_words = stop_words.union(punc)\n",
    "print(len(stop_words))\n",
    "#list(stop_words)[:5]"
   ]
  },
  {
   "cell_type": "code",
   "execution_count": 6,
   "metadata": {
    "id": "_tuSopYzGYRl",
    "colab_type": "code",
    "colab": {
     "autoexec": {
      "startup": false,
      "wait_interval": 0.0
     },
     "base_uri": "https://localhost:8080/",
     "height": 34.0
    },
    "outputId": "0fd5f809-2224-48c4-947e-13f41caa755f",
    "executionInfo": {
     "status": "ok",
     "timestamp": 1.527220618541E12,
     "user_tz": -540.0,
     "elapsed": 556.0,
     "user": {
      "displayName": "大下健史",
      "photoUrl": "https://lh3.googleusercontent.com/a/default-user=s128",
      "userId": "114806679545096700120"
     }
    }
   },
   "outputs": [
    {
     "data": {
      "text/plain": [
       "['This', 'study', 'aimed', 'to', 'produce']"
      ]
     },
     "execution_count": 6,
     "metadata": {
      "tags": []
     },
     "output_type": "execute_result"
    }
   ],
   "source": [
    "sentences = sent_tokenize(docs[0])\n",
    "words = word_tokenize(docs[0])\n",
    "words[:5]"
   ]
  },
  {
   "cell_type": "markdown",
   "metadata": {
    "id": "dLdQ8z2zXKFZ",
    "colab_type": "text"
   },
   "source": [
    "## doc2vec を使ってみる"
   ]
  },
  {
   "cell_type": "code",
   "execution_count": 0,
   "metadata": {
    "id": "dd8G1q4Tuagh",
    "colab_type": "code",
    "colab": {
     "autoexec": {
      "startup": false,
      "wait_interval": 0.0
     }
    }
   },
   "outputs": [],
   "source": [
    "import gensim\n",
    "from gensim.models.doc2vec import Doc2Vec\n",
    "from gensim.models.doc2vec import TaggedDocument\n"
   ]
  },
  {
   "cell_type": "code",
   "execution_count": 8,
   "metadata": {
    "id": "UOaRQz3vHMCY",
    "colab_type": "code",
    "colab": {
     "autoexec": {
      "startup": false,
      "wait_interval": 0.0
     },
     "base_uri": "https://localhost:8080/",
     "height": 178.0
    },
    "outputId": "9c1241dc-0bbd-48f7-ef20-92f28a91d302",
    "executionInfo": {
     "status": "ok",
     "timestamp": 1.52722062557E12,
     "user_tz": -540.0,
     "elapsed": 574.0,
     "user": {
      "displayName": "大下健史",
      "photoUrl": "https://lh3.googleusercontent.com/a/default-user=s128",
      "userId": "114806679545096700120"
     }
    }
   },
   "outputs": [
    {
     "data": {
      "text/plain": [
       "[TaggedDocument(words=['This', 'study', 'aimed', 'produce', 'inexpensive', '5-aminolevulinic', 'acid', 'ALA', 'non-sterile', 'latex', 'rubber', 'sheet', 'wastewater', 'RSW', 'Rhodopseudomonas', 'palustris', 'TN114', 'PP803', 'possibility', 'use', 'agricultural', 'purposes', 'investigating', 'optimum', 'conditions', 'applying', 'wood', 'vinegar', 'WV', 'economical', 'source', 'levulinic', 'acid', 'enhance', 'ALA', 'content', 'The', 'Box-Behnken', 'Design', 'experiment', 'conducted', 'microaerobic-light', 'conditions', '96', 'h', 'TN114', 'PP803', 'mixed', 'culture', '1:1', 'varying', 'initial', 'pH', 'inoculum', 'size', 'v/v', 'initial', 'chemical', 'oxygen', 'demand', 'COD', 'mg/L', 'Results', 'showed', 'optimal', 'condition', 'pH', 'inoculum', 'size', 'COD', 'set', 'produce', 'extracellular', 'ALA', 'found', '7.50', '6.00', '2000', 'TN114', '7.50', '7.00', '3000', 'PP803', '7.50', '6.00', '4000', 'mixed', 'culture', 'set', 'achieved', 'COD', 'reduction', 'high', '63', '71', '75', 'respectively', 'Addition', 'optimal', 'concentration', 'WV', 'mid', 'log', 'phase', '0.63', 'TN114', '1.25', 'PP803', 'mixed', 'culture', 'significantly', 'increased', 'ALA', 'content', '3.7-4.2', 'times', '128', '90', '131', 'μM', 'respectively', 'compared', 'controls', 'ALA', 'production', 'cost', 'could', 'reduced', 'approximately', '31', 'times', 'WV', 'basis', 'amount', 'levulinic', 'acid', 'used', 'Effluent', 'containing', 'ALA', 'using', 'agriculture', 'could', 'achieved', 'treating', 'RSW', 'selected', 'ALA', 'producer', 'R.', 'palustris', 'strains', 'optimized', 'condition', 'little', 'WV', 'additive'], tags=['d00']),\n",
       " TaggedDocument(words=['Depressive', 'patients', 'often', 'experience', 'difficulty', 'performing', 'exercise', 'due', 'physical', 'psychological', 'barriers', 'We', 'examined', 'effects', '5-aminolevulinic', 'acid', 'ALA', 'sodium', 'ferrous', 'citrate', 'SFC', 'supplementation', 'home-based', 'walking', 'training', 'middle-aged', 'depressive', 'women', 'Nine', 'outpatients', '53', '±', '8', 'SD', 'yr', 'major', 'depressive', 'disorder', 'participated', 'pilot', 'study', 'randomized', 'placebo-controlled', 'double-blind', 'crossover', 'design', 'They', 'underwent', 'two', 'trials', '7', 'days', 'performing', 'interval', 'walking', 'training', 'IWT', 'ALA', 'SFC', 'ALA', 'SFC', 'placebo', 'supplement', 'intake', 'PLC', 'intermittently', '10-day', 'washout', 'period', 'For', 'first', '6', 'days', 'trial', 'exercise', 'intensity', 'IWT', 'measured', 'accelerometry', 'Before', 'trial', 'subjects', 'underwent', 'graded', 'cycling', 'test', 'lactate', 'concentration', 'plasma', 'Lac-', 'p', 'oxygen', 'consumption', 'rate', 'Formula', 'see', 'text', 'carbon', 'dioxide', 'production', 'rate', 'Formula', 'see', 'text', 'measured', 'depression', 'severity', 'Montgomery-Åsberg', 'Depression', 'Rating', 'Scale', 'MADRS', 'We', 'found', 'increases', 'Lac-', 'p', 'Formula', 'see', 'text', 'Formula', 'see', 'text', 'test', 'attenuated', 'ALA', 'SFC', 'vs.', '×', 'workload', 'P', '0.01', 'accompanied', 'increased', 'training', 'days', 'impulse', 'time', 'fast', 'walking', 'IWT', 'P', '0.05', 'decreased', 'MADRS-score', 'P', '0.001', 'Thus', 'ALA', 'SFC', 'supplementation', 'increased', 'IWT', 'achievement', 'improve', 'depressive', 'symptoms', 'middle-aged', 'women'], tags=['d01']),\n",
       " TaggedDocument(words=['OBJECTIVE', 'To', 'study', 'curative', 'effect', 'red-light', '5-Aminolevulinic', 'photodynamic', 'therapy', 'ALA-PDT', 'port', 'wine', 'stains', 'PWS', 'comb', 'animal', 'model', 'METHODS', '160', 'male', 'cocks', 'randomly', 'divided', '16', 'groups', 'The', 'ALA', 'group', 'given', 'ALA', 'topical', 'systemic', 'application', 'Light', 'groups', 'given', '630', 'nm', 'red', 'light', 'irradiation', 'different', 'light', 'density', 'ALA-PDT', 'groups', 'given', 'red', 'light', 'application', 'topical', 'systemic', 'ALA.', 'PDL', 'group', 'given', 'PDL', 'irradiation', 'The', 'distribution', 'fluorescence', 'tissue', 'topical', 'systemic', 'application', 'ALA', 'detected', 'The', 'morphological', 'changes', 'pathological', 'changes', 'capillary', 'reduction', 'rate', 'comb', 'observed', 'treatment', '0', '1', '3', '5', '7', '14', 'days', 'RESULTS', 'The', 'PpIX', 'fluorescence', 'generated', 'topical', 'systemic', 'application', 'ALA', 'In', 'topical', 'ALA-PDT', 'group', 'low', 'light', 'density', '80', 'J/cm2', 'morphology', 'histopathology', 'obvious', 'change', 'While', '160', 'J/cm2', '200', 'J/cm2', 'light', 'density', 'severe', 'erosion', 'thick', 'scab', 'appeared', 'The', 'histopathology', 'showed', 'epidermal', 'necrosis', 'loss', 'The', 'immunohistochemistry', 'showed', 'significant', 'change', 'number', 'capillaries', 'different', 'light', 'density', 'P', '0.05', 'In', 'systemic', 'ALA-PDT', 'group', 'low', 'light', 'density', '80', 'J/cm2', 'partial', 'erosion', 'thin', 'scab', 'observed', 'treatment', 'side', 'With', 'increase', 'light', 'density', 'thick', 'charred', 'crust', 'even', 'scar', 'observed', 'The', 'histopathology', 'showed', 'different', 'degrees', 'damage', 'dermal', 'epidermal', 'tissues', 'And', 'immunohistochemistry', 'showed', 'capillary', 'reduced', 'significantly', 'treatment', 'side', 'P', '0.01', 'In', 'control', 'group', 'comb', 'ruddy', 'plump', 'CONCLUSION', 'These', 'results', 'suggest', 'either', 'topical', 'systemic', 'red-light', 'ALA-PDT', 'suitable', 'treatment', 'methods', 'PWS', 'Copyright', '©', '2018', 'Elsevier', 'B.V.', 'All', 'rights', 'reserved', 'KEYWORDS', '5-aminolevulinic', 'acid', 'comb', 'animal', 'model', 'photodynamic', 'therapy', 'port', 'wine', 'stains', 'red', 'light'], tags=['d02']),\n",
       " TaggedDocument(words=['BACKGROUND', 'Patients', 'suffering', 'malignant', 'gliomas', 'poor', 'prognosis', 'For', 'surgical', 'treatment', 'tumors', '5-aminolevulinic', 'acid', '5-ALA', 'become', 'new', 'standard', 'AIMS', 'This', 'review', 'intends', 'provide', 'overview', 'current', 'status', 'significance', 'limitations', 'future', 'perspectives', '5-ALA', 'based', 'fluorescence', 'guided', 'surgery', 'photodynamic', 'therapy', 'brain', 'tumor', 'patients', 'MATERIALS', 'AND', 'METHODS', 'From', 'peer', 'reviewed', 'publications', 'many', 'aspects', 'connected', 'topic', 'potential', 'clinical', 'relevance', 'selected', 'put', 'context', 'experience', 'RESULTS', 'AND', 'DISCUSSION', 'The', 'high', 'tumor', 'selectivity', 'accumulation', 'fluorescent', 'protoporphyrin', 'IX', 'PpIX', 'systemic', 'administration', '5-ALA', 'enables', 'intra-operative', 'fluorescence', 'guidance', 'unimpaired', 'brainshift', 'require', 'expensive', 'equipment', 'The', 'neurosurgical', 'aim', 'complete', 'resection', 'enhancing', 'tumor', 'easily', 'achieved', 'improves', 'prognosis', 'patients', 'Nevertheless', 'despite', 'better', 'surgery', 'tumors', 'inevitably', 'recur', 'In', 'order', 'prolong', 'survival', 'phototoxic', 'properties', 'PpIX', 'presently', 'exploited', 'clinical', 'trials', 'post-operative', 'interstitial', 'photodynamic', 'therapy', 'PDT', 'CONCLUSION', '5-ALA', 'based', 'fluorescence', 'guidance', 'PDT', 'offer', 'intriguing', 'new', 'option', 'management', 'malignant', 'gliomas', 'Lasers', 'Surg', 'Med', '9999:1-21', '2018', '©', '2018', 'Wiley', 'Periodicals', 'Inc.', '©', '2018', 'The', 'Authors', 'Lasers', 'Surgery', 'Medicine', 'Published', 'Wiley', 'Periodicals', 'Inc.', 'KEYWORDS', 'aminolevulinic', 'acid', '5-ALA', 'fluorescence', 'guided', 'surgery', 'malignant', 'glioma', 'photodynamic', 'therapy', 'PDT', 'protoporphyrin', 'IX', 'PpIX', 'stereotactic', 'biopsy'], tags=['d03']),\n",
       " TaggedDocument(words=['To', 'evaluate', 'feasibility', 'photodynamic', 'diagnosis', 'using', '5-aminolevulinic', 'acid', 'PDD-ALA', 'detection', 'prostate', 'cancer', 'PCa', 'cells', 'urine', 'samples', 'prostate', 'massage', 'patients', 'suspected', 'PCa', 'One', 'hundred', 'eighty-nine', 'patients', 'abnormal', 'digital', 'rectal', 'examination', 'and/or', 'elevated', 'prostate-specific', 'antigen', 'PSA', 'level', 'underwent', 'initial', 'prostate', 'biopsy', 'recruited', 'After', 'prostate', 'massage', 'first', '60', 'mL', 'voided', 'urine', 'collected', 'For', 'PDD-ALA', '50', 'mL', 'used', 'The', 'rest', 'collected', 'urine', 'used', 'polymerase', 'chain', 'reaction', 'PCR', 'PSA', 'glyceraldehyde', '3-phosphate', 'dehydrogenase', 'GAPDH', 'After', 'incubation', '2', 'h', 'intensity', 'measured', '635', 'nm', '405-nm', 'wavelength', 'excitation', 'The', 'results', 'PDD-ALA', 'compared', 'initial', 'transrectal', 'ultrasound', 'TRUS', '-guided', 'prostate', 'biopsy', 'Overall', '126/189', '67', 'samples', 'showed', 'bands', 'PSA', 'GAPDH', 'PCR', 'urine', 'samples', 'analyzed', 'The', 'area', 'curve', 'sensitivity', 'specificity', 'PDD-ALA', '0.74', '77', '67', 'respectively', 'The', 'value', 'PDD-ALA', 'significantly', 'higher', 'patients', 'Gleason', 'scores', '6', 'p', '0.03', '7', 'p', '0.005', '8-10', 'p', '0.0002', 'negative', 'biopsy', 'results', 'In', 'multivariate', 'analysis', 'high', 'PSA', 'density', 'abnormal', 'findings', 'TRUS', 'high', 'value', 'PDD-ALA', 'significant', 'markers', 'prediction', 'positive', 'biopsy', 'results', 'PDD-ALA', 'useful', 'predict', 'positive', 'biopsy', 'results', 'patients', 'underwent', 'initial', 'prostate', 'biopsy', 'suspected', 'PCa', 'This', 'PCa-detection', 'method', 'potential', 'clinical', 'use'], tags=['d04']),\n",
       " TaggedDocument(words=['Protoporphyrin', 'IX', 'PpIX', 'endogenous', 'fluorescent', 'molecule', 'selectively', 'accumulates', 'cancer', 'cells', 'treated', 'heme', 'precursor', '5-aminolevulinic', 'acid', '5-ALA', 'This', 'cancer-specific', 'accumulation', 'PpIX', 'used', 'distinguish', 'tumor', 'normal', 'tissues', 'fluorescence-guided', 'surgery', 'FGS', 'destroy', 'cancer', 'cells', 'photodynamic', 'therapy', 'PDT', 'In', 'study', 'demonstrate', 'oncogenic', 'Ras/mitogen-activated', 'protein', 'kinase', 'kinase', 'MEK', 'pathway', 'modulate', 'PpIX', 'accumulation', 'cancer', 'cells', 'Methods', 'To', 'identify', 'Ras', 'downstream', 'elements', 'involved', 'PpIX', 'accumulation', 'chemical', 'inhibitors', 'used', 'To', 'demonstrate', 'increase', 'PpIX', 'accumulation', 'MEK', 'inhibition', 'different', 'human', 'normal', 'cancer', 'cell', 'lines', 'BALB/c', 'mice', 'bearing', 'mammary', '4T1', 'tumors', 'athymic', 'nude', 'mice', 'bearing', 'human', 'tumors', 'used', 'To', 'identify', 'mechanisms', 'PpIX', 'regulation', 'MEK', 'biochemical', 'molecular', 'biological', 'experiments', 'conducted', 'Results', 'Inhibition', 'one', 'Ras', 'downstream', 'elements', 'MEK', 'promoted', 'PpIX', 'accumulation', 'cancer', 'cells', 'treated', '5-ALA', 'inhibitors', 'Ras', 'downstream', 'elements', 'Increased', 'PpIX', 'accumulation', 'MEK', 'inhibition', 'observed', 'different', 'types', 'human', 'cancer', 'cell', 'lines', 'normal', 'cell', 'lines', 'We', 'identified', 'two', 'independent', 'cellular', 'mechanisms', 'underlie', 'effect', 'cancer', 'cells', 'MEK', 'inhibition', 'reduced', 'PpIX', 'efflux', 'cancer', 'cells', 'decreasing', 'expression', 'level', 'ATP', 'binding', 'cassette', 'subfamily', 'B', 'member', '1', 'ABCB1', 'transporter', 'In', 'addition', 'activity', 'ferrochelatase', 'FECH', 'enzyme', 'responsible', 'converting', 'PpIX', 'heme', 'reduced', 'MEK', 'inhibition', 'Finally', 'found', 'vivo', 'treatment', 'MEK', 'inhibitors', 'increased', 'PpIX', 'accumulation', '2.2-', '2.4-fold', 'within', 'mammary', '4T1', 'tumors', 'BALB/c', 'mice', 'injected', '5-ALA', 'without', 'change', 'normal', 'organs', 'Similar', 'results', 'also', 'observed', 'human', 'tumor', 'xenograft', 'model', 'Conclusion', 'Our', 'study', 'demonstrates', 'inhibition', 'oncogenic', 'Ras/MEK', 'significantly', 'enhances', 'PpIX', 'accumulation', 'vitro', 'vivo', 'cancer-specific', 'manner', 'Thus', 'suppressing', 'Ras/MEK', 'pathway', 'may', 'viable', 'strategy', 'selectively', 'intensify', 'PpIX', 'fluorescence', 'cancer', 'cells', 'improve', 'clinical', 'applications', 'FGS'], tags=['d05']),\n",
       " TaggedDocument(words=['Hidradenitis', 'suppurativa/acne', 'inversa', 'HS/AI', 'type', 'chronic', 'suppurative', 'inflammatory', 'reaction', 'hair', 'follicles', 'characterized', 'recurrent', 'dermal', 'abscesses', 'sinus', 'tracts', 'scars', 'So', 'far', 'prospective', 'study', 'proving', 'efficacy', 'safety', 'photodynamic', 'therapy', 'disease', 'In', 'report', 'one', 'case', 'HS/AI', 'achieved', 'resolution', 'skin', 'lesions', 'ulcer', 'healing', 'disappearance', 'symptoms', 'nine', 'treatments', '5-aminolevulinic', 'acid', 'photodynamic', 'therapy', 'ALA-PDT'], tags=['d06']),\n",
       " TaggedDocument(words=['Hepatocellular', 'carcinoma', 'HCC', 'third', 'lethal', 'cancer', 'worldwide', 'Despite', 'progress', 'identifying', 'risk', 'factors', 'incidence', 'HCC', 'increasing', 'Moreover', 'therapeutic', 'options', 'limited', 'survival', 'poor', 'Therefore', 'alternative', 'innovative', 'therapeutic', 'strategies', 'urgently', 'required', 'R-Tf-D-LP4', 'cell-penetrating', 'peptide', 'derived', 'mitochondrial', 'multifunctional', 'protein', 'voltage-dependent', 'anion', 'channel', 'VDAC1', 'identified', 'highly', 'effective', 'liver', 'cancer', 'treatment', 'Recently', 'demonstrated', 'R-Tf-D-LP4', 'induced', 'apoptosis', 'inhibited', 'tumor', 'growth', 'mouse', 'models', 'We', 'demonstrate', 'R-Tf-D-LP4', 'induced', 'apoptosis', 'cancer', 'liver-derived', 'cell', 'lines', 'inhibited', 'tumor', 'growth', 'three', 'different', 'liver', 'cancer', 'mouse', 'models', 'These', 'included', 'diethylnitrosamine', 'DEN', '-induced', 'HCC', 'metabolically', 'high-fat', 'diet-induced', 'HCC', 'using', 'subcutaneous', 'HepG2', 'cell', 'xenograft', 'model', 'Intravenous', 'injection', 'peptide', 'tumor-carrying', 'DEN-treated', 'mice', 'resulted', 'dose-dependent', 'inhibition', 'tumor', 'growth', 'complete', 'tumor', 'elimination', 'TUNEL', 'staining', 'liver', 'sections', 'demonstrated', 'peptide-induced', 'apoptosis', 'Hematoxylin/eosin', 'Sirius', 'red', 'staining', 'liver', 'sections', 'showed', 'decreased', 'fibrotic', 'formation', 'Immunohistochemical', 'staining', 'demonstrated', 'reduced', 'numbers', 'α-SMA-expressing', 'cells', 'R-Tf-D-LP4-treated', 'mouse', 'livers', 'Additionally', 'macrophage', 'presence', 'liver', 'tissue', 'reduced', 'R-Tf-D-LP4-treated', 'mice', 'Liver', 'sections', 'DEN-treated', 'mice', 'showed', 'steatohepatic', 'pathology', 'reflected', 'fatty', 'liver', 'inflammation', 'ballooning', 'degeneration', 'fibrosis', 'eliminated', 'upon', 'peptide', 'treatment', 'Peptide', 'treatment', 'also', 'inhibited', 'tumor', 'development', 'nonalcoholic', 'steatohepatitis-hepatocellular', 'carcinoma', 'mouse', 'model', 'induced', 'HFD', 'In', 'HepG2', 'subcutaneous', 'tumor', 'xenografts', 'R-Tf-D-LP4', 'inhibited', 'tumor', 'growth'], tags=['d07'])]"
      ]
     },
     "execution_count": 8,
     "metadata": {
      "tags": []
     },
     "output_type": "execute_result"
    }
   ],
   "source": [
    "tagdocs = []\n",
    "for idx, txt in enumerate(docs):\n",
    "  #words = word_tokenize(txt)\n",
    "  words = [w for w in word_tokenize(txt) if w not in stop_words]\n",
    "  doc_id = \"d%02d\" % (idx)\n",
    "  tagdocs.append(TaggedDocument(words=words, tags=[doc_id]))\n",
    "tagdocs"
   ]
  },
  {
   "cell_type": "code",
   "execution_count": 0,
   "metadata": {
    "id": "PH2p-kHuGbQ_",
    "colab_type": "code",
    "colab": {
     "autoexec": {
      "startup": false,
      "wait_interval": 0.0
     }
    }
   },
   "outputs": [],
   "source": [
    "model = Doc2Vec(documents=tagdocs, vector_size=128, window=5, seed=123, min_count=1, dm=0, hs=1, negative=15, dbow_words=1)"
   ]
  },
  {
   "cell_type": "code",
   "execution_count": 10,
   "metadata": {
    "id": "LIJ6am7PK4Nb",
    "colab_type": "code",
    "colab": {
     "autoexec": {
      "startup": false,
      "wait_interval": 0.0
     },
     "base_uri": "https://localhost:8080/",
     "height": 140.0
    },
    "outputId": "f6a747e7-2699-4c9a-c4b2-edc8f3803aa5",
    "executionInfo": {
     "status": "ok",
     "timestamp": 1.527220634322E12,
     "user_tz": -540.0,
     "elapsed": 547.0,
     "user": {
      "displayName": "大下健史",
      "photoUrl": "https://lh3.googleusercontent.com/a/default-user=s128",
      "userId": "114806679545096700120"
     }
    }
   },
   "outputs": [
    {
     "data": {
      "text/plain": [
       "[('d06', 0.9992667436599731),\n",
       " ('d03', 0.9989093542098999),\n",
       " ('d01', 0.9984999299049377),\n",
       " ('d04', 0.9976261854171753),\n",
       " ('d02', 0.9972378015518188),\n",
       " ('d07', 0.9962378740310669),\n",
       " ('d05', 0.9929424524307251)]"
      ]
     },
     "execution_count": 10,
     "metadata": {
      "tags": []
     },
     "output_type": "execute_result"
    }
   ],
   "source": [
    "model.docvecs.most_similar(\"d00\")"
   ]
  },
  {
   "cell_type": "code",
   "execution_count": 12,
   "metadata": {
    "id": "zqh_MqpIK8pG",
    "colab_type": "code",
    "colab": {
     "autoexec": {
      "startup": false,
      "wait_interval": 0.0
     },
     "base_uri": "https://localhost:8080/",
     "height": 34.0
    },
    "outputId": "b31cb8bb-ae02-4eed-f164-a1fb994e7f2d",
    "executionInfo": {
     "status": "ok",
     "timestamp": 1.527220646386E12,
     "user_tz": -540.0,
     "elapsed": 817.0,
     "user": {
      "displayName": "大下健史",
      "photoUrl": "https://lh3.googleusercontent.com/a/default-user=s128",
      "userId": "114806679545096700120"
     }
    }
   },
   "outputs": [
    {
     "data": {
      "text/plain": [
       "(128,)"
      ]
     },
     "execution_count": 12,
     "metadata": {
      "tags": []
     },
     "output_type": "execute_result"
    }
   ],
   "source": [
    "model.docvecs[\"d00\"].shape"
   ]
  },
  {
   "cell_type": "code",
   "execution_count": 38,
   "metadata": {
    "id": "AVJqjHx3LHd3",
    "colab_type": "code",
    "colab": {
     "autoexec": {
      "startup": false,
      "wait_interval": 0.0
     },
     "base_uri": "https://localhost:8080/",
     "height": 474.0
    },
    "outputId": "3540aabd-2e32-46d0-8328-0f8315b1e960",
    "executionInfo": {
     "status": "ok",
     "timestamp": 1.526532835226E12,
     "user_tz": -540.0,
     "elapsed": 580.0,
     "user": {
      "displayName": "大下健史",
      "photoUrl": "https://lh3.googleusercontent.com/a/default-user=s128",
      "userId": "114806679545096700120"
     }
    }
   },
   "outputs": [
    {
     "data": {
      "text/plain": [
       "array([-0.00571354,  0.02097032, -0.01281678,  0.04184254, -0.05303897,\n",
       "       -0.18993583, -0.10363462,  0.16176729,  0.1645555 ,  0.34434614,\n",
       "       -0.17520592, -0.03383131, -0.18021983,  0.09636024, -0.11200459,\n",
       "        0.11767135,  0.01322979, -0.00552709, -0.08480673,  0.07683162,\n",
       "       -0.25483888, -0.03588335,  0.16793099,  0.04221325,  0.0620208 ,\n",
       "        0.10704672,  0.16179086, -0.28098506, -0.2503317 ,  0.12218387,\n",
       "       -0.34006304,  0.07723379, -0.3121554 ,  0.01163692,  0.01451837,\n",
       "       -0.26377794,  0.13560846, -0.17652012, -0.35899654,  0.0801649 ,\n",
       "       -0.0305558 ,  0.01354969, -0.39329967,  0.24600925, -0.10612968,\n",
       "       -0.00147976, -0.09986916,  0.11085409,  0.14331469,  0.21884233,\n",
       "        0.02623219, -0.05346802,  0.07421736,  0.12749517, -0.19810304,\n",
       "        0.06627358,  0.28370166,  0.26695457,  0.07047858, -0.06312058,\n",
       "        0.01366573, -0.07889802, -0.15224098,  0.15477127, -0.09339978,\n",
       "        0.02477613,  0.01813412, -0.24927856,  0.09329145, -0.07463794,\n",
       "       -0.24081963, -0.03234118,  0.00229511,  0.19366273, -0.13109277,\n",
       "        0.00122435, -0.04645211, -0.21170802, -0.16195498,  0.11186309,\n",
       "        0.07401095,  0.05613855, -0.00142934,  0.54422665, -0.0177481 ,\n",
       "        0.03788354,  0.05396792, -0.02964064, -0.03769056,  0.02041543,\n",
       "       -0.0219248 ,  0.01713043, -0.3386421 , -0.23216088,  0.15813571,\n",
       "       -0.06251164, -0.04925893, -0.01356061, -0.08438736, -0.24940993,\n",
       "       -0.3531803 ,  0.24214688,  0.09730081, -0.2133494 ,  0.0041887 ,\n",
       "       -0.19202943, -0.15274298,  0.01869332, -0.13495329, -0.08019719,\n",
       "        0.08166485, -0.10044309,  0.3355555 , -0.41504943,  0.02895962,\n",
       "       -0.02331194, -0.16860752,  0.27759248,  0.02984468,  0.09130536,\n",
       "        0.13065858,  0.15160878,  0.2956638 ,  0.08147755,  0.03510195,\n",
       "        0.07539065,  0.10215684, -0.12115946], dtype=float32)"
      ]
     },
     "execution_count": 38,
     "metadata": {
      "tags": []
     },
     "output_type": "execute_result"
    }
   ],
   "source": [
    "model.wv[\"ALA\"]"
   ]
  },
  {
   "cell_type": "code",
   "execution_count": 39,
   "metadata": {
    "id": "UVkH-ckgP1Wv",
    "colab_type": "code",
    "colab": {
     "autoexec": {
      "startup": false,
      "wait_interval": 0.0
     },
     "base_uri": "https://localhost:8080/",
     "height": 193.0
    },
    "outputId": "2c25e916-80db-4dfd-df56-9afebb3bf901",
    "executionInfo": {
     "status": "ok",
     "timestamp": 1.526532837502E12,
     "user_tz": -540.0,
     "elapsed": 502.0,
     "user": {
      "displayName": "大下健史",
      "photoUrl": "https://lh3.googleusercontent.com/a/default-user=s128",
      "userId": "114806679545096700120"
     }
    }
   },
   "outputs": [
    {
     "data": {
      "text/plain": [
       "[('SFC', 0.9998091459274292),\n",
       " ('systemic', 0.9998059272766113),\n",
       " ('topical', 0.9997920393943787),\n",
       " ('IWT', 0.9997838735580444),\n",
       " ('results', 0.9997795224189758),\n",
       " ('bearing', 0.9997735023498535),\n",
       " ('cell', 0.9997730255126953),\n",
       " ('7.50', 0.9997722506523132),\n",
       " ('induced', 0.9997708797454834),\n",
       " ('biopsy', 0.9997708201408386)]"
      ]
     },
     "execution_count": 39,
     "metadata": {
      "tags": []
     },
     "output_type": "execute_result"
    }
   ],
   "source": [
    "model.wv.similar_by_word(\"ALA\")"
   ]
  },
  {
   "cell_type": "code",
   "execution_count": 0,
   "metadata": {
    "id": "wxDmaJwTawn2",
    "colab_type": "code",
    "colab": {
     "autoexec": {
      "startup": false,
      "wait_interval": 0.0
     }
    }
   },
   "outputs": [],
   "source": [
    "k = model.wv.\n",
    "model.wv.similar_by_vector()"
   ]
  },
  {
   "cell_type": "code",
   "execution_count": 13,
   "metadata": {
    "id": "ZH5hR1M0r3Ri",
    "colab_type": "code",
    "colab": {
     "autoexec": {
      "startup": false,
      "wait_interval": 0.0
     },
     "base_uri": "https://localhost:8080/",
     "height": 193.0
    },
    "outputId": "78c2cf9d-a48c-4918-eee3-bb09d764bffe",
    "executionInfo": {
     "status": "ok",
     "timestamp": 1.52645296438E12,
     "user_tz": -540.0,
     "elapsed": 532.0,
     "user": {
      "displayName": "大下健史",
      "photoUrl": "https://lh3.googleusercontent.com/a/default-user=s128",
      "userId": "114806679545096700120"
     }
    }
   },
   "outputs": [
    {
     "data": {
      "text/plain": [
       "[('human', 0.3141418397426605),\n",
       " ('immunohistochemistry', 0.27427732944488525),\n",
       " ('Ras', 0.27043384313583374),\n",
       " ('sections', 0.26403236389160156),\n",
       " ('lines', 0.24866196513175964),\n",
       " ('aim', 0.22179564833641052),\n",
       " ('clinical', 0.21243099868297577),\n",
       " ('wastewater', 0.2076757550239563),\n",
       " ('number', 0.2049652338027954),\n",
       " ('0', 0.20271295309066772)]"
      ]
     },
     "execution_count": 13,
     "metadata": {
      "tags": []
     },
     "output_type": "execute_result"
    }
   ],
   "source": [
    "model.wv.similar_by_word(\"aminolevulinic\")"
   ]
  },
  {
   "cell_type": "code",
   "execution_count": 51,
   "metadata": {
    "id": "H8MUY1_TXowO",
    "colab_type": "code",
    "colab": {
     "autoexec": {
      "startup": false,
      "wait_interval": 0.0
     },
     "base_uri": "https://localhost:8080/",
     "height": 193.0
    },
    "outputId": "b75d98d2-dbe2-4560-f686-d90005f9d9c2",
    "executionInfo": {
     "status": "ok",
     "timestamp": 1.526364428277E12,
     "user_tz": -540.0,
     "elapsed": 720.0,
     "user": {
      "displayName": "大下健史",
      "photoUrl": "https://lh3.googleusercontent.com/a/default-user=s128",
      "userId": "114806679545096700120"
     }
    }
   },
   "outputs": [
    {
     "data": {
      "text/plain": [
       "[('PCa', 0.37797242403030396),\n",
       " ('The', 0.369717001914978),\n",
       " ('topical', 0.3517023026943207),\n",
       " ('results', 0.34822237491607666),\n",
       " ('cell', 0.33701422810554504),\n",
       " ('days', 0.3124566972255707),\n",
       " ('guidance', 0.30019405484199524),\n",
       " ('TRUS', 0.29105085134506226),\n",
       " ('ALA-PDT', 0.2785578966140747),\n",
       " ('photodynamic', 0.27653008699417114)]"
      ]
     },
     "execution_count": 51,
     "metadata": {
      "tags": []
     },
     "output_type": "execute_result"
    }
   ],
   "source": [
    "model.wv.similar_by_word(\"PpIX\")"
   ]
  },
  {
   "cell_type": "code",
   "execution_count": 30,
   "metadata": {
    "id": "nqcqRxcLcb4e",
    "colab_type": "code",
    "colab": {
     "autoexec": {
      "startup": false,
      "wait_interval": 0.0
     },
     "base_uri": "https://localhost:8080/",
     "height": 122.0
    },
    "outputId": "c2372522-b51a-43a3-a82f-a8a47ba7c408",
    "executionInfo": {
     "status": "ok",
     "timestamp": 1.527223647199E12,
     "user_tz": -540.0,
     "elapsed": 786.0,
     "user": {
      "displayName": "大下健史",
      "photoUrl": "https://lh3.googleusercontent.com/a/default-user=s128",
      "userId": "114806679545096700120"
     }
    }
   },
   "outputs": [
    {
     "name": "stdout",
     "output_type": "stream",
     "text": [
      "[ALA] 0.9986648283925716\n",
      "[ALA-PDT] 0.9981809174406616\n",
      "[PpIX] 0.9990262603129307\n",
      "[photodynamic] 0.9990019693176385\n",
      "[topical] 0.9984952857524392\n",
      "[ALA+PpIX] 0.9989956141735904\n"
     ]
    }
   ],
   "source": [
    "import numpy\n",
    "\n",
    "def print_corr(w=\"ALA\"):\n",
    "  x = model.docvecs[\"d00\"]\n",
    "  y = model.wv[w]\n",
    "  crr = numpy.corrcoef(x, y)[1][0]\n",
    "  print(f\"[{w}]\", crr)\n",
    "\n",
    "print_corr(\"ALA\")\n",
    "print_corr(\"ALA-PDT\")\n",
    "print_corr(\"PpIX\")\n",
    "print_corr(\"photodynamic\")\n",
    "print_corr(\"topical\")\n",
    "\n",
    "x = model.docvecs[\"d00\"]\n",
    "y = model.wv[\"ALA\"] + model.wv[\"PpIX\"]\n",
    "print(\"[ALA+PpIX]\", numpy.corrcoef(x, y)[1][0])\n"
   ]
  },
  {
   "cell_type": "code",
   "execution_count": 10,
   "metadata": {
    "id": "kZdwWS09UkQZ",
    "colab_type": "code",
    "colab": {
     "autoexec": {
      "startup": false,
      "wait_interval": 0.0
     },
     "base_uri": "https://localhost:8080/",
     "height": 87.0
    },
    "outputId": "5939f16c-df84-42d0-d419-b33e3e7bbd2b",
    "executionInfo": {
     "status": "ok",
     "timestamp": 1.526260932526E12,
     "user_tz": -540.0,
     "elapsed": 1677.0,
     "user": {
      "displayName": "大下健史",
      "photoUrl": "https://lh3.googleusercontent.com/a/default-user=s128",
      "userId": "114806679545096700120"
     }
    }
   },
   "outputs": [
    {
     "name": "stdout",
     "output_type": "stream",
     "text": [
      "total 2028\r\n",
      "drwxr-xr-x 1 root root    4096 Apr 30 16:29 datalab\r\n",
      "drwxr-xr-x 3 root root    4096 May 14 01:21 nltk_data\r\n",
      "-rw-r--r-- 1 root root 2067542 May 14 01:22 doc2vec.model\r\n"
     ]
    }
   ],
   "source": [
    "model.save(\"doc2vec.model\")\n",
    "!ls -ltr"
   ]
  },
  {
   "cell_type": "markdown",
   "metadata": {
    "id": "WRpV4ojic8Do",
    "colab_type": "text"
   },
   "source": [
    "### 単語ベクトルの可視化"
   ]
  },
  {
   "cell_type": "code",
   "execution_count": 40,
   "metadata": {
    "id": "uyQtP0gLc7Wt",
    "colab_type": "code",
    "colab": {
     "autoexec": {
      "startup": false,
      "wait_interval": 0.0
     },
     "base_uri": "https://localhost:8080/",
     "height": 13023.0
    },
    "outputId": "86789562-4f87-4d0c-b0fa-5748fa2214ad",
    "executionInfo": {
     "status": "ok",
     "timestamp": 1.526534065539E12,
     "user_tz": -540.0,
     "elapsed": 654.0,
     "user": {
      "displayName": "大下健史",
      "photoUrl": "https://lh3.googleusercontent.com/a/default-user=s128",
      "userId": "114806679545096700120"
     }
    }
   },
   "outputs": [
    {
     "data": {
      "text/plain": [
       "{'-guided': <gensim.models.keyedvectors.Vocab at 0x7f73ad6ad400>,\n",
       " '-induced': <gensim.models.keyedvectors.Vocab at 0x7f73ad69c2b0>,\n",
       " '0': <gensim.models.keyedvectors.Vocab at 0x7f73af6fd470>,\n",
       " '0.0002': <gensim.models.keyedvectors.Vocab at 0x7f73ad6ad828>,\n",
       " '0.001': <gensim.models.keyedvectors.Vocab at 0x7f73af6ebac8>,\n",
       " '0.005': <gensim.models.keyedvectors.Vocab at 0x7f73ad6ad7b8>,\n",
       " '0.01': <gensim.models.keyedvectors.Vocab at 0x7f73af6ebbe0>,\n",
       " '0.03': <gensim.models.keyedvectors.Vocab at 0x7f73ad6ad780>,\n",
       " '0.05': <gensim.models.keyedvectors.Vocab at 0x7f73af6eb6a0>,\n",
       " '0.63': <gensim.models.keyedvectors.Vocab at 0x7f73ad69ec18>,\n",
       " '0.74': <gensim.models.keyedvectors.Vocab at 0x7f73ad6ad630>,\n",
       " '1': <gensim.models.keyedvectors.Vocab at 0x7f73af6fd4a8>,\n",
       " '1.25': <gensim.models.keyedvectors.Vocab at 0x7f73ad69ec50>,\n",
       " '10-day': <gensim.models.keyedvectors.Vocab at 0x7f73af7090b8>,\n",
       " '126/189': <gensim.models.keyedvectors.Vocab at 0x7f73ad6ad470>,\n",
       " '128': <gensim.models.keyedvectors.Vocab at 0x7f73ad69ed68>,\n",
       " '131': <gensim.models.keyedvectors.Vocab at 0x7f73ad69edd8>,\n",
       " '14': <gensim.models.keyedvectors.Vocab at 0x7f73af6fd550>,\n",
       " '16': <gensim.models.keyedvectors.Vocab at 0x7f73af6fa2b0>,\n",
       " '160': <gensim.models.keyedvectors.Vocab at 0x7f73af6fa278>,\n",
       " '1:1': <gensim.models.keyedvectors.Vocab at 0x7f73ad69e400>,\n",
       " '2': <gensim.models.keyedvectors.Vocab at 0x7f73ad6ad240>,\n",
       " '2.2-': <gensim.models.keyedvectors.Vocab at 0x7f73ad6d2b70>,\n",
       " '2.4-fold': <gensim.models.keyedvectors.Vocab at 0x7f73ad6d2ba8>,\n",
       " '200': <gensim.models.keyedvectors.Vocab at 0x7f73af6fd828>,\n",
       " '2000': <gensim.models.keyedvectors.Vocab at 0x7f73ad69e898>,\n",
       " '2018': <gensim.models.keyedvectors.Vocab at 0x7f73ad6aa0f0>,\n",
       " '3': <gensim.models.keyedvectors.Vocab at 0x7f73af6fd4e0>,\n",
       " '3-phosphate': <gensim.models.keyedvectors.Vocab at 0x7f73ad6ad160>,\n",
       " '3.7-4.2': <gensim.models.keyedvectors.Vocab at 0x7f73ad69ecf8>,\n",
       " '3000': <gensim.models.keyedvectors.Vocab at 0x7f73ad69e908>,\n",
       " '31': <gensim.models.keyedvectors.Vocab at 0x7f73af6e7080>,\n",
       " '4000': <gensim.models.keyedvectors.Vocab at 0x7f73ad69e940>,\n",
       " '405-nm': <gensim.models.keyedvectors.Vocab at 0x7f73ad6ad2b0>,\n",
       " '4T1': <gensim.models.keyedvectors.Vocab at 0x7f73ad6d2320>,\n",
       " '5': <gensim.models.keyedvectors.Vocab at 0x7f73af6fd518>,\n",
       " '5-ALA': <gensim.models.keyedvectors.Vocab at 0x7f73ad6aa470>,\n",
       " '5-Aminolevulinic': <gensim.models.keyedvectors.Vocab at 0x7f73b0fc5d68>,\n",
       " '5-aminolevulinic': <gensim.models.keyedvectors.Vocab at 0x7f73ad6a5828>,\n",
       " '50': <gensim.models.keyedvectors.Vocab at 0x7f73ad6c3f98>,\n",
       " '53': <gensim.models.keyedvectors.Vocab at 0x7f73b0f77940>,\n",
       " '6': <gensim.models.keyedvectors.Vocab at 0x7f73af709550>,\n",
       " '6.00': <gensim.models.keyedvectors.Vocab at 0x7f73ad69e860>,\n",
       " '60': <gensim.models.keyedvectors.Vocab at 0x7f73ad6c3eb8>,\n",
       " '63': <gensim.models.keyedvectors.Vocab at 0x7f73ad69ea20>,\n",
       " '630': <gensim.models.keyedvectors.Vocab at 0x7f73af6fd048>,\n",
       " '635': <gensim.models.keyedvectors.Vocab at 0x7f73ad6ad278>,\n",
       " '67': <gensim.models.keyedvectors.Vocab at 0x7f73ad6ad4a8>,\n",
       " '7': <gensim.models.keyedvectors.Vocab at 0x7f73af709240>,\n",
       " '7.00': <gensim.models.keyedvectors.Vocab at 0x7f73ad69e8d0>,\n",
       " '7.50': <gensim.models.keyedvectors.Vocab at 0x7f73ad69e828>,\n",
       " '71': <gensim.models.keyedvectors.Vocab at 0x7f73ad69ea58>,\n",
       " '75': <gensim.models.keyedvectors.Vocab at 0x7f73ad69ea90>,\n",
       " '77': <gensim.models.keyedvectors.Vocab at 0x7f73ad6ad668>,\n",
       " '8': <gensim.models.keyedvectors.Vocab at 0x7f73b0fd4278>,\n",
       " '8-10': <gensim.models.keyedvectors.Vocab at 0x7f73ad6ad7f0>,\n",
       " '80': <gensim.models.keyedvectors.Vocab at 0x7f73af6fd6a0>,\n",
       " '90': <gensim.models.keyedvectors.Vocab at 0x7f73ad69eda0>,\n",
       " '96': <gensim.models.keyedvectors.Vocab at 0x7f73ad69e320>,\n",
       " '9999:1-21': <gensim.models.keyedvectors.Vocab at 0x7f73ad6c35f8>,\n",
       " 'ABCB1': <gensim.models.keyedvectors.Vocab at 0x7f73ad6d2908>,\n",
       " 'AIMS': <gensim.models.keyedvectors.Vocab at 0x7f73ad6aa550>,\n",
       " 'ALA': <gensim.models.keyedvectors.Vocab at 0x7f73ad6a5a58>,\n",
       " 'ALA-PDT': <gensim.models.keyedvectors.Vocab at 0x7f73b0fc5eb8>,\n",
       " 'ALA.': <gensim.models.keyedvectors.Vocab at 0x7f73af6fd1d0>,\n",
       " 'AND': <gensim.models.keyedvectors.Vocab at 0x7f73ad6aa908>,\n",
       " 'ATP': <gensim.models.keyedvectors.Vocab at 0x7f73ad6d27b8>,\n",
       " 'Addition': <gensim.models.keyedvectors.Vocab at 0x7f73ad69eb00>,\n",
       " 'Additionally': <gensim.models.keyedvectors.Vocab at 0x7f73ad69c860>,\n",
       " 'After': <gensim.models.keyedvectors.Vocab at 0x7f73ad6c3e80>,\n",
       " 'All': <gensim.models.keyedvectors.Vocab at 0x7f73ad6aa198>,\n",
       " 'And': <gensim.models.keyedvectors.Vocab at 0x7f73af6fddd8>,\n",
       " 'Authors': <gensim.models.keyedvectors.Vocab at 0x7f73ad6c36d8>,\n",
       " 'B': <gensim.models.keyedvectors.Vocab at 0x7f73ad6d2898>,\n",
       " 'B.V.': <gensim.models.keyedvectors.Vocab at 0x7f73ad6aa160>,\n",
       " 'BACKGROUND': <gensim.models.keyedvectors.Vocab at 0x7f73ad6aa278>,\n",
       " 'BALB/c': <gensim.models.keyedvectors.Vocab at 0x7f73ad6d2240>,\n",
       " 'Before': <gensim.models.keyedvectors.Vocab at 0x7f73af709518>,\n",
       " 'Box-Behnken': <gensim.models.keyedvectors.Vocab at 0x7f73ad69e208>,\n",
       " 'COD': <gensim.models.keyedvectors.Vocab at 0x7f73ad69e630>,\n",
       " 'CONCLUSION': <gensim.models.keyedvectors.Vocab at 0x7f73af6fdeb8>,\n",
       " 'Conclusion': <gensim.models.keyedvectors.Vocab at 0x7f73ad6d2d68>,\n",
       " 'Copyright': <gensim.models.keyedvectors.Vocab at 0x7f73ad6aa080>,\n",
       " 'DEN': <gensim.models.keyedvectors.Vocab at 0x7f73ad69c278>,\n",
       " 'DEN-treated': <gensim.models.keyedvectors.Vocab at 0x7f73ad69c4a8>,\n",
       " 'DISCUSSION': <gensim.models.keyedvectors.Vocab at 0x7f73ad6aac18>,\n",
       " 'Depression': <gensim.models.keyedvectors.Vocab at 0x7f73af6ebef0>,\n",
       " 'Depressive': <gensim.models.keyedvectors.Vocab at 0x7f73ced64550>,\n",
       " 'Design': <gensim.models.keyedvectors.Vocab at 0x7f73ad69e240>,\n",
       " 'Despite': <gensim.models.keyedvectors.Vocab at 0x7f73ad6a7908>,\n",
       " 'Effluent': <gensim.models.keyedvectors.Vocab at 0x7f73af6e7c18>,\n",
       " 'Elsevier': <gensim.models.keyedvectors.Vocab at 0x7f73ad6aa128>,\n",
       " 'FECH': <gensim.models.keyedvectors.Vocab at 0x7f73ad6d2a20>,\n",
       " 'FGS': <gensim.models.keyedvectors.Vocab at 0x7f73ad6add68>,\n",
       " 'Finally': <gensim.models.keyedvectors.Vocab at 0x7f73ad6d2b00>,\n",
       " 'For': <gensim.models.keyedvectors.Vocab at 0x7f73af709588>,\n",
       " 'Formula': <gensim.models.keyedvectors.Vocab at 0x7f73af6ebba8>,\n",
       " 'From': <gensim.models.keyedvectors.Vocab at 0x7f73ad6aa940>,\n",
       " 'GAPDH': <gensim.models.keyedvectors.Vocab at 0x7f73ad6ad1d0>,\n",
       " 'Gleason': <gensim.models.keyedvectors.Vocab at 0x7f73ad6ad710>,\n",
       " 'HCC': <gensim.models.keyedvectors.Vocab at 0x7f73ad6a7828>,\n",
       " 'HFD': <gensim.models.keyedvectors.Vocab at 0x7f73ad69cc50>,\n",
       " 'HS/AI': <gensim.models.keyedvectors.Vocab at 0x7f73ad6a7128>,\n",
       " 'Hematoxylin/eosin': <gensim.models.keyedvectors.Vocab at 0x7f73ad69c668>,\n",
       " 'HepG2': <gensim.models.keyedvectors.Vocab at 0x7f73ad69c3c8>,\n",
       " 'Hepatocellular': <gensim.models.keyedvectors.Vocab at 0x7f73ad6a77b8>,\n",
       " 'Hidradenitis': <gensim.models.keyedvectors.Vocab at 0x7f73ad6a7080>,\n",
       " 'IWT': <gensim.models.keyedvectors.Vocab at 0x7f73af7092e8>,\n",
       " 'IX': <gensim.models.keyedvectors.Vocab at 0x7f73ad6aad30>,\n",
       " 'Immunohistochemical': <gensim.models.keyedvectors.Vocab at 0x7f73ad69c748>,\n",
       " 'In': <gensim.models.keyedvectors.Vocab at 0x7f73af6fd630>,\n",
       " 'Inc.': <gensim.models.keyedvectors.Vocab at 0x7f73ad6c36a0>,\n",
       " 'Increased': <gensim.models.keyedvectors.Vocab at 0x7f73ad6d25c0>,\n",
       " 'Inhibition': <gensim.models.keyedvectors.Vocab at 0x7f73ad6d2518>,\n",
       " 'Intravenous': <gensim.models.keyedvectors.Vocab at 0x7f73ad69c400>,\n",
       " 'J/cm2': <gensim.models.keyedvectors.Vocab at 0x7f73af6fd6d8>,\n",
       " 'KEYWORDS': <gensim.models.keyedvectors.Vocab at 0x7f73ad6aa240>,\n",
       " 'Lac-': <gensim.models.keyedvectors.Vocab at 0x7f73af6eba58>,\n",
       " 'Lasers': <gensim.models.keyedvectors.Vocab at 0x7f73ad6c3550>,\n",
       " 'Light': <gensim.models.keyedvectors.Vocab at 0x7f73af704f28>,\n",
       " 'Liver': <gensim.models.keyedvectors.Vocab at 0x7f73ad69c908>,\n",
       " 'MADRS': <gensim.models.keyedvectors.Vocab at 0x7f73af6eb668>,\n",
       " 'MADRS-score': <gensim.models.keyedvectors.Vocab at 0x7f73af6ebf60>,\n",
       " 'MATERIALS': <gensim.models.keyedvectors.Vocab at 0x7f73ad6aa8d0>,\n",
       " 'MEK': <gensim.models.keyedvectors.Vocab at 0x7f73ad6adef0>,\n",
       " 'METHODS': <gensim.models.keyedvectors.Vocab at 0x7f73af6fa128>,\n",
       " 'Med': <gensim.models.keyedvectors.Vocab at 0x7f73ad6c35c0>,\n",
       " 'Medicine': <gensim.models.keyedvectors.Vocab at 0x7f73ad6c3748>,\n",
       " 'Methods': <gensim.models.keyedvectors.Vocab at 0x7f73ad6adf98>,\n",
       " 'Montgomery-Åsberg': <gensim.models.keyedvectors.Vocab at 0x7f73af6ebcf8>,\n",
       " 'Moreover': <gensim.models.keyedvectors.Vocab at 0x7f73ad6a7a90>,\n",
       " 'Nevertheless': <gensim.models.keyedvectors.Vocab at 0x7f73ad6c3128>,\n",
       " 'Nine': <gensim.models.keyedvectors.Vocab at 0x7f73b0f77b70>,\n",
       " 'OBJECTIVE': <gensim.models.keyedvectors.Vocab at 0x7f73af6eb780>,\n",
       " 'One': <gensim.models.keyedvectors.Vocab at 0x7f73ad6c3b70>,\n",
       " 'Our': <gensim.models.keyedvectors.Vocab at 0x7f73ad6d2da0>,\n",
       " 'Overall': <gensim.models.keyedvectors.Vocab at 0x7f73ad6ad438>,\n",
       " 'P': <gensim.models.keyedvectors.Vocab at 0x7f73af6eb908>,\n",
       " 'PCR': <gensim.models.keyedvectors.Vocab at 0x7f73ad6ad0f0>,\n",
       " 'PCa': <gensim.models.keyedvectors.Vocab at 0x7f73ad6c3a20>,\n",
       " 'PCa-detection': <gensim.models.keyedvectors.Vocab at 0x7f73ad6ada58>,\n",
       " 'PDD-ALA': <gensim.models.keyedvectors.Vocab at 0x7f73ad6c3940>,\n",
       " 'PDL': <gensim.models.keyedvectors.Vocab at 0x7f73af6fd208>,\n",
       " 'PDT': <gensim.models.keyedvectors.Vocab at 0x7f73ad6c3438>,\n",
       " 'PLC': <gensim.models.keyedvectors.Vocab at 0x7f73af7090f0>,\n",
       " 'PP803': <gensim.models.keyedvectors.Vocab at 0x7f73ad6a5dd8>,\n",
       " 'PSA': <gensim.models.keyedvectors.Vocab at 0x7f73ad6c3dd8>,\n",
       " 'PWS': <gensim.models.keyedvectors.Vocab at 0x7f73b0fc5e80>,\n",
       " 'Patients': <gensim.models.keyedvectors.Vocab at 0x7f73ad6aa2b0>,\n",
       " 'Peptide': <gensim.models.keyedvectors.Vocab at 0x7f73ad69cb70>,\n",
       " 'Periodicals': <gensim.models.keyedvectors.Vocab at 0x7f73ad6c3668>,\n",
       " 'PpIX': <gensim.models.keyedvectors.Vocab at 0x7f73af6fd5c0>,\n",
       " 'Protoporphyrin': <gensim.models.keyedvectors.Vocab at 0x7f73ad6adac8>,\n",
       " 'Published': <gensim.models.keyedvectors.Vocab at 0x7f73ad6c3780>,\n",
       " 'R-Tf-D-LP4': <gensim.models.keyedvectors.Vocab at 0x7f73ad6a7cc0>,\n",
       " 'R-Tf-D-LP4-treated': <gensim.models.keyedvectors.Vocab at 0x7f73ad69c7f0>,\n",
       " 'R.': <gensim.models.keyedvectors.Vocab at 0x7f73af6e7b38>,\n",
       " 'RESULTS': <gensim.models.keyedvectors.Vocab at 0x7f73af6fd588>,\n",
       " 'RSW': <gensim.models.keyedvectors.Vocab at 0x7f73ad6a5cf8>,\n",
       " 'Ras': <gensim.models.keyedvectors.Vocab at 0x7f73ad6d2048>,\n",
       " 'Ras/MEK': <gensim.models.keyedvectors.Vocab at 0x7f73ad6d2e10>,\n",
       " 'Ras/mitogen-activated': <gensim.models.keyedvectors.Vocab at 0x7f73ad6ade48>,\n",
       " 'Rating': <gensim.models.keyedvectors.Vocab at 0x7f73af6eb898>,\n",
       " 'Recently': <gensim.models.keyedvectors.Vocab at 0x7f73ad6a7f98>,\n",
       " 'Results': <gensim.models.keyedvectors.Vocab at 0x7f73ad69e6a0>,\n",
       " 'Rhodopseudomonas': <gensim.models.keyedvectors.Vocab at 0x7f73ad6a5d30>,\n",
       " 'SD': <gensim.models.keyedvectors.Vocab at 0x7f73b0fd4160>,\n",
       " 'SFC': <gensim.models.keyedvectors.Vocab at 0x7f73b0f77be0>,\n",
       " 'Scale': <gensim.models.keyedvectors.Vocab at 0x7f73af6eb8d0>,\n",
       " 'Similar': <gensim.models.keyedvectors.Vocab at 0x7f73ad6d2cc0>,\n",
       " 'Sirius': <gensim.models.keyedvectors.Vocab at 0x7f73ad69c6a0>,\n",
       " 'So': <gensim.models.keyedvectors.Vocab at 0x7f73ad6a7400>,\n",
       " 'Surg': <gensim.models.keyedvectors.Vocab at 0x7f73ad6c3588>,\n",
       " 'Surgery': <gensim.models.keyedvectors.Vocab at 0x7f73ad6c3710>,\n",
       " 'TN114': <gensim.models.keyedvectors.Vocab at 0x7f73ad6a5da0>,\n",
       " 'TRUS': <gensim.models.keyedvectors.Vocab at 0x7f73ad6ad3c8>,\n",
       " 'TUNEL': <gensim.models.keyedvectors.Vocab at 0x7f73ad69c588>,\n",
       " 'The': <gensim.models.keyedvectors.Vocab at 0x7f73ad69e1d0>,\n",
       " 'Therefore': <gensim.models.keyedvectors.Vocab at 0x7f73ad6a7b70>,\n",
       " 'These': <gensim.models.keyedvectors.Vocab at 0x7f73af6fdef0>,\n",
       " 'They': <gensim.models.keyedvectors.Vocab at 0x7f73b9b82eb8>,\n",
       " 'This': <gensim.models.keyedvectors.Vocab at 0x7f73ad6a55c0>,\n",
       " 'Thus': <gensim.models.keyedvectors.Vocab at 0x7f73af6eba20>,\n",
       " 'To': <gensim.models.keyedvectors.Vocab at 0x7f73af6eb940>,\n",
       " 'VDAC1': <gensim.models.keyedvectors.Vocab at 0x7f73ad6a7eb8>,\n",
       " 'WV': <gensim.models.keyedvectors.Vocab at 0x7f73ad69e080>,\n",
       " 'We': <gensim.models.keyedvectors.Vocab at 0x7f73b0f77a20>,\n",
       " 'While': <gensim.models.keyedvectors.Vocab at 0x7f73af6fd7f0>,\n",
       " 'Wiley': <gensim.models.keyedvectors.Vocab at 0x7f73ad6c3630>,\n",
       " 'With': <gensim.models.keyedvectors.Vocab at 0x7f73af6fdba8>,\n",
       " 'abnormal': <gensim.models.keyedvectors.Vocab at 0x7f73ad6c3c18>,\n",
       " 'abscesses': <gensim.models.keyedvectors.Vocab at 0x7f73ad6a7320>,\n",
       " 'accelerometry': <gensim.models.keyedvectors.Vocab at 0x7f73af709668>,\n",
       " 'accompanied': <gensim.models.keyedvectors.Vocab at 0x7f73af6ebc88>,\n",
       " 'accumulates': <gensim.models.keyedvectors.Vocab at 0x7f73ad6adba8>,\n",
       " 'accumulation': <gensim.models.keyedvectors.Vocab at 0x7f73ad6aac88>,\n",
       " 'achieved': <gensim.models.keyedvectors.Vocab at 0x7f73ad69e978>,\n",
       " 'achievement': <gensim.models.keyedvectors.Vocab at 0x7f73af6eb748>,\n",
       " 'acid': <gensim.models.keyedvectors.Vocab at 0x7f73ad6a5978>,\n",
       " 'activity': <gensim.models.keyedvectors.Vocab at 0x7f73ad6d29b0>,\n",
       " 'addition': <gensim.models.keyedvectors.Vocab at 0x7f73ad6d2978>,\n",
       " 'additive': <gensim.models.keyedvectors.Vocab at 0x7f73af6e7c50>,\n",
       " 'administration': <gensim.models.keyedvectors.Vocab at 0x7f73ad6aad68>,\n",
       " 'agricultural': <gensim.models.keyedvectors.Vocab at 0x7f73ad6a5e80>,\n",
       " 'agriculture': <gensim.models.keyedvectors.Vocab at 0x7f73af6e7b00>,\n",
       " 'aim': <gensim.models.keyedvectors.Vocab at 0x7f73ad6aaf98>,\n",
       " 'aimed': <gensim.models.keyedvectors.Vocab at 0x7f73ad6a5710>,\n",
       " 'also': <gensim.models.keyedvectors.Vocab at 0x7f73ad6d2cf8>,\n",
       " 'alternative': <gensim.models.keyedvectors.Vocab at 0x7f73ad6a7ba8>,\n",
       " 'aminolevulinic': <gensim.models.keyedvectors.Vocab at 0x7f73ad6c37b8>,\n",
       " 'amount': <gensim.models.keyedvectors.Vocab at 0x7f73af6e78d0>,\n",
       " 'analysis': <gensim.models.keyedvectors.Vocab at 0x7f73ad6ad8d0>,\n",
       " 'analyzed': <gensim.models.keyedvectors.Vocab at 0x7f73ad6ad518>,\n",
       " 'and/or': <gensim.models.keyedvectors.Vocab at 0x7f73ad6c3cf8>,\n",
       " 'animal': <gensim.models.keyedvectors.Vocab at 0x7f73af6fa048>,\n",
       " 'anion': <gensim.models.keyedvectors.Vocab at 0x7f73ad6a7e48>,\n",
       " 'antigen': <gensim.models.keyedvectors.Vocab at 0x7f73ad6c3da0>,\n",
       " 'apoptosis': <gensim.models.keyedvectors.Vocab at 0x7f73ad69c080>,\n",
       " 'appeared': <gensim.models.keyedvectors.Vocab at 0x7f73af6fd940>,\n",
       " 'application': <gensim.models.keyedvectors.Vocab at 0x7f73af7022b0>,\n",
       " 'applications': <gensim.models.keyedvectors.Vocab at 0x7f73ad6a7048>,\n",
       " 'applying': <gensim.models.keyedvectors.Vocab at 0x7f73ad6a5f98>,\n",
       " 'approximately': <gensim.models.keyedvectors.Vocab at 0x7f73af6e7588>,\n",
       " 'area': <gensim.models.keyedvectors.Vocab at 0x7f73ad6ad550>,\n",
       " 'aspects': <gensim.models.keyedvectors.Vocab at 0x7f73ad6aaa58>,\n",
       " 'athymic': <gensim.models.keyedvectors.Vocab at 0x7f73ad6d2358>,\n",
       " 'attenuated': <gensim.models.keyedvectors.Vocab at 0x7f73af6ebd68>,\n",
       " 'ballooning': <gensim.models.keyedvectors.Vocab at 0x7f73ad69ca58>,\n",
       " 'bands': <gensim.models.keyedvectors.Vocab at 0x7f73ad6ad4e0>,\n",
       " 'barriers': <gensim.models.keyedvectors.Vocab at 0x7f73b0f77b38>,\n",
       " 'based': <gensim.models.keyedvectors.Vocab at 0x7f73ad6aa7b8>,\n",
       " 'basis': <gensim.models.keyedvectors.Vocab at 0x7f73af6e7160>,\n",
       " 'bearing': <gensim.models.keyedvectors.Vocab at 0x7f73ad6d22b0>,\n",
       " 'become': <gensim.models.keyedvectors.Vocab at 0x7f73ad6aa4a8>,\n",
       " 'better': <gensim.models.keyedvectors.Vocab at 0x7f73ad6c3198>,\n",
       " 'binding': <gensim.models.keyedvectors.Vocab at 0x7f73ad6d27f0>,\n",
       " 'biochemical': <gensim.models.keyedvectors.Vocab at 0x7f73ad6d2438>,\n",
       " 'biological': <gensim.models.keyedvectors.Vocab at 0x7f73ad6d24a8>,\n",
       " 'biopsy': <gensim.models.keyedvectors.Vocab at 0x7f73ad6c3860>,\n",
       " 'brain': <gensim.models.keyedvectors.Vocab at 0x7f73ad6aa860>,\n",
       " 'brainshift': <gensim.models.keyedvectors.Vocab at 0x7f73ad6aae80>,\n",
       " 'cancer': <gensim.models.keyedvectors.Vocab at 0x7f73ad6c39e8>,\n",
       " 'cancer-specific': <gensim.models.keyedvectors.Vocab at 0x7f73ad6adc88>,\n",
       " 'capillaries': <gensim.models.keyedvectors.Vocab at 0x7f73af6fdac8>,\n",
       " 'capillary': <gensim.models.keyedvectors.Vocab at 0x7f73af6fd3c8>,\n",
       " 'carbon': <gensim.models.keyedvectors.Vocab at 0x7f73af6eb6d8>,\n",
       " 'carcinoma': <gensim.models.keyedvectors.Vocab at 0x7f73ad6a77f0>,\n",
       " 'case': <gensim.models.keyedvectors.Vocab at 0x7f73ad6a75c0>,\n",
       " 'cassette': <gensim.models.keyedvectors.Vocab at 0x7f73ad6d2828>,\n",
       " 'cell': <gensim.models.keyedvectors.Vocab at 0x7f73ad6d21d0>,\n",
       " 'cell-penetrating': <gensim.models.keyedvectors.Vocab at 0x7f73ad6a7cf8>,\n",
       " 'cells': <gensim.models.keyedvectors.Vocab at 0x7f73ad6c3a58>,\n",
       " 'cellular': <gensim.models.keyedvectors.Vocab at 0x7f73ad6d26a0>,\n",
       " 'chain': <gensim.models.keyedvectors.Vocab at 0x7f73ad6ad080>,\n",
       " 'change': <gensim.models.keyedvectors.Vocab at 0x7f73af6fd7b8>,\n",
       " 'changes': <gensim.models.keyedvectors.Vocab at 0x7f73af6fd358>,\n",
       " 'channel': <gensim.models.keyedvectors.Vocab at 0x7f73ad6a7e80>,\n",
       " 'characterized': <gensim.models.keyedvectors.Vocab at 0x7f73ad6a72b0>,\n",
       " 'charred': <gensim.models.keyedvectors.Vocab at 0x7f73af6fdc18>,\n",
       " 'chemical': <gensim.models.keyedvectors.Vocab at 0x7f73ad69e588>,\n",
       " 'chronic': <gensim.models.keyedvectors.Vocab at 0x7f73ad6a7198>,\n",
       " 'citrate': <gensim.models.keyedvectors.Vocab at 0x7f73b0f77ba8>,\n",
       " 'clinical': <gensim.models.keyedvectors.Vocab at 0x7f73ad6aab38>,\n",
       " 'cocks': <gensim.models.keyedvectors.Vocab at 0x7f73af6fa2e8>,\n",
       " 'collected': <gensim.models.keyedvectors.Vocab at 0x7f73ad6c3f60>,\n",
       " 'comb': <gensim.models.keyedvectors.Vocab at 0x7f73af6fa0b8>,\n",
       " 'compared': <gensim.models.keyedvectors.Vocab at 0x7f73ad69ee48>,\n",
       " 'complete': <gensim.models.keyedvectors.Vocab at 0x7f73ad6aafd0>,\n",
       " 'concentration': <gensim.models.keyedvectors.Vocab at 0x7f73ad69eb38>,\n",
       " 'condition': <gensim.models.keyedvectors.Vocab at 0x7f73ad69e748>,\n",
       " 'conditions': <gensim.models.keyedvectors.Vocab at 0x7f73ad6a5f60>,\n",
       " 'conducted': <gensim.models.keyedvectors.Vocab at 0x7f73ad69e2b0>,\n",
       " 'connected': <gensim.models.keyedvectors.Vocab at 0x7f73ad6aaa90>,\n",
       " 'consumption': <gensim.models.keyedvectors.Vocab at 0x7f73af6eb828>,\n",
       " 'containing': <gensim.models.keyedvectors.Vocab at 0x7f73af6e7a90>,\n",
       " 'content': <gensim.models.keyedvectors.Vocab at 0x7f73ad69e198>,\n",
       " 'context': <gensim.models.keyedvectors.Vocab at 0x7f73ad6aabe0>,\n",
       " 'control': <gensim.models.keyedvectors.Vocab at 0x7f73af6fde10>,\n",
       " 'controls': <gensim.models.keyedvectors.Vocab at 0x7f73ad69ee80>,\n",
       " 'converting': <gensim.models.keyedvectors.Vocab at 0x7f73ad6d2ac8>,\n",
       " 'cost': <gensim.models.keyedvectors.Vocab at 0x7f73ad69eef0>,\n",
       " 'could': <gensim.models.keyedvectors.Vocab at 0x7f73ad69ef28>,\n",
       " 'crossover': <gensim.models.keyedvectors.Vocab at 0x7f73af743b00>,\n",
       " 'crust': <gensim.models.keyedvectors.Vocab at 0x7f73af6fdc50>,\n",
       " 'culture': <gensim.models.keyedvectors.Vocab at 0x7f73ad69e3c8>,\n",
       " 'curative': <gensim.models.keyedvectors.Vocab at 0x7f73af6ebe10>,\n",
       " 'current': <gensim.models.keyedvectors.Vocab at 0x7f73ad6aa668>,\n",
       " 'curve': <gensim.models.keyedvectors.Vocab at 0x7f73ad6ad588>,\n",
       " 'cycling': <gensim.models.keyedvectors.Vocab at 0x7f73af709048>,\n",
       " 'damage': <gensim.models.keyedvectors.Vocab at 0x7f73af6fdd30>,\n",
       " 'days': <gensim.models.keyedvectors.Vocab at 0x7f73af709080>,\n",
       " 'decreased': <gensim.models.keyedvectors.Vocab at 0x7f73af6ebda0>,\n",
       " 'decreasing': <gensim.models.keyedvectors.Vocab at 0x7f73ad6d2748>,\n",
       " 'degeneration': <gensim.models.keyedvectors.Vocab at 0x7f73ad69ca90>,\n",
       " 'degrees': <gensim.models.keyedvectors.Vocab at 0x7f73af6fdcf8>,\n",
       " 'dehydrogenase': <gensim.models.keyedvectors.Vocab at 0x7f73ad6ad198>,\n",
       " 'demand': <gensim.models.keyedvectors.Vocab at 0x7f73ad69e5f8>,\n",
       " 'demonstrate': <gensim.models.keyedvectors.Vocab at 0x7f73ad6addd8>,\n",
       " 'demonstrated': <gensim.models.keyedvectors.Vocab at 0x7f73ad6a7fd0>,\n",
       " 'demonstrates': <gensim.models.keyedvectors.Vocab at 0x7f73ad6d2dd8>,\n",
       " 'density': <gensim.models.keyedvectors.Vocab at 0x7f73af6fd198>,\n",
       " 'depression': <gensim.models.keyedvectors.Vocab at 0x7f73af6eba90>,\n",
       " 'depressive': <gensim.models.keyedvectors.Vocab at 0x7f73b0f77dd8>,\n",
       " 'derived': <gensim.models.keyedvectors.Vocab at 0x7f73ad6a7d68>,\n",
       " 'dermal': <gensim.models.keyedvectors.Vocab at 0x7f73af6fdd68>,\n",
       " 'design': <gensim.models.keyedvectors.Vocab at 0x7f73af743ac8>,\n",
       " 'despite': <gensim.models.keyedvectors.Vocab at 0x7f73ad6c3160>,\n",
       " 'destroy': <gensim.models.keyedvectors.Vocab at 0x7f73ad6adda0>,\n",
       " 'detected': <gensim.models.keyedvectors.Vocab at 0x7f73af6fd2e8>,\n",
       " 'detection': <gensim.models.keyedvectors.Vocab at 0x7f73ad6c3978>,\n",
       " 'development': <gensim.models.keyedvectors.Vocab at 0x7f73ad69cba8>,\n",
       " 'diagnosis': <gensim.models.keyedvectors.Vocab at 0x7f73ad6c3908>,\n",
       " 'diet-induced': <gensim.models.keyedvectors.Vocab at 0x7f73ad69c358>,\n",
       " 'diethylnitrosamine': <gensim.models.keyedvectors.Vocab at 0x7f73ad69c240>,\n",
       " 'different': <gensim.models.keyedvectors.Vocab at 0x7f73af6fd160>,\n",
       " 'difficulty': <gensim.models.keyedvectors.Vocab at 0x7f73b0f77f98>,\n",
       " 'digital': <gensim.models.keyedvectors.Vocab at 0x7f73ad6c3c50>,\n",
       " 'dioxide': <gensim.models.keyedvectors.Vocab at 0x7f73af6eb9e8>,\n",
       " 'disappearance': <gensim.models.keyedvectors.Vocab at 0x7f73ad6a7710>,\n",
       " 'disease': <gensim.models.keyedvectors.Vocab at 0x7f73ad6a7550>,\n",
       " 'disorder': <gensim.models.keyedvectors.Vocab at 0x7f73b0fd4240>,\n",
       " 'distinguish': <gensim.models.keyedvectors.Vocab at 0x7f73ad6adcc0>,\n",
       " 'distribution': <gensim.models.keyedvectors.Vocab at 0x7f73af6fd240>,\n",
       " 'divided': <gensim.models.keyedvectors.Vocab at 0x7f73af6fa198>,\n",
       " 'dose-dependent': <gensim.models.keyedvectors.Vocab at 0x7f73ad69c518>,\n",
       " 'double-blind': <gensim.models.keyedvectors.Vocab at 0x7f73af743f28>,\n",
       " 'downstream': <gensim.models.keyedvectors.Vocab at 0x7f73ad6d2080>,\n",
       " 'due': <gensim.models.keyedvectors.Vocab at 0x7f73b0f77e48>,\n",
       " 'easily': <gensim.models.keyedvectors.Vocab at 0x7f73ad6c30b8>,\n",
       " 'economical': <gensim.models.keyedvectors.Vocab at 0x7f73ad69e0b8>,\n",
       " 'effect': <gensim.models.keyedvectors.Vocab at 0x7f73af6eb710>,\n",
       " 'effective': <gensim.models.keyedvectors.Vocab at 0x7f73ad6a7f28>,\n",
       " 'effects': <gensim.models.keyedvectors.Vocab at 0x7f73b0f77a90>,\n",
       " 'efficacy': <gensim.models.keyedvectors.Vocab at 0x7f73ad6a74e0>,\n",
       " 'efflux': <gensim.models.keyedvectors.Vocab at 0x7f73ad6d2710>,\n",
       " 'eighty-nine': <gensim.models.keyedvectors.Vocab at 0x7f73ad6c3be0>,\n",
       " 'either': <gensim.models.keyedvectors.Vocab at 0x7f73af6fdf98>,\n",
       " 'elements': <gensim.models.keyedvectors.Vocab at 0x7f73ad6d20b8>,\n",
       " 'elevated': <gensim.models.keyedvectors.Vocab at 0x7f73ad6c3d30>,\n",
       " 'eliminated': <gensim.models.keyedvectors.Vocab at 0x7f73ad69cb00>,\n",
       " 'elimination': <gensim.models.keyedvectors.Vocab at 0x7f73ad69c550>,\n",
       " 'enables': <gensim.models.keyedvectors.Vocab at 0x7f73ad6aada0>,\n",
       " 'endogenous': <gensim.models.keyedvectors.Vocab at 0x7f73ad6adb00>,\n",
       " 'enhance': <gensim.models.keyedvectors.Vocab at 0x7f73ad69e160>,\n",
       " 'enhances': <gensim.models.keyedvectors.Vocab at 0x7f73ad6d2e48>,\n",
       " 'enhancing': <gensim.models.keyedvectors.Vocab at 0x7f73ad6c3080>,\n",
       " 'enzyme': <gensim.models.keyedvectors.Vocab at 0x7f73ad6d2a58>,\n",
       " 'epidermal': <gensim.models.keyedvectors.Vocab at 0x7f73af6fd978>,\n",
       " 'equipment': <gensim.models.keyedvectors.Vocab at 0x7f73ad6aaf28>,\n",
       " 'erosion': <gensim.models.keyedvectors.Vocab at 0x7f73af6fd898>,\n",
       " 'evaluate': <gensim.models.keyedvectors.Vocab at 0x7f73ad6c3898>,\n",
       " 'even': <gensim.models.keyedvectors.Vocab at 0x7f73af6fdc88>,\n",
       " 'examination': <gensim.models.keyedvectors.Vocab at 0x7f73ad6c3cc0>,\n",
       " 'examined': <gensim.models.keyedvectors.Vocab at 0x7f73b0f77ac8>,\n",
       " 'excitation': <gensim.models.keyedvectors.Vocab at 0x7f73ad6ad320>,\n",
       " 'exercise': <gensim.models.keyedvectors.Vocab at 0x7f73b0f77c88>,\n",
       " 'expensive': <gensim.models.keyedvectors.Vocab at 0x7f73ad6aaef0>,\n",
       " 'experience': <gensim.models.keyedvectors.Vocab at 0x7f73b0f77f28>,\n",
       " 'experiment': <gensim.models.keyedvectors.Vocab at 0x7f73ad69e278>,\n",
       " 'experiments': <gensim.models.keyedvectors.Vocab at 0x7f73ad6d24e0>,\n",
       " 'exploited': <gensim.models.keyedvectors.Vocab at 0x7f73ad6c3390>,\n",
       " 'expression': <gensim.models.keyedvectors.Vocab at 0x7f73ad6d2780>,\n",
       " 'extracellular': <gensim.models.keyedvectors.Vocab at 0x7f73ad69e7b8>,\n",
       " 'factors': <gensim.models.keyedvectors.Vocab at 0x7f73ad6a79e8>,\n",
       " 'far': <gensim.models.keyedvectors.Vocab at 0x7f73ad6a7438>,\n",
       " 'fast': <gensim.models.keyedvectors.Vocab at 0x7f73af6eb7f0>,\n",
       " 'fatty': <gensim.models.keyedvectors.Vocab at 0x7f73ad69c9e8>,\n",
       " 'feasibility': <gensim.models.keyedvectors.Vocab at 0x7f73ad6c38d0>,\n",
       " 'ferrochelatase': <gensim.models.keyedvectors.Vocab at 0x7f73ad6d29e8>,\n",
       " 'ferrous': <gensim.models.keyedvectors.Vocab at 0x7f73b0f779e8>,\n",
       " 'fibrosis': <gensim.models.keyedvectors.Vocab at 0x7f73ad69cac8>,\n",
       " 'fibrotic': <gensim.models.keyedvectors.Vocab at 0x7f73ad69c6d8>,\n",
       " 'findings': <gensim.models.keyedvectors.Vocab at 0x7f73ad6ad908>,\n",
       " 'first': <gensim.models.keyedvectors.Vocab at 0x7f73af7096a0>,\n",
       " 'fluorescence': <gensim.models.keyedvectors.Vocab at 0x7f73af6fd278>,\n",
       " 'fluorescence-guided': <gensim.models.keyedvectors.Vocab at 0x7f73ad6add30>,\n",
       " 'fluorescent': <gensim.models.keyedvectors.Vocab at 0x7f73ad6aacc0>,\n",
       " 'follicles': <gensim.models.keyedvectors.Vocab at 0x7f73ad6a7278>,\n",
       " 'formation': <gensim.models.keyedvectors.Vocab at 0x7f73ad69c710>,\n",
       " 'found': <gensim.models.keyedvectors.Vocab at 0x7f73ad69e7f0>,\n",
       " 'future': <gensim.models.keyedvectors.Vocab at 0x7f73ad6aa748>,\n",
       " 'generated': <gensim.models.keyedvectors.Vocab at 0x7f73af6fd5f8>,\n",
       " 'given': <gensim.models.keyedvectors.Vocab at 0x7f73ad69efd0>,\n",
       " 'glioma': <gensim.models.keyedvectors.Vocab at 0x7f73ad6c37f0>,\n",
       " 'gliomas': <gensim.models.keyedvectors.Vocab at 0x7f73ad6aa358>,\n",
       " 'glyceraldehyde': <gensim.models.keyedvectors.Vocab at 0x7f73ad6ad128>,\n",
       " 'graded': <gensim.models.keyedvectors.Vocab at 0x7f73af709278>,\n",
       " 'group': <gensim.models.keyedvectors.Vocab at 0x7f73ad69ef98>,\n",
       " 'groups': <gensim.models.keyedvectors.Vocab at 0x7f73af6fa208>,\n",
       " 'growth': <gensim.models.keyedvectors.Vocab at 0x7f73ad69c0f0>,\n",
       " 'guidance': <gensim.models.keyedvectors.Vocab at 0x7f73ad6aae10>,\n",
       " 'guided': <gensim.models.keyedvectors.Vocab at 0x7f73ad6aa7f0>,\n",
       " 'h': <gensim.models.keyedvectors.Vocab at 0x7f73ad69e358>,\n",
       " 'hair': <gensim.models.keyedvectors.Vocab at 0x7f73ad6a7240>,\n",
       " 'healing': <gensim.models.keyedvectors.Vocab at 0x7f73ad6a76d8>,\n",
       " 'heme': <gensim.models.keyedvectors.Vocab at 0x7f73ad6adc18>,\n",
       " 'high': <gensim.models.keyedvectors.Vocab at 0x7f73ad69e9e8>,\n",
       " 'high-fat': <gensim.models.keyedvectors.Vocab at 0x7f73ad69c320>,\n",
       " 'higher': <gensim.models.keyedvectors.Vocab at 0x7f73ad6ad6d8>,\n",
       " 'highly': <gensim.models.keyedvectors.Vocab at 0x7f73ad6a7ef0>,\n",
       " 'histopathology': <gensim.models.keyedvectors.Vocab at 0x7f73af6fd748>,\n",
       " 'home-based': <gensim.models.keyedvectors.Vocab at 0x7f73b0f77cf8>,\n",
       " 'human': <gensim.models.keyedvectors.Vocab at 0x7f73ad6d2198>,\n",
       " 'hundred': <gensim.models.keyedvectors.Vocab at 0x7f73ad6c3ba8>,\n",
       " 'identified': <gensim.models.keyedvectors.Vocab at 0x7f73ad6d2630>,\n",
       " 'identify': <gensim.models.keyedvectors.Vocab at 0x7f73ad6adfd0>,\n",
       " 'identifying': <gensim.models.keyedvectors.Vocab at 0x7f73ad6a7978>,\n",
       " 'immunohistochemistry': <gensim.models.keyedvectors.Vocab at 0x7f73af6fda20>,\n",
       " 'improve': <gensim.models.keyedvectors.Vocab at 0x7f73af6ebb00>,\n",
       " 'improves': <gensim.models.keyedvectors.Vocab at 0x7f73ad6c30f0>,\n",
       " 'impulse': <gensim.models.keyedvectors.Vocab at 0x7f73af6ebcc0>,\n",
       " 'incidence': <gensim.models.keyedvectors.Vocab at 0x7f73ad6a7a20>,\n",
       " 'included': <gensim.models.keyedvectors.Vocab at 0x7f73ad69c208>,\n",
       " 'increase': <gensim.models.keyedvectors.Vocab at 0x7f73af6fdbe0>,\n",
       " 'increased': <gensim.models.keyedvectors.Vocab at 0x7f73ad69ecc0>,\n",
       " 'increases': <gensim.models.keyedvectors.Vocab at 0x7f73af6eb978>,\n",
       " 'increasing': <gensim.models.keyedvectors.Vocab at 0x7f73ad6a7a58>,\n",
       " 'incubation': <gensim.models.keyedvectors.Vocab at 0x7f73ad6ad208>,\n",
       " 'independent': <gensim.models.keyedvectors.Vocab at 0x7f73ad6d2668>,\n",
       " 'induced': <gensim.models.keyedvectors.Vocab at 0x7f73ad69c048>,\n",
       " 'inevitably': <gensim.models.keyedvectors.Vocab at 0x7f73ad6c31d0>,\n",
       " 'inexpensive': <gensim.models.keyedvectors.Vocab at 0x7f73ad6a57f0>,\n",
       " 'inflammation': <gensim.models.keyedvectors.Vocab at 0x7f73ad69ca20>,\n",
       " 'inflammatory': <gensim.models.keyedvectors.Vocab at 0x7f73ad6a7208>,\n",
       " 'inhibited': <gensim.models.keyedvectors.Vocab at 0x7f73ad69c0b8>,\n",
       " 'inhibition': <gensim.models.keyedvectors.Vocab at 0x7f73ad6d2160>,\n",
       " 'inhibitors': <gensim.models.keyedvectors.Vocab at 0x7f73ad6d2128>,\n",
       " 'initial': <gensim.models.keyedvectors.Vocab at 0x7f73ad69e470>,\n",
       " 'injected': <gensim.models.keyedvectors.Vocab at 0x7f73ad6d2c18>,\n",
       " 'injection': <gensim.models.keyedvectors.Vocab at 0x7f73ad69c438>,\n",
       " 'innovative': <gensim.models.keyedvectors.Vocab at 0x7f73ad6a7be0>,\n",
       " 'inoculum': <gensim.models.keyedvectors.Vocab at 0x7f73ad69e4e0>,\n",
       " 'intake': <gensim.models.keyedvectors.Vocab at 0x7f73af7091d0>,\n",
       " 'intends': <gensim.models.keyedvectors.Vocab at 0x7f73ad6aa5c0>,\n",
       " 'intensify': <gensim.models.keyedvectors.Vocab at 0x7f73ad6d2fd0>,\n",
       " 'intensity': <gensim.models.keyedvectors.Vocab at 0x7f73af709198>,\n",
       " 'intermittently': <gensim.models.keyedvectors.Vocab at 0x7f73af709390>,\n",
       " 'interstitial': <gensim.models.keyedvectors.Vocab at 0x7f73ad6c3400>,\n",
       " 'interval': <gensim.models.keyedvectors.Vocab at 0x7f73af709358>,\n",
       " 'intra-operative': <gensim.models.keyedvectors.Vocab at 0x7f73ad6aadd8>,\n",
       " 'intriguing': <gensim.models.keyedvectors.Vocab at 0x7f73ad6c34a8>,\n",
       " 'inversa': <gensim.models.keyedvectors.Vocab at 0x7f73ad6a70f0>,\n",
       " 'investigating': <gensim.models.keyedvectors.Vocab at 0x7f73ad6a5ef0>,\n",
       " 'involved': <gensim.models.keyedvectors.Vocab at 0x7f73ad6d20f0>,\n",
       " 'irradiation': <gensim.models.keyedvectors.Vocab at 0x7f73af6fd128>,\n",
       " 'kinase': <gensim.models.keyedvectors.Vocab at 0x7f73ad6adeb8>,\n",
       " 'lactate': <gensim.models.keyedvectors.Vocab at 0x7f73af7095c0>,\n",
       " 'latex': <gensim.models.keyedvectors.Vocab at 0x7f73ad6a5c18>,\n",
       " 'lesions': <gensim.models.keyedvectors.Vocab at 0x7f73ad6a7668>,\n",
       " 'lethal': <gensim.models.keyedvectors.Vocab at 0x7f73ad6a7898>,\n",
       " 'level': <gensim.models.keyedvectors.Vocab at 0x7f73ad6c3e10>,\n",
       " 'levulinic': <gensim.models.keyedvectors.Vocab at 0x7f73ad69e128>,\n",
       " 'light': <gensim.models.keyedvectors.Vocab at 0x7f73af6fd0f0>,\n",
       " 'limitations': <gensim.models.keyedvectors.Vocab at 0x7f73ad6aa710>,\n",
       " 'limited': <gensim.models.keyedvectors.Vocab at 0x7f73ad6a7b38>,\n",
       " 'lines': <gensim.models.keyedvectors.Vocab at 0x7f73ad6d2208>,\n",
       " 'little': <gensim.models.keyedvectors.Vocab at 0x7f73af6e7cc0>,\n",
       " 'liver': <gensim.models.keyedvectors.Vocab at 0x7f73ad6a7f60>,\n",
       " 'liver-derived': <gensim.models.keyedvectors.Vocab at 0x7f73ad69c198>,\n",
       " 'livers': <gensim.models.keyedvectors.Vocab at 0x7f73ad69c828>,\n",
       " 'log': <gensim.models.keyedvectors.Vocab at 0x7f73ad69eba8>,\n",
       " 'loss': <gensim.models.keyedvectors.Vocab at 0x7f73af6fd9e8>,\n",
       " 'low': <gensim.models.keyedvectors.Vocab at 0x7f73af6fd668>,\n",
       " 'mL': <gensim.models.keyedvectors.Vocab at 0x7f73ad6c3ef0>,\n",
       " 'macrophage': <gensim.models.keyedvectors.Vocab at 0x7f73ad69c898>,\n",
       " 'major': <gensim.models.keyedvectors.Vocab at 0x7f73b0fd4198>,\n",
       " 'male': <gensim.models.keyedvectors.Vocab at 0x7f73af6fa0f0>,\n",
       " 'malignant': <gensim.models.keyedvectors.Vocab at 0x7f73ad6aa320>,\n",
       " 'mammary': <gensim.models.keyedvectors.Vocab at 0x7f73ad6d22e8>,\n",
       " 'management': <gensim.models.keyedvectors.Vocab at 0x7f73ad6c3518>,\n",
       " 'manner': <gensim.models.keyedvectors.Vocab at 0x7f73ad6d2eb8>,\n",
       " 'many': <gensim.models.keyedvectors.Vocab at 0x7f73ad6aaa20>,\n",
       " 'markers': <gensim.models.keyedvectors.Vocab at 0x7f73ad6ad940>,\n",
       " 'massage': <gensim.models.keyedvectors.Vocab at 0x7f73ad6c3b00>,\n",
       " 'may': <gensim.models.keyedvectors.Vocab at 0x7f73ad6d2f28>,\n",
       " 'measured': <gensim.models.keyedvectors.Vocab at 0x7f73af709630>,\n",
       " 'mechanisms': <gensim.models.keyedvectors.Vocab at 0x7f73ad6d23c8>,\n",
       " 'member': <gensim.models.keyedvectors.Vocab at 0x7f73ad6d28d0>,\n",
       " 'metabolically': <gensim.models.keyedvectors.Vocab at 0x7f73ad69c2e8>,\n",
       " 'method': <gensim.models.keyedvectors.Vocab at 0x7f73ad6ada90>,\n",
       " 'methods': <gensim.models.keyedvectors.Vocab at 0x7f73ad6aa048>,\n",
       " 'mg/L': <gensim.models.keyedvectors.Vocab at 0x7f73ad69e668>,\n",
       " 'mice': <gensim.models.keyedvectors.Vocab at 0x7f73ad6d2278>,\n",
       " 'microaerobic-light': <gensim.models.keyedvectors.Vocab at 0x7f73ad69e2e8>,\n",
       " 'mid': <gensim.models.keyedvectors.Vocab at 0x7f73ad69eb70>,\n",
       " 'middle-aged': <gensim.models.keyedvectors.Vocab at 0x7f73b0f77f60>,\n",
       " 'mitochondrial': <gensim.models.keyedvectors.Vocab at 0x7f73ad6a7da0>,\n",
       " 'mixed': <gensim.models.keyedvectors.Vocab at 0x7f73ad69e390>,\n",
       " 'model': <gensim.models.keyedvectors.Vocab at 0x7f73af6fa1d0>,\n",
       " 'models': <gensim.models.keyedvectors.Vocab at 0x7f73ad69c160>,\n",
       " 'modulate': <gensim.models.keyedvectors.Vocab at 0x7f73ad6adf60>,\n",
       " 'molecular': <gensim.models.keyedvectors.Vocab at 0x7f73ad6d2470>,\n",
       " 'molecule': <gensim.models.keyedvectors.Vocab at 0x7f73ad6adb38>,\n",
       " 'morphological': <gensim.models.keyedvectors.Vocab at 0x7f73af6fd320>,\n",
       " 'morphology': <gensim.models.keyedvectors.Vocab at 0x7f73af6fd710>,\n",
       " 'mouse': <gensim.models.keyedvectors.Vocab at 0x7f73ad69c128>,\n",
       " 'multifunctional': <gensim.models.keyedvectors.Vocab at 0x7f73ad6a7dd8>,\n",
       " 'multivariate': <gensim.models.keyedvectors.Vocab at 0x7f73ad6ad898>,\n",
       " 'necrosis': <gensim.models.keyedvectors.Vocab at 0x7f73af6fd9b0>,\n",
       " 'negative': <gensim.models.keyedvectors.Vocab at 0x7f73ad6ad860>,\n",
       " 'neurosurgical': <gensim.models.keyedvectors.Vocab at 0x7f73ad6aaf60>,\n",
       " 'new': <gensim.models.keyedvectors.Vocab at 0x7f73ad6aa4e0>,\n",
       " 'nine': <gensim.models.keyedvectors.Vocab at 0x7f73ad6a7748>,\n",
       " 'nm': <gensim.models.keyedvectors.Vocab at 0x7f73af6fd080>,\n",
       " 'non-sterile': <gensim.models.keyedvectors.Vocab at 0x7f73ad6a5be0>,\n",
       " 'nonalcoholic': <gensim.models.keyedvectors.Vocab at 0x7f73ad69cbe0>,\n",
       " 'normal': <gensim.models.keyedvectors.Vocab at 0x7f73ad6adcf8>,\n",
       " 'nude': <gensim.models.keyedvectors.Vocab at 0x7f73ad6d2390>,\n",
       " 'number': <gensim.models.keyedvectors.Vocab at 0x7f73af6fda90>,\n",
       " 'numbers': <gensim.models.keyedvectors.Vocab at 0x7f73ad69c780>,\n",
       " 'observed': <gensim.models.keyedvectors.Vocab at 0x7f73af6fd400>,\n",
       " 'obvious': <gensim.models.keyedvectors.Vocab at 0x7f73af6fd780>,\n",
       " 'offer': <gensim.models.keyedvectors.Vocab at 0x7f73ad6c3470>,\n",
       " 'often': <gensim.models.keyedvectors.Vocab at 0x7f73b0f77eb8>,\n",
       " 'oncogenic': <gensim.models.keyedvectors.Vocab at 0x7f73ad6ade10>,\n",
       " 'one': <gensim.models.keyedvectors.Vocab at 0x7f73ad6d2550>,\n",
       " 'optimal': <gensim.models.keyedvectors.Vocab at 0x7f73ad69e710>,\n",
       " 'optimized': <gensim.models.keyedvectors.Vocab at 0x7f73af6e7ac8>,\n",
       " 'optimum': <gensim.models.keyedvectors.Vocab at 0x7f73ad6a5f28>,\n",
       " 'option': <gensim.models.keyedvectors.Vocab at 0x7f73ad6c34e0>,\n",
       " 'options': <gensim.models.keyedvectors.Vocab at 0x7f73ad6a7b00>,\n",
       " 'order': <gensim.models.keyedvectors.Vocab at 0x7f73ad6c3240>,\n",
       " 'organs': <gensim.models.keyedvectors.Vocab at 0x7f73ad6d2c88>,\n",
       " 'outpatients': <gensim.models.keyedvectors.Vocab at 0x7f73b0f77fd0>,\n",
       " 'overview': <gensim.models.keyedvectors.Vocab at 0x7f73ad6aa630>,\n",
       " 'oxygen': <gensim.models.keyedvectors.Vocab at 0x7f73ad69e5c0>,\n",
       " 'p': <gensim.models.keyedvectors.Vocab at 0x7f73af6ebb38>,\n",
       " 'pH': <gensim.models.keyedvectors.Vocab at 0x7f73ad69e4a8>,\n",
       " 'palustris': <gensim.models.keyedvectors.Vocab at 0x7f73ad6a5d68>,\n",
       " 'partial': <gensim.models.keyedvectors.Vocab at 0x7f73af6fdb00>,\n",
       " 'participated': <gensim.models.keyedvectors.Vocab at 0x7f73af743fd0>,\n",
       " 'pathological': <gensim.models.keyedvectors.Vocab at 0x7f73af6fd390>,\n",
       " 'pathology': <gensim.models.keyedvectors.Vocab at 0x7f73ad69c978>,\n",
       " 'pathway': <gensim.models.keyedvectors.Vocab at 0x7f73ad6adf28>,\n",
       " 'patients': <gensim.models.keyedvectors.Vocab at 0x7f73b0f77d68>,\n",
       " 'peer': <gensim.models.keyedvectors.Vocab at 0x7f73ad6aa978>,\n",
       " 'peptide': <gensim.models.keyedvectors.Vocab at 0x7f73ad6a7d30>,\n",
       " 'peptide-induced': <gensim.models.keyedvectors.Vocab at 0x7f73ad69c630>,\n",
       " 'performing': <gensim.models.keyedvectors.Vocab at 0x7f73b0f77978>,\n",
       " 'period': <gensim.models.keyedvectors.Vocab at 0x7f73af709208>,\n",
       " 'perspectives': <gensim.models.keyedvectors.Vocab at 0x7f73ad6aa780>,\n",
       " 'phase': <gensim.models.keyedvectors.Vocab at 0x7f73ad69ebe0>,\n",
       " 'photodynamic': <gensim.models.keyedvectors.Vocab at 0x7f73b0fc5240>,\n",
       " 'phototoxic': <gensim.models.keyedvectors.Vocab at 0x7f73ad6c32e8>,\n",
       " 'physical': <gensim.models.keyedvectors.Vocab at 0x7f73b0f77e10>,\n",
       " 'pilot': <gensim.models.keyedvectors.Vocab at 0x7f73af743f98>,\n",
       " 'placebo': <gensim.models.keyedvectors.Vocab at 0x7f73af709400>,\n",
       " 'placebo-controlled': <gensim.models.keyedvectors.Vocab at 0x7f73af743a90>,\n",
       " 'plasma': <gensim.models.keyedvectors.Vocab at 0x7f73af6eb860>,\n",
       " 'plump': <gensim.models.keyedvectors.Vocab at 0x7f73af6fde80>,\n",
       " 'polymerase': <gensim.models.keyedvectors.Vocab at 0x7f73ad6ad048>,\n",
       " 'poor': <gensim.models.keyedvectors.Vocab at 0x7f73ad6aa390>,\n",
       " 'port': <gensim.models.keyedvectors.Vocab at 0x7f73b0fc5f60>,\n",
       " 'positive': <gensim.models.keyedvectors.Vocab at 0x7f73ad6ad9b0>,\n",
       " 'possibility': <gensim.models.keyedvectors.Vocab at 0x7f73ad6a5e10>,\n",
       " 'post-operative': <gensim.models.keyedvectors.Vocab at 0x7f73ad6c33c8>,\n",
       " 'potential': <gensim.models.keyedvectors.Vocab at 0x7f73ad6aab00>,\n",
       " 'precursor': <gensim.models.keyedvectors.Vocab at 0x7f73ad6adc50>,\n",
       " 'predict': <gensim.models.keyedvectors.Vocab at 0x7f73ad6ada20>,\n",
       " 'prediction': <gensim.models.keyedvectors.Vocab at 0x7f73ad6ad978>,\n",
       " 'presence': <gensim.models.keyedvectors.Vocab at 0x7f73ad69c8d0>,\n",
       " 'presently': <gensim.models.keyedvectors.Vocab at 0x7f73ad6c3358>,\n",
       " 'produce': <gensim.models.keyedvectors.Vocab at 0x7f73ad6a57b8>,\n",
       " 'producer': <gensim.models.keyedvectors.Vocab at 0x7f73af6e7908>,\n",
       " 'production': <gensim.models.keyedvectors.Vocab at 0x7f73ad69eeb8>,\n",
       " 'prognosis': <gensim.models.keyedvectors.Vocab at 0x7f73ad6aa3c8>,\n",
       " 'progress': <gensim.models.keyedvectors.Vocab at 0x7f73ad6a7940>,\n",
       " 'prolong': <gensim.models.keyedvectors.Vocab at 0x7f73ad6c3278>,\n",
       " 'promoted': <gensim.models.keyedvectors.Vocab at 0x7f73ad6d2588>,\n",
       " 'properties': <gensim.models.keyedvectors.Vocab at 0x7f73ad6c3320>,\n",
       " 'prospective': <gensim.models.keyedvectors.Vocab at 0x7f73ad6a7470>,\n",
       " 'prostate': <gensim.models.keyedvectors.Vocab at 0x7f73ad6c39b0>,\n",
       " 'prostate-specific': <gensim.models.keyedvectors.Vocab at 0x7f73ad6c3d68>,\n",
       " 'protein': <gensim.models.keyedvectors.Vocab at 0x7f73ad6ade80>,\n",
       " 'protoporphyrin': <gensim.models.keyedvectors.Vocab at 0x7f73ad6aacf8>,\n",
       " 'provide': <gensim.models.keyedvectors.Vocab at 0x7f73ad6aa5f8>,\n",
       " 'proving': <gensim.models.keyedvectors.Vocab at 0x7f73ad6a74a8>,\n",
       " 'psychological': <gensim.models.keyedvectors.Vocab at 0x7f73b0f77c18>,\n",
       " 'publications': <gensim.models.keyedvectors.Vocab at 0x7f73ad6aa9e8>,\n",
       " 'purposes': <gensim.models.keyedvectors.Vocab at 0x7f73ad6a5eb8>,\n",
       " 'put': <gensim.models.keyedvectors.Vocab at 0x7f73ad6aaba8>,\n",
       " 'randomized': <gensim.models.keyedvectors.Vocab at 0x7f73af743f60>,\n",
       " 'randomly': <gensim.models.keyedvectors.Vocab at 0x7f73af6fa240>,\n",
       " 'rate': <gensim.models.keyedvectors.Vocab at 0x7f73af6ebc18>,\n",
       " 'reaction': <gensim.models.keyedvectors.Vocab at 0x7f73ad6ad0b8>,\n",
       " 'recruited': <gensim.models.keyedvectors.Vocab at 0x7f73ad6c3e48>,\n",
       " 'rectal': <gensim.models.keyedvectors.Vocab at 0x7f73ad6c3c88>,\n",
       " 'recur': <gensim.models.keyedvectors.Vocab at 0x7f73ad6c3208>,\n",
       " 'recurrent': <gensim.models.keyedvectors.Vocab at 0x7f73ad6a72e8>,\n",
       " 'red': <gensim.models.keyedvectors.Vocab at 0x7f73af6fd0b8>,\n",
       " 'red-light': <gensim.models.keyedvectors.Vocab at 0x7f73b0fc5cc0>,\n",
       " 'reduced': <gensim.models.keyedvectors.Vocab at 0x7f73ad69ef60>,\n",
       " 'reduction': <gensim.models.keyedvectors.Vocab at 0x7f73ad69e9b0>,\n",
       " 'reflected': <gensim.models.keyedvectors.Vocab at 0x7f73ad69c9b0>,\n",
       " 'regulation': <gensim.models.keyedvectors.Vocab at 0x7f73ad6d2400>,\n",
       " 'relevance': <gensim.models.keyedvectors.Vocab at 0x7f73ad6aab70>,\n",
       " 'report': <gensim.models.keyedvectors.Vocab at 0x7f73ad6a7588>,\n",
       " 'require': <gensim.models.keyedvectors.Vocab at 0x7f73ad6aaeb8>,\n",
       " 'required': <gensim.models.keyedvectors.Vocab at 0x7f73ad6a7c88>,\n",
       " 'resection': <gensim.models.keyedvectors.Vocab at 0x7f73ad6c3048>,\n",
       " 'reserved': <gensim.models.keyedvectors.Vocab at 0x7f73ad6aa208>,\n",
       " 'resolution': <gensim.models.keyedvectors.Vocab at 0x7f73ad6a75f8>,\n",
       " 'respectively': <gensim.models.keyedvectors.Vocab at 0x7f73ad69eac8>,\n",
       " 'responsible': <gensim.models.keyedvectors.Vocab at 0x7f73ad6d2a90>,\n",
       " 'rest': <gensim.models.keyedvectors.Vocab at 0x7f73ad6c3fd0>,\n",
       " 'resulted': <gensim.models.keyedvectors.Vocab at 0x7f73ad69c4e0>,\n",
       " 'results': <gensim.models.keyedvectors.Vocab at 0x7f73af6fdf28>,\n",
       " 'review': <gensim.models.keyedvectors.Vocab at 0x7f73ad6aa588>,\n",
       " 'reviewed': <gensim.models.keyedvectors.Vocab at 0x7f73ad6aa9b0>,\n",
       " 'rights': <gensim.models.keyedvectors.Vocab at 0x7f73ad6aa1d0>,\n",
       " 'risk': <gensim.models.keyedvectors.Vocab at 0x7f73ad6a79b0>,\n",
       " 'rubber': <gensim.models.keyedvectors.Vocab at 0x7f73ad6a5c50>,\n",
       " 'ruddy': <gensim.models.keyedvectors.Vocab at 0x7f73af6fde48>,\n",
       " 'safety': <gensim.models.keyedvectors.Vocab at 0x7f73ad6a7518>,\n",
       " 'samples': <gensim.models.keyedvectors.Vocab at 0x7f73ad6c3ac8>,\n",
       " 'scab': <gensim.models.keyedvectors.Vocab at 0x7f73af6fd908>,\n",
       " 'scar': <gensim.models.keyedvectors.Vocab at 0x7f73af6fdcc0>,\n",
       " 'scars': <gensim.models.keyedvectors.Vocab at 0x7f73ad6a73c8>,\n",
       " 'scores': <gensim.models.keyedvectors.Vocab at 0x7f73ad6ad748>,\n",
       " 'sections': <gensim.models.keyedvectors.Vocab at 0x7f73ad69c5f8>,\n",
       " 'see': <gensim.models.keyedvectors.Vocab at 0x7f73af6ebb70>,\n",
       " 'selected': <gensim.models.keyedvectors.Vocab at 0x7f73af6e7b70>,\n",
       " 'selectively': <gensim.models.keyedvectors.Vocab at 0x7f73ad6adb70>,\n",
       " 'selectivity': <gensim.models.keyedvectors.Vocab at 0x7f73ad6aac50>,\n",
       " 'sensitivity': <gensim.models.keyedvectors.Vocab at 0x7f73ad6ad5c0>,\n",
       " 'set': <gensim.models.keyedvectors.Vocab at 0x7f73ad69e780>,\n",
       " 'severe': <gensim.models.keyedvectors.Vocab at 0x7f73af6fd860>,\n",
       " 'severity': <gensim.models.keyedvectors.Vocab at 0x7f73af6eb550>,\n",
       " 'sheet': <gensim.models.keyedvectors.Vocab at 0x7f73ad6a5c88>,\n",
       " 'showed': <gensim.models.keyedvectors.Vocab at 0x7f73ad69e6d8>,\n",
       " 'side': <gensim.models.keyedvectors.Vocab at 0x7f73af6fdb70>,\n",
       " 'significance': <gensim.models.keyedvectors.Vocab at 0x7f73ad6aa6d8>,\n",
       " 'significant': <gensim.models.keyedvectors.Vocab at 0x7f73af6fda58>,\n",
       " 'significantly': <gensim.models.keyedvectors.Vocab at 0x7f73ad69ec88>,\n",
       " 'sinus': <gensim.models.keyedvectors.Vocab at 0x7f73ad6a7358>,\n",
       " 'size': <gensim.models.keyedvectors.Vocab at 0x7f73ad69e518>,\n",
       " 'skin': <gensim.models.keyedvectors.Vocab at 0x7f73ad6a7630>,\n",
       " 'sodium': <gensim.models.keyedvectors.Vocab at 0x7f73b0f779b0>,\n",
       " 'source': <gensim.models.keyedvectors.Vocab at 0x7f73ad69e0f0>,\n",
       " 'specificity': <gensim.models.keyedvectors.Vocab at 0x7f73ad6ad5f8>,\n",
       " 'staining': <gensim.models.keyedvectors.Vocab at 0x7f73ad69c5c0>,\n",
       " 'stains': <gensim.models.keyedvectors.Vocab at 0x7f73b0fc5fd0>,\n",
       " 'standard': <gensim.models.keyedvectors.Vocab at 0x7f73ad6aa518>,\n",
       " 'status': <gensim.models.keyedvectors.Vocab at 0x7f73ad6aa6a0>,\n",
       " 'steatohepatic': <gensim.models.keyedvectors.Vocab at 0x7f73ad69c940>,\n",
       " 'steatohepatitis-hepatocellular': <gensim.models.keyedvectors.Vocab at 0x7f73ad69cc18>,\n",
       " 'stereotactic': <gensim.models.keyedvectors.Vocab at 0x7f73ad6c3828>,\n",
       " 'strains': <gensim.models.keyedvectors.Vocab at 0x7f73af6e7c88>,\n",
       " 'strategies': <gensim.models.keyedvectors.Vocab at 0x7f73ad6a7c18>,\n",
       " 'strategy': <gensim.models.keyedvectors.Vocab at 0x7f73ad6d2f98>,\n",
       " 'study': <gensim.models.keyedvectors.Vocab at 0x7f73ad6a5668>,\n",
       " 'subcutaneous': <gensim.models.keyedvectors.Vocab at 0x7f73ad69c390>,\n",
       " 'subfamily': <gensim.models.keyedvectors.Vocab at 0x7f73ad6d2860>,\n",
       " 'subjects': <gensim.models.keyedvectors.Vocab at 0x7f73af709128>,\n",
       " 'suffering': <gensim.models.keyedvectors.Vocab at 0x7f73ad6aa2e8>,\n",
       " 'suggest': <gensim.models.keyedvectors.Vocab at 0x7f73af6fdf60>,\n",
       " 'suitable': <gensim.models.keyedvectors.Vocab at 0x7f73af6fdfd0>,\n",
       " 'supplement': <gensim.models.keyedvectors.Vocab at 0x7f73af709320>,\n",
       " 'supplementation': <gensim.models.keyedvectors.Vocab at 0x7f73b0f77e80>,\n",
       " 'suppressing': <gensim.models.keyedvectors.Vocab at 0x7f73ad6d2ef0>,\n",
       " 'suppurativa/acne': <gensim.models.keyedvectors.Vocab at 0x7f73ad6a70b8>,\n",
       " 'suppurative': <gensim.models.keyedvectors.Vocab at 0x7f73ad6a71d0>,\n",
       " 'surgery': <gensim.models.keyedvectors.Vocab at 0x7f73ad6aa828>,\n",
       " 'surgical': <gensim.models.keyedvectors.Vocab at 0x7f73ad6aa400>,\n",
       " 'survival': <gensim.models.keyedvectors.Vocab at 0x7f73ad6c32b0>,\n",
       " 'suspected': <gensim.models.keyedvectors.Vocab at 0x7f73ad6c3b38>,\n",
       " 'symptoms': <gensim.models.keyedvectors.Vocab at 0x7f73af6eb7b8>,\n",
       " 'systemic': <gensim.models.keyedvectors.Vocab at 0x7f73af6f82e8>,\n",
       " 'test': <gensim.models.keyedvectors.Vocab at 0x7f73af7094a8>,\n",
       " 'text': <gensim.models.keyedvectors.Vocab at 0x7f73af6eb9b0>,\n",
       " 'therapeutic': <gensim.models.keyedvectors.Vocab at 0x7f73ad6a7ac8>,\n",
       " 'therapy': <gensim.models.keyedvectors.Vocab at 0x7f73b0fc5e10>,\n",
       " 'thick': <gensim.models.keyedvectors.Vocab at 0x7f73af6fd8d0>,\n",
       " 'thin': <gensim.models.keyedvectors.Vocab at 0x7f73af6fdb38>,\n",
       " 'third': <gensim.models.keyedvectors.Vocab at 0x7f73ad6a7860>,\n",
       " 'three': <gensim.models.keyedvectors.Vocab at 0x7f73ad69c1d0>,\n",
       " 'time': <gensim.models.keyedvectors.Vocab at 0x7f73af6ebc50>,\n",
       " 'times': <gensim.models.keyedvectors.Vocab at 0x7f73ad69ed30>,\n",
       " 'tissue': <gensim.models.keyedvectors.Vocab at 0x7f73af6fd2b0>,\n",
       " 'tissues': <gensim.models.keyedvectors.Vocab at 0x7f73af6fdda0>,\n",
       " 'topic': <gensim.models.keyedvectors.Vocab at 0x7f73ad6aaac8>,\n",
       " 'topical': <gensim.models.keyedvectors.Vocab at 0x7f73af6f81d0>,\n",
       " 'tracts': <gensim.models.keyedvectors.Vocab at 0x7f73ad6a7390>,\n",
       " 'training': <gensim.models.keyedvectors.Vocab at 0x7f73b0f77ef0>,\n",
       " 'transporter': <gensim.models.keyedvectors.Vocab at 0x7f73ad6d2940>,\n",
       " 'transrectal': <gensim.models.keyedvectors.Vocab at 0x7f73ad6ad358>,\n",
       " 'treated': <gensim.models.keyedvectors.Vocab at 0x7f73ad6adbe0>,\n",
       " 'treating': <gensim.models.keyedvectors.Vocab at 0x7f73af6e7978>,\n",
       " 'treatment': <gensim.models.keyedvectors.Vocab at 0x7f73af6fd438>,\n",
       " 'treatments': <gensim.models.keyedvectors.Vocab at 0x7f73ad6a7780>,\n",
       " 'trial': <gensim.models.keyedvectors.Vocab at 0x7f73af7095f8>,\n",
       " 'trials': <gensim.models.keyedvectors.Vocab at 0x7f73af7094e0>,\n",
       " 'tumor': <gensim.models.keyedvectors.Vocab at 0x7f73ad6aa898>,\n",
       " 'tumor-carrying': <gensim.models.keyedvectors.Vocab at 0x7f73ad69c470>,\n",
       " 'tumors': <gensim.models.keyedvectors.Vocab at 0x7f73ad6aa438>,\n",
       " 'two': <gensim.models.keyedvectors.Vocab at 0x7f73af7092b0>,\n",
       " 'type': <gensim.models.keyedvectors.Vocab at 0x7f73ad6a7160>,\n",
       " 'types': <gensim.models.keyedvectors.Vocab at 0x7f73ad6d25f8>,\n",
       " 'ulcer': <gensim.models.keyedvectors.Vocab at 0x7f73ad6a76a0>,\n",
       " 'ultrasound': <gensim.models.keyedvectors.Vocab at 0x7f73ad6ad390>,\n",
       " 'underlie': <gensim.models.keyedvectors.Vocab at 0x7f73ad6d26d8>,\n",
       " 'underwent': <gensim.models.keyedvectors.Vocab at 0x7f73af709160>,\n",
       " 'unimpaired': <gensim.models.keyedvectors.Vocab at 0x7f73ad6aae48>,\n",
       " 'upon': <gensim.models.keyedvectors.Vocab at 0x7f73ad69cb38>,\n",
       " 'urgently': <gensim.models.keyedvectors.Vocab at 0x7f73ad6a7c50>,\n",
       " 'urine': <gensim.models.keyedvectors.Vocab at 0x7f73ad6c3a90>,\n",
       " 'use': <gensim.models.keyedvectors.Vocab at 0x7f73ad6a5e48>,\n",
       " 'used': <gensim.models.keyedvectors.Vocab at 0x7f73af6e7048>,\n",
       " 'useful': <gensim.models.keyedvectors.Vocab at 0x7f73ad6ad9e8>,\n",
       " 'using': <gensim.models.keyedvectors.Vocab at 0x7f73af6e79e8>,\n",
       " 'v/v': <gensim.models.keyedvectors.Vocab at 0x7f73ad69e550>,\n",
       " 'value': <gensim.models.keyedvectors.Vocab at 0x7f73ad6ad6a0>,\n",
       " 'varying': <gensim.models.keyedvectors.Vocab at 0x7f73ad69e438>,\n",
       " 'viable': <gensim.models.keyedvectors.Vocab at 0x7f73ad6d2f60>,\n",
       " 'vinegar': <gensim.models.keyedvectors.Vocab at 0x7f73ad69e048>,\n",
       " 'vitro': <gensim.models.keyedvectors.Vocab at 0x7f73ad6d2e80>,\n",
       " 'vivo': <gensim.models.keyedvectors.Vocab at 0x7f73ad6d2b38>,\n",
       " 'voided': <gensim.models.keyedvectors.Vocab at 0x7f73ad6c3f28>,\n",
       " 'voltage-dependent': <gensim.models.keyedvectors.Vocab at 0x7f73ad6a7e10>,\n",
       " 'vs.': <gensim.models.keyedvectors.Vocab at 0x7f73af6eb588>,\n",
       " 'walking': <gensim.models.keyedvectors.Vocab at 0x7f73b0f77a58>,\n",
       " 'washout': <gensim.models.keyedvectors.Vocab at 0x7f73af709470>,\n",
       " 'wastewater': <gensim.models.keyedvectors.Vocab at 0x7f73ad6a5cc0>,\n",
       " 'wavelength': <gensim.models.keyedvectors.Vocab at 0x7f73ad6ad2e8>,\n",
       " 'wine': <gensim.models.keyedvectors.Vocab at 0x7f73b0fc5c50>,\n",
       " 'within': <gensim.models.keyedvectors.Vocab at 0x7f73ad6d2be0>,\n",
       " 'without': <gensim.models.keyedvectors.Vocab at 0x7f73ad6d2c50>,\n",
       " 'women': <gensim.models.keyedvectors.Vocab at 0x7f73b0f77b00>,\n",
       " 'wood': <gensim.models.keyedvectors.Vocab at 0x7f73ad6a5fd0>,\n",
       " 'workload': <gensim.models.keyedvectors.Vocab at 0x7f73af6ebdd8>,\n",
       " 'worldwide': <gensim.models.keyedvectors.Vocab at 0x7f73ad6a78d0>,\n",
       " 'xenograft': <gensim.models.keyedvectors.Vocab at 0x7f73ad6d2d30>,\n",
       " 'xenografts': <gensim.models.keyedvectors.Vocab at 0x7f73ad69cc88>,\n",
       " 'yr': <gensim.models.keyedvectors.Vocab at 0x7f73b0fd4048>,\n",
       " '©': <gensim.models.keyedvectors.Vocab at 0x7f73ad6aa0b8>,\n",
       " '±': <gensim.models.keyedvectors.Vocab at 0x7f73b0f61208>,\n",
       " '×': <gensim.models.keyedvectors.Vocab at 0x7f73af6ebd30>,\n",
       " 'α-SMA-expressing': <gensim.models.keyedvectors.Vocab at 0x7f73ad69c7b8>,\n",
       " 'μM': <gensim.models.keyedvectors.Vocab at 0x7f73ad69ee10>}"
      ]
     },
     "execution_count": 40,
     "metadata": {
      "tags": []
     },
     "output_type": "execute_result"
    }
   ],
   "source": [
    "model.wv.vocab"
   ]
  },
  {
   "cell_type": "markdown",
   "metadata": {
    "id": "tx8cN1F9XAmq",
    "colab_type": "text"
   },
   "source": [
    "## word2vec を使ってみる"
   ]
  },
  {
   "cell_type": "code",
   "execution_count": 0,
   "metadata": {
    "id": "GVMGeALXPnBB",
    "colab_type": "code",
    "colab": {
     "autoexec": {
      "startup": false,
      "wait_interval": 0.0
     }
    }
   },
   "outputs": [],
   "source": [
    ""
   ]
  },
  {
   "cell_type": "code",
   "execution_count": 0,
   "metadata": {
    "id": "SoUS0o_rXkMY",
    "colab_type": "code",
    "colab": {
     "autoexec": {
      "startup": false,
      "wait_interval": 0.0
     }
    }
   },
   "outputs": [],
   "source": [
    "from gensim.models.word2vec import Word2Vec"
   ]
  },
  {
   "cell_type": "code",
   "execution_count": 0,
   "metadata": {
    "id": "Ha4LnMvYOaq-",
    "colab_type": "code",
    "colab": {
     "autoexec": {
      "startup": false,
      "wait_interval": 0.0
     }
    }
   },
   "outputs": [],
   "source": [
    "sentences = []\n",
    "for txt in docs:\n",
    "  _s = sent_tokenize(txt)\n",
    "  for t in _s:\n",
    "    #s = word_tokenize(t)\n",
    "    s = [ w for w in word_tokenize(t) if w not in stop_words ]\n",
    "    sentences.append(s)\n"
   ]
  },
  {
   "cell_type": "code",
   "execution_count": 0,
   "metadata": {
    "id": "ObxfFUPZXZRd",
    "colab_type": "code",
    "colab": {
     "autoexec": {
      "startup": false,
      "wait_interval": 0.0
     }
    }
   },
   "outputs": [],
   "source": [
    "model_w2v = Word2Vec(sentences, size=128, min_count=1, window=5, seed=123, hs=1)"
   ]
  },
  {
   "cell_type": "code",
   "execution_count": 55,
   "metadata": {
    "id": "Q3wa7y6_YN6b",
    "colab_type": "code",
    "colab": {
     "autoexec": {
      "startup": false,
      "wait_interval": 0.0
     },
     "base_uri": "https://localhost:8080/",
     "height": 193.0
    },
    "outputId": "9b88f32c-d4cd-433d-d2d8-7c348d7bed1a",
    "executionInfo": {
     "status": "ok",
     "timestamp": 1.526365769231E12,
     "user_tz": -540.0,
     "elapsed": 594.0,
     "user": {
      "displayName": "大下健史",
      "photoUrl": "https://lh3.googleusercontent.com/a/default-user=s128",
      "userId": "114806679545096700120"
     }
    }
   },
   "outputs": [
    {
     "data": {
      "text/plain": [
       "[('suspected', 0.28630536794662476),\n",
       " ('biopsy', 0.28629907965660095),\n",
       " ('lines', 0.28521400690078735),\n",
       " ('human', 0.2640345096588135),\n",
       " ('vs.', 0.2587617039680481),\n",
       " ('peptide', 0.2488127052783966),\n",
       " ('level', 0.2438606470823288),\n",
       " ('higher', 0.23779696226119995),\n",
       " ('application', 0.2368009239435196),\n",
       " ('wavelength', 0.23492580652236938)]"
      ]
     },
     "execution_count": 55,
     "metadata": {
      "tags": []
     },
     "output_type": "execute_result"
    }
   ],
   "source": [
    "model_w2v.wv.most_similar(\"ALA\")"
   ]
  },
  {
   "cell_type": "code",
   "execution_count": 56,
   "metadata": {
    "id": "viTjg-LKQEfS",
    "colab_type": "code",
    "colab": {
     "autoexec": {
      "startup": false,
      "wait_interval": 0.0
     },
     "base_uri": "https://localhost:8080/",
     "height": 418.0
    },
    "outputId": "553f14bc-fe18-4d6a-fbf7-2a02bd212ec6",
    "executionInfo": {
     "status": "error",
     "timestamp": 1.526365774234E12,
     "user_tz": -540.0,
     "elapsed": 561.0,
     "user": {
      "displayName": "大下健史",
      "photoUrl": "https://lh3.googleusercontent.com/a/default-user=s128",
      "userId": "114806679545096700120"
     }
    }
   },
   "outputs": [
    {
     "ename": "KeyError",
     "evalue": "ignored",
     "traceback": [
      "\u001b[0;31m---------------------------------------------------------------------------\u001b[0m",
      "\u001b[0;31mKeyError\u001b[0m                                  Traceback (most recent call last)",
      "\u001b[0;32m<ipython-input-56-db9d304970e4>\u001b[0m in \u001b[0;36m<module>\u001b[0;34m()\u001b[0m\n\u001b[0;32m----> 1\u001b[0;31m \u001b[0mmodel_w2v\u001b[0m\u001b[0;34m.\u001b[0m\u001b[0mwv\u001b[0m\u001b[0;34m.\u001b[0m\u001b[0mmost_similar\u001b[0m\u001b[0;34m(\u001b[0m\u001b[0;34m\"ala\"\u001b[0m\u001b[0;34m)\u001b[0m\u001b[0;34m\u001b[0m\u001b[0m\n\u001b[0m",
      "\u001b[0;32m/usr/local/lib/python3.6/dist-packages/gensim/models/keyedvectors.py\u001b[0m in \u001b[0;36mmost_similar\u001b[0;34m(self, positive, negative, topn, restrict_vocab, indexer)\u001b[0m\n\u001b[1;32m    363\u001b[0m                 \u001b[0mmean\u001b[0m\u001b[0;34m.\u001b[0m\u001b[0mappend\u001b[0m\u001b[0;34m(\u001b[0m\u001b[0mweight\u001b[0m \u001b[0;34m*\u001b[0m \u001b[0mword\u001b[0m\u001b[0;34m)\u001b[0m\u001b[0;34m\u001b[0m\u001b[0m\n\u001b[1;32m    364\u001b[0m             \u001b[0;32melse\u001b[0m\u001b[0;34m:\u001b[0m\u001b[0;34m\u001b[0m\u001b[0m\n\u001b[0;32m--> 365\u001b[0;31m                 \u001b[0mmean\u001b[0m\u001b[0;34m.\u001b[0m\u001b[0mappend\u001b[0m\u001b[0;34m(\u001b[0m\u001b[0mweight\u001b[0m \u001b[0;34m*\u001b[0m \u001b[0mself\u001b[0m\u001b[0;34m.\u001b[0m\u001b[0mword_vec\u001b[0m\u001b[0;34m(\u001b[0m\u001b[0mword\u001b[0m\u001b[0;34m,\u001b[0m \u001b[0muse_norm\u001b[0m\u001b[0;34m=\u001b[0m\u001b[0;32mTrue\u001b[0m\u001b[0;34m)\u001b[0m\u001b[0;34m)\u001b[0m\u001b[0;34m\u001b[0m\u001b[0m\n\u001b[0m\u001b[1;32m    366\u001b[0m                 \u001b[0;32mif\u001b[0m \u001b[0mword\u001b[0m \u001b[0;32min\u001b[0m \u001b[0mself\u001b[0m\u001b[0;34m.\u001b[0m\u001b[0mvocab\u001b[0m\u001b[0;34m:\u001b[0m\u001b[0;34m\u001b[0m\u001b[0m\n\u001b[1;32m    367\u001b[0m                     \u001b[0mall_words\u001b[0m\u001b[0;34m.\u001b[0m\u001b[0madd\u001b[0m\u001b[0;34m(\u001b[0m\u001b[0mself\u001b[0m\u001b[0;34m.\u001b[0m\u001b[0mvocab\u001b[0m\u001b[0;34m[\u001b[0m\u001b[0mword\u001b[0m\u001b[0;34m]\u001b[0m\u001b[0;34m.\u001b[0m\u001b[0mindex\u001b[0m\u001b[0;34m)\u001b[0m\u001b[0;34m\u001b[0m\u001b[0m\n",
      "\u001b[0;32m/usr/local/lib/python3.6/dist-packages/gensim/models/keyedvectors.py\u001b[0m in \u001b[0;36mword_vec\u001b[0;34m(self, word, use_norm)\u001b[0m\n\u001b[1;32m    272\u001b[0m             \u001b[0;32mreturn\u001b[0m \u001b[0mresult\u001b[0m\u001b[0;34m\u001b[0m\u001b[0m\n\u001b[1;32m    273\u001b[0m         \u001b[0;32melse\u001b[0m\u001b[0;34m:\u001b[0m\u001b[0;34m\u001b[0m\u001b[0m\n\u001b[0;32m--> 274\u001b[0;31m             \u001b[0;32mraise\u001b[0m \u001b[0mKeyError\u001b[0m\u001b[0;34m(\u001b[0m\u001b[0;34m\"word '%s' not in vocabulary\"\u001b[0m \u001b[0;34m%\u001b[0m \u001b[0mword\u001b[0m\u001b[0;34m)\u001b[0m\u001b[0;34m\u001b[0m\u001b[0m\n\u001b[0m\u001b[1;32m    275\u001b[0m \u001b[0;34m\u001b[0m\u001b[0m\n\u001b[1;32m    276\u001b[0m     \u001b[0;32mdef\u001b[0m \u001b[0mget_vector\u001b[0m\u001b[0;34m(\u001b[0m\u001b[0mself\u001b[0m\u001b[0;34m,\u001b[0m \u001b[0mword\u001b[0m\u001b[0;34m)\u001b[0m\u001b[0;34m:\u001b[0m\u001b[0;34m\u001b[0m\u001b[0m\n",
      "\u001b[0;31mKeyError\u001b[0m: \"word 'ala' not in vocabulary\""
     ],
     "output_type": "error"
    }
   ],
   "source": [
    "model_w2v.wv.most_similar(\"ala\")"
   ]
  },
  {
   "cell_type": "code",
   "execution_count": 15,
   "metadata": {
    "id": "dWxWWayUYWIU",
    "colab_type": "code",
    "colab": {
     "autoexec": {
      "startup": false,
      "wait_interval": 0.0
     },
     "base_uri": "https://localhost:8080/",
     "height": 653.0
    },
    "outputId": "66bb50dd-38cf-4549-eabb-b8099be18413",
    "executionInfo": {
     "status": "ok",
     "timestamp": 1.526260944891E12,
     "user_tz": -540.0,
     "elapsed": 527.0,
     "user": {
      "displayName": "大下健史",
      "photoUrl": "https://lh3.googleusercontent.com/a/default-user=s128",
      "userId": "114806679545096700120"
     }
    }
   },
   "outputs": [
    {
     "name": "stderr",
     "output_type": "stream",
     "text": [
      "/usr/local/lib/python3.6/dist-packages/ipykernel_launcher.py:1: DeprecationWarning: Call to deprecated `__getitem__` (Method will be removed in 4.0.0, use self.wv.__getitem__() instead).\n",
      "  \"\"\"Entry point for launching an IPython kernel.\n"
     ]
    },
    {
     "data": {
      "text/plain": [
       "array([-1.0134105e-03,  1.5339239e-03,  3.0394134e-03,  3.0444609e-03,\n",
       "       -1.8634626e-03,  2.9404338e-03, -1.8008141e-05,  1.8967274e-03,\n",
       "        2.0861051e-03, -4.2824866e-03,  1.9788083e-03,  1.9208768e-03,\n",
       "       -2.5379770e-03, -7.8319927e-04,  4.1189599e-03,  1.7217455e-03,\n",
       "       -1.4654294e-03,  1.1347667e-03, -9.9318917e-04,  2.7858843e-03,\n",
       "        2.4060844e-03,  3.2390305e-03,  2.2179233e-03,  2.4751094e-03,\n",
       "       -2.7930886e-03, -3.7656780e-03,  7.4222061e-04, -7.9163886e-04,\n",
       "       -1.8915015e-04, -3.5814825e-03,  8.4188185e-04,  1.2060381e-03,\n",
       "       -1.2045883e-03, -1.5391675e-03,  1.8062076e-03,  2.3510484e-03,\n",
       "       -1.2720677e-03, -2.0894783e-03,  1.4451373e-03,  2.5015362e-03,\n",
       "        1.2227798e-04, -9.6634019e-04, -3.6166755e-03, -1.0987178e-03,\n",
       "        2.5019897e-03,  5.2798068e-04,  3.8835863e-03, -1.5351627e-03,\n",
       "        7.0581335e-04, -4.0057403e-04,  2.5099393e-03, -3.4252438e-03,\n",
       "        2.7231991e-03,  2.8576157e-03,  5.5128412e-04,  2.3675526e-03,\n",
       "       -4.0327320e-03,  2.4897552e-03,  5.8915681e-04,  3.3639034e-03,\n",
       "       -1.1406986e-03, -4.0647471e-03, -2.7881734e-04, -2.0684679e-03,\n",
       "       -7.9000631e-04,  2.4537507e-03, -3.7086208e-03,  3.5503791e-03,\n",
       "        3.6286127e-03, -3.6497782e-03, -1.9894906e-03,  6.3273247e-04,\n",
       "        1.1428142e-03, -3.0971603e-03,  3.4210996e-03,  2.3234370e-03,\n",
       "        2.5579876e-03, -2.7640485e-03,  2.5692827e-03, -1.5479008e-03,\n",
       "       -3.4175178e-03,  2.8857528e-03,  1.2749629e-03, -3.5623596e-03,\n",
       "       -3.2110822e-03,  1.1821006e-03,  1.1717608e-04, -2.8549486e-03,\n",
       "       -7.9088489e-04,  1.4075409e-03,  1.1635139e-03, -3.1602711e-03,\n",
       "        5.1113754e-04, -1.2350476e-03,  2.8956605e-03, -3.1940346e-03,\n",
       "       -3.0897243e-03,  9.9944579e-04, -3.6691122e-03,  1.6041861e-03,\n",
       "        3.5810804e-03,  2.4525770e-03, -1.7714964e-03, -1.1281123e-03,\n",
       "       -7.5520365e-04,  3.2024770e-03, -3.3164094e-03, -2.1589980e-03,\n",
       "        2.2760492e-03, -3.1219443e-04,  9.6465141e-04, -4.2218901e-03,\n",
       "        3.8910646e-05, -3.0989244e-03, -3.8038432e-03, -2.5188597e-03,\n",
       "        9.9484494e-04, -3.2654521e-04,  7.8160188e-04, -3.4809634e-03,\n",
       "        2.4076404e-04,  2.2797924e-03,  8.7991892e-04, -1.5475904e-03,\n",
       "        3.9207973e-04,  1.9183212e-03, -3.1361894e-03, -3.3347933e-03],\n",
       "      dtype=float32)"
      ]
     },
     "execution_count": 15,
     "metadata": {
      "tags": []
     },
     "output_type": "execute_result"
    }
   ],
   "source": [
    "model_w2v[\"ALA\"]"
   ]
  },
  {
   "cell_type": "code",
   "execution_count": 16,
   "metadata": {
    "id": "D0oDOqsTYd0C",
    "colab_type": "code",
    "colab": {
     "autoexec": {
      "startup": false,
      "wait_interval": 0.0
     },
     "base_uri": "https://localhost:8080/",
     "height": 105.0
    },
    "outputId": "b71d56de-a7d7-46ed-8796-5f04fc48f089",
    "executionInfo": {
     "status": "ok",
     "timestamp": 1.52626094895E12,
     "user_tz": -540.0,
     "elapsed": 1604.0,
     "user": {
      "displayName": "大下健史",
      "photoUrl": "https://lh3.googleusercontent.com/a/default-user=s128",
      "userId": "114806679545096700120"
     }
    }
   },
   "outputs": [
    {
     "name": "stdout",
     "output_type": "stream",
     "text": [
      "total 3296\r\n",
      "drwxr-xr-x 1 root root    4096 Apr 30 16:29 datalab\r\n",
      "drwxr-xr-x 3 root root    4096 May 14 01:21 nltk_data\r\n",
      "-rw-r--r-- 1 root root 2067542 May 14 01:22 doc2vec.model\r\n",
      "-rw-r--r-- 1 root root 1296032 May 14 01:22 word2vec.model\r\n"
     ]
    }
   ],
   "source": [
    "model_w2v.save(\"word2vec.model\")\n",
    "!ls -ltr"
   ]
  },
  {
   "cell_type": "code",
   "execution_count": 0,
   "metadata": {
    "id": "P2LOkS5bZy7Y",
    "colab_type": "code",
    "colab": {
     "autoexec": {
      "startup": false,
      "wait_interval": 0.0
     }
    }
   },
   "outputs": [],
   "source": [
    ""
   ]
  }
 ],
 "metadata": {
  "colab": {
   "name": "vectorize.ipynb",
   "version": "0.3.2",
   "views": {},
   "default_view": {},
   "provenance": [],
   "collapsed_sections": []
  },
  "kernelspec": {
   "name": "python3",
   "display_name": "Python 3"
  }
 },
 "nbformat": 4,
 "nbformat_minor": 0
}
