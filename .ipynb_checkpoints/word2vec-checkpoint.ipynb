{
 "cells": [
  {
   "cell_type": "markdown",
   "metadata": {
    "colab_type": "text",
    "id": "8yxeKSh2ajaC"
   },
   "source": [
    "# Word2Vecの検証"
   ]
  },
  {
   "cell_type": "markdown",
   "metadata": {
    "colab_type": "text",
    "id": "GqLjV9ZyaiCB"
   },
   "source": [
    "## コーパスの用意"
   ]
  },
  {
   "cell_type": "code",
   "execution_count": 1,
   "metadata": {
    "colab": {
     "autoexec": {
      "startup": false,
      "wait_interval": 0
     }
    },
    "colab_type": "code",
    "id": "dq6wuEK3udsg"
   },
   "outputs": [],
   "source": [
    "docs=[] \n",
    "\n",
    "docs.append(\"i am satoh tatsuya\")\n"
   ]
  },
  {
   "cell_type": "markdown",
   "metadata": {
    "colab_type": "text",
    "id": "JxrXrpnpXRfv"
   },
   "source": [
    "## NLTKのトークナイザを使ってみる"
   ]
  },
  {
   "cell_type": "code",
   "execution_count": null,
   "metadata": {
    "colab": {
     "autoexec": {
      "startup": false,
      "wait_interval": 0
     },
     "base_uri": "https://localhost:8080/",
     "height": 354
    },
    "colab_type": "code",
    "executionInfo": {
     "elapsed": 3043,
     "status": "ok",
     "timestamp": 1527220588093,
     "user": {
      "displayName": "大下健史",
      "photoUrl": "https://lh3.googleusercontent.com/a/default-user=s128",
      "userId": "114806679545096700120"
     },
     "user_tz": -540
    },
    "id": "8Xqbk3EAOlxm",
    "outputId": "26c2c147-0d71-4116-e2fa-92d198030dd9"
   },
   "outputs": [],
   "source": [
    "!pip install gensim"
   ]
  },
  {
   "cell_type": "code",
   "execution_count": null,
   "metadata": {
    "colab": {
     "autoexec": {
      "startup": false,
      "wait_interval": 0
     },
     "base_uri": "https://localhost:8080/",
     "height": 105
    },
    "colab_type": "code",
    "executionInfo": {
     "elapsed": 2314,
     "status": "ok",
     "timestamp": 1527220598394,
     "user": {
      "displayName": "大下健史",
      "photoUrl": "https://lh3.googleusercontent.com/a/default-user=s128",
      "userId": "114806679545096700120"
     },
     "user_tz": -540
    },
    "id": "YkCPGvBIxNAs",
    "outputId": "badb4220-81c0-4fc5-8efd-2970c54bbfc8"
   },
   "outputs": [],
   "source": [
    "import nltk\n",
    "from nltk.tokenize import sent_tokenize\n",
    "from nltk.tokenize import word_tokenize\n",
    "from nltk.corpus import stopwords\n",
    "nltk.download('punkt')\n",
    "nltk.download('stopwords')"
   ]
  },
  {
   "cell_type": "code",
   "execution_count": null,
   "metadata": {
    "colab": {
     "autoexec": {
      "startup": false,
      "wait_interval": 0
     },
     "base_uri": "https://localhost:8080/",
     "height": 52
    },
    "colab_type": "code",
    "executionInfo": {
     "elapsed": 562,
     "status": "ok",
     "timestamp": 1527220601277,
     "user": {
      "displayName": "大下健史",
      "photoUrl": "https://lh3.googleusercontent.com/a/default-user=s128",
      "userId": "114806679545096700120"
     },
     "user_tz": -540
    },
    "id": "advMzk84X_t-",
    "outputId": "fb4218d1-7b77-439c-a91a-09099869e94b"
   },
   "outputs": [],
   "source": [
    "import string\n",
    "punc = set(list(string.punctuation))\n",
    "stop_words = set(stopwords.words('english'))\n",
    "print(len(stop_words.union(punc)))\n",
    "stop_words = stop_words.union(punc)\n",
    "print(len(stop_words))\n",
    "#list(stop_words)[:5]"
   ]
  },
  {
   "cell_type": "code",
   "execution_count": null,
   "metadata": {
    "colab": {
     "autoexec": {
      "startup": false,
      "wait_interval": 0
     },
     "base_uri": "https://localhost:8080/",
     "height": 34
    },
    "colab_type": "code",
    "executionInfo": {
     "elapsed": 556,
     "status": "ok",
     "timestamp": 1527220618541,
     "user": {
      "displayName": "大下健史",
      "photoUrl": "https://lh3.googleusercontent.com/a/default-user=s128",
      "userId": "114806679545096700120"
     },
     "user_tz": -540
    },
    "id": "_tuSopYzGYRl",
    "outputId": "0fd5f809-2224-48c4-947e-13f41caa755f"
   },
   "outputs": [],
   "source": [
    "sentences = sent_tokenize(docs[0])\n",
    "words = word_tokenize(docs[0])\n",
    "words[:5]"
   ]
  },
  {
   "cell_type": "markdown",
   "metadata": {
    "colab_type": "text",
    "id": "dLdQ8z2zXKFZ"
   },
   "source": [
    "## doc2vec を使ってみる"
   ]
  },
  {
   "cell_type": "code",
   "execution_count": null,
   "metadata": {
    "colab": {
     "autoexec": {
      "startup": false,
      "wait_interval": 0
     }
    },
    "colab_type": "code",
    "id": "dd8G1q4Tuagh"
   },
   "outputs": [],
   "source": [
    "import gensim\n",
    "from gensim.models.doc2vec import Doc2Vec\n",
    "from gensim.models.doc2vec import TaggedDocument\n"
   ]
  },
  {
   "cell_type": "code",
   "execution_count": null,
   "metadata": {
    "colab": {
     "autoexec": {
      "startup": false,
      "wait_interval": 0
     },
     "base_uri": "https://localhost:8080/",
     "height": 178
    },
    "colab_type": "code",
    "executionInfo": {
     "elapsed": 574,
     "status": "ok",
     "timestamp": 1527220625570,
     "user": {
      "displayName": "大下健史",
      "photoUrl": "https://lh3.googleusercontent.com/a/default-user=s128",
      "userId": "114806679545096700120"
     },
     "user_tz": -540
    },
    "id": "UOaRQz3vHMCY",
    "outputId": "9c1241dc-0bbd-48f7-ef20-92f28a91d302"
   },
   "outputs": [],
   "source": [
    "tagdocs = []\n",
    "for idx, txt in enumerate(docs):\n",
    "  #words = word_tokenize(txt)\n",
    "  words = [w for w in word_tokenize(txt) if w not in stop_words]\n",
    "  doc_id = \"d%02d\" % (idx)\n",
    "  tagdocs.append(TaggedDocument(words=words, tags=[doc_id]))\n",
    "tagdocs"
   ]
  },
  {
   "cell_type": "code",
   "execution_count": null,
   "metadata": {
    "colab": {
     "autoexec": {
      "startup": false,
      "wait_interval": 0
     }
    },
    "colab_type": "code",
    "id": "PH2p-kHuGbQ_"
   },
   "outputs": [],
   "source": [
    "model = Doc2Vec(documents=tagdocs, vector_size=128, window=5, seed=123, min_count=1, dm=0, hs=1, negative=15, dbow_words=1)"
   ]
  },
  {
   "cell_type": "code",
   "execution_count": 10,
   "metadata": {
    "colab": {
     "autoexec": {
      "startup": false,
      "wait_interval": 0
     },
     "base_uri": "https://localhost:8080/",
     "height": 140
    },
    "colab_type": "code",
    "executionInfo": {
     "elapsed": 547,
     "status": "ok",
     "timestamp": 1527220634322,
     "user": {
      "displayName": "大下健史",
      "photoUrl": "https://lh3.googleusercontent.com/a/default-user=s128",
      "userId": "114806679545096700120"
     },
     "user_tz": -540
    },
    "id": "LIJ6am7PK4Nb",
    "outputId": "f6a747e7-2699-4c9a-c4b2-edc8f3803aa5"
   },
   "outputs": [
    {
     "data": {
      "text/plain": [
       "[('d06', 0.9992667436599731),\n",
       " ('d03', 0.9989093542098999),\n",
       " ('d01', 0.9984999299049377),\n",
       " ('d04', 0.9976261854171753),\n",
       " ('d02', 0.9972378015518188),\n",
       " ('d07', 0.9962378740310669),\n",
       " ('d05', 0.9929424524307251)]"
      ]
     },
     "execution_count": 10,
     "metadata": {
      "tags": []
     },
     "output_type": "execute_result"
    }
   ],
   "source": [
    "model.docvecs.most_similar(\"d00\")"
   ]
  },
  {
   "cell_type": "code",
   "execution_count": 12,
   "metadata": {
    "colab": {
     "autoexec": {
      "startup": false,
      "wait_interval": 0
     },
     "base_uri": "https://localhost:8080/",
     "height": 34
    },
    "colab_type": "code",
    "executionInfo": {
     "elapsed": 817,
     "status": "ok",
     "timestamp": 1527220646386,
     "user": {
      "displayName": "大下健史",
      "photoUrl": "https://lh3.googleusercontent.com/a/default-user=s128",
      "userId": "114806679545096700120"
     },
     "user_tz": -540
    },
    "id": "zqh_MqpIK8pG",
    "outputId": "b31cb8bb-ae02-4eed-f164-a1fb994e7f2d"
   },
   "outputs": [
    {
     "data": {
      "text/plain": [
       "(128,)"
      ]
     },
     "execution_count": 12,
     "metadata": {
      "tags": []
     },
     "output_type": "execute_result"
    }
   ],
   "source": [
    "model.docvecs[\"d00\"].shape"
   ]
  },
  {
   "cell_type": "code",
   "execution_count": 38,
   "metadata": {
    "colab": {
     "autoexec": {
      "startup": false,
      "wait_interval": 0
     },
     "base_uri": "https://localhost:8080/",
     "height": 474
    },
    "colab_type": "code",
    "executionInfo": {
     "elapsed": 580,
     "status": "ok",
     "timestamp": 1526532835226,
     "user": {
      "displayName": "大下健史",
      "photoUrl": "https://lh3.googleusercontent.com/a/default-user=s128",
      "userId": "114806679545096700120"
     },
     "user_tz": -540
    },
    "id": "AVJqjHx3LHd3",
    "outputId": "3540aabd-2e32-46d0-8328-0f8315b1e960"
   },
   "outputs": [
    {
     "data": {
      "text/plain": [
       "array([-0.00571354,  0.02097032, -0.01281678,  0.04184254, -0.05303897,\n",
       "       -0.18993583, -0.10363462,  0.16176729,  0.1645555 ,  0.34434614,\n",
       "       -0.17520592, -0.03383131, -0.18021983,  0.09636024, -0.11200459,\n",
       "        0.11767135,  0.01322979, -0.00552709, -0.08480673,  0.07683162,\n",
       "       -0.25483888, -0.03588335,  0.16793099,  0.04221325,  0.0620208 ,\n",
       "        0.10704672,  0.16179086, -0.28098506, -0.2503317 ,  0.12218387,\n",
       "       -0.34006304,  0.07723379, -0.3121554 ,  0.01163692,  0.01451837,\n",
       "       -0.26377794,  0.13560846, -0.17652012, -0.35899654,  0.0801649 ,\n",
       "       -0.0305558 ,  0.01354969, -0.39329967,  0.24600925, -0.10612968,\n",
       "       -0.00147976, -0.09986916,  0.11085409,  0.14331469,  0.21884233,\n",
       "        0.02623219, -0.05346802,  0.07421736,  0.12749517, -0.19810304,\n",
       "        0.06627358,  0.28370166,  0.26695457,  0.07047858, -0.06312058,\n",
       "        0.01366573, -0.07889802, -0.15224098,  0.15477127, -0.09339978,\n",
       "        0.02477613,  0.01813412, -0.24927856,  0.09329145, -0.07463794,\n",
       "       -0.24081963, -0.03234118,  0.00229511,  0.19366273, -0.13109277,\n",
       "        0.00122435, -0.04645211, -0.21170802, -0.16195498,  0.11186309,\n",
       "        0.07401095,  0.05613855, -0.00142934,  0.54422665, -0.0177481 ,\n",
       "        0.03788354,  0.05396792, -0.02964064, -0.03769056,  0.02041543,\n",
       "       -0.0219248 ,  0.01713043, -0.3386421 , -0.23216088,  0.15813571,\n",
       "       -0.06251164, -0.04925893, -0.01356061, -0.08438736, -0.24940993,\n",
       "       -0.3531803 ,  0.24214688,  0.09730081, -0.2133494 ,  0.0041887 ,\n",
       "       -0.19202943, -0.15274298,  0.01869332, -0.13495329, -0.08019719,\n",
       "        0.08166485, -0.10044309,  0.3355555 , -0.41504943,  0.02895962,\n",
       "       -0.02331194, -0.16860752,  0.27759248,  0.02984468,  0.09130536,\n",
       "        0.13065858,  0.15160878,  0.2956638 ,  0.08147755,  0.03510195,\n",
       "        0.07539065,  0.10215684, -0.12115946], dtype=float32)"
      ]
     },
     "execution_count": 38,
     "metadata": {
      "tags": []
     },
     "output_type": "execute_result"
    }
   ],
   "source": [
    "model.wv[\"ALA\"]"
   ]
  },
  {
   "cell_type": "code",
   "execution_count": 39,
   "metadata": {
    "colab": {
     "autoexec": {
      "startup": false,
      "wait_interval": 0
     },
     "base_uri": "https://localhost:8080/",
     "height": 193
    },
    "colab_type": "code",
    "executionInfo": {
     "elapsed": 502,
     "status": "ok",
     "timestamp": 1526532837502,
     "user": {
      "displayName": "大下健史",
      "photoUrl": "https://lh3.googleusercontent.com/a/default-user=s128",
      "userId": "114806679545096700120"
     },
     "user_tz": -540
    },
    "id": "UVkH-ckgP1Wv",
    "outputId": "2c25e916-80db-4dfd-df56-9afebb3bf901"
   },
   "outputs": [
    {
     "data": {
      "text/plain": [
       "[('SFC', 0.9998091459274292),\n",
       " ('systemic', 0.9998059272766113),\n",
       " ('topical', 0.9997920393943787),\n",
       " ('IWT', 0.9997838735580444),\n",
       " ('results', 0.9997795224189758),\n",
       " ('bearing', 0.9997735023498535),\n",
       " ('cell', 0.9997730255126953),\n",
       " ('7.50', 0.9997722506523132),\n",
       " ('induced', 0.9997708797454834),\n",
       " ('biopsy', 0.9997708201408386)]"
      ]
     },
     "execution_count": 39,
     "metadata": {
      "tags": []
     },
     "output_type": "execute_result"
    }
   ],
   "source": [
    "model.wv.similar_by_word(\"ALA\")"
   ]
  },
  {
   "cell_type": "code",
   "execution_count": 0,
   "metadata": {
    "colab": {
     "autoexec": {
      "startup": false,
      "wait_interval": 0
     }
    },
    "colab_type": "code",
    "id": "wxDmaJwTawn2"
   },
   "outputs": [],
   "source": [
    "k = model.wv.\n",
    "model.wv.similar_by_vector()"
   ]
  },
  {
   "cell_type": "code",
   "execution_count": 13,
   "metadata": {
    "colab": {
     "autoexec": {
      "startup": false,
      "wait_interval": 0
     },
     "base_uri": "https://localhost:8080/",
     "height": 193
    },
    "colab_type": "code",
    "executionInfo": {
     "elapsed": 532,
     "status": "ok",
     "timestamp": 1526452964380,
     "user": {
      "displayName": "大下健史",
      "photoUrl": "https://lh3.googleusercontent.com/a/default-user=s128",
      "userId": "114806679545096700120"
     },
     "user_tz": -540
    },
    "id": "ZH5hR1M0r3Ri",
    "outputId": "78c2cf9d-a48c-4918-eee3-bb09d764bffe"
   },
   "outputs": [
    {
     "data": {
      "text/plain": [
       "[('human', 0.3141418397426605),\n",
       " ('immunohistochemistry', 0.27427732944488525),\n",
       " ('Ras', 0.27043384313583374),\n",
       " ('sections', 0.26403236389160156),\n",
       " ('lines', 0.24866196513175964),\n",
       " ('aim', 0.22179564833641052),\n",
       " ('clinical', 0.21243099868297577),\n",
       " ('wastewater', 0.2076757550239563),\n",
       " ('number', 0.2049652338027954),\n",
       " ('0', 0.20271295309066772)]"
      ]
     },
     "execution_count": 13,
     "metadata": {
      "tags": []
     },
     "output_type": "execute_result"
    }
   ],
   "source": [
    "model.wv.similar_by_word(\"aminolevulinic\")"
   ]
  },
  {
   "cell_type": "code",
   "execution_count": 51,
   "metadata": {
    "colab": {
     "autoexec": {
      "startup": false,
      "wait_interval": 0
     },
     "base_uri": "https://localhost:8080/",
     "height": 193
    },
    "colab_type": "code",
    "executionInfo": {
     "elapsed": 720,
     "status": "ok",
     "timestamp": 1526364428277,
     "user": {
      "displayName": "大下健史",
      "photoUrl": "https://lh3.googleusercontent.com/a/default-user=s128",
      "userId": "114806679545096700120"
     },
     "user_tz": -540
    },
    "id": "H8MUY1_TXowO",
    "outputId": "b75d98d2-dbe2-4560-f686-d90005f9d9c2"
   },
   "outputs": [
    {
     "data": {
      "text/plain": [
       "[('PCa', 0.37797242403030396),\n",
       " ('The', 0.369717001914978),\n",
       " ('topical', 0.3517023026943207),\n",
       " ('results', 0.34822237491607666),\n",
       " ('cell', 0.33701422810554504),\n",
       " ('days', 0.3124566972255707),\n",
       " ('guidance', 0.30019405484199524),\n",
       " ('TRUS', 0.29105085134506226),\n",
       " ('ALA-PDT', 0.2785578966140747),\n",
       " ('photodynamic', 0.27653008699417114)]"
      ]
     },
     "execution_count": 51,
     "metadata": {
      "tags": []
     },
     "output_type": "execute_result"
    }
   ],
   "source": [
    "model.wv.similar_by_word(\"PpIX\")"
   ]
  },
  {
   "cell_type": "code",
   "execution_count": 30,
   "metadata": {
    "colab": {
     "autoexec": {
      "startup": false,
      "wait_interval": 0
     },
     "base_uri": "https://localhost:8080/",
     "height": 122
    },
    "colab_type": "code",
    "executionInfo": {
     "elapsed": 786,
     "status": "ok",
     "timestamp": 1527223647199,
     "user": {
      "displayName": "大下健史",
      "photoUrl": "https://lh3.googleusercontent.com/a/default-user=s128",
      "userId": "114806679545096700120"
     },
     "user_tz": -540
    },
    "id": "nqcqRxcLcb4e",
    "outputId": "c2372522-b51a-43a3-a82f-a8a47ba7c408"
   },
   "outputs": [
    {
     "name": "stdout",
     "output_type": "stream",
     "text": [
      "[ALA] 0.9986648283925716\n",
      "[ALA-PDT] 0.9981809174406616\n",
      "[PpIX] 0.9990262603129307\n",
      "[photodynamic] 0.9990019693176385\n",
      "[topical] 0.9984952857524392\n",
      "[ALA+PpIX] 0.9989956141735904\n"
     ]
    }
   ],
   "source": [
    "import numpy\n",
    "\n",
    "def print_corr(w=\"ALA\"):\n",
    "  x = model.docvecs[\"d00\"]\n",
    "  y = model.wv[w]\n",
    "  crr = numpy.corrcoef(x, y)[1][0]\n",
    "  print(f\"[{w}]\", crr)\n",
    "\n",
    "print_corr(\"ALA\")\n",
    "print_corr(\"ALA-PDT\")\n",
    "print_corr(\"PpIX\")\n",
    "print_corr(\"photodynamic\")\n",
    "print_corr(\"topical\")\n",
    "\n",
    "x = model.docvecs[\"d00\"]\n",
    "y = model.wv[\"ALA\"] + model.wv[\"PpIX\"]\n",
    "print(\"[ALA+PpIX]\", numpy.corrcoef(x, y)[1][0])\n"
   ]
  },
  {
   "cell_type": "code",
   "execution_count": 10,
   "metadata": {
    "colab": {
     "autoexec": {
      "startup": false,
      "wait_interval": 0
     },
     "base_uri": "https://localhost:8080/",
     "height": 87
    },
    "colab_type": "code",
    "executionInfo": {
     "elapsed": 1677,
     "status": "ok",
     "timestamp": 1526260932526,
     "user": {
      "displayName": "大下健史",
      "photoUrl": "https://lh3.googleusercontent.com/a/default-user=s128",
      "userId": "114806679545096700120"
     },
     "user_tz": -540
    },
    "id": "kZdwWS09UkQZ",
    "outputId": "5939f16c-df84-42d0-d419-b33e3e7bbd2b"
   },
   "outputs": [
    {
     "name": "stdout",
     "output_type": "stream",
     "text": [
      "total 2028\r\n",
      "drwxr-xr-x 1 root root    4096 Apr 30 16:29 datalab\r\n",
      "drwxr-xr-x 3 root root    4096 May 14 01:21 nltk_data\r\n",
      "-rw-r--r-- 1 root root 2067542 May 14 01:22 doc2vec.model\r\n"
     ]
    }
   ],
   "source": [
    "model.save(\"doc2vec.model\")\n",
    "!ls -ltr"
   ]
  },
  {
   "cell_type": "markdown",
   "metadata": {
    "colab_type": "text",
    "id": "WRpV4ojic8Do"
   },
   "source": [
    "### 単語ベクトルの可視化"
   ]
  },
  {
   "cell_type": "code",
   "execution_count": 40,
   "metadata": {
    "colab": {
     "autoexec": {
      "startup": false,
      "wait_interval": 0
     },
     "base_uri": "https://localhost:8080/",
     "height": 13023
    },
    "colab_type": "code",
    "executionInfo": {
     "elapsed": 654,
     "status": "ok",
     "timestamp": 1526534065539,
     "user": {
      "displayName": "大下健史",
      "photoUrl": "https://lh3.googleusercontent.com/a/default-user=s128",
      "userId": "114806679545096700120"
     },
     "user_tz": -540
    },
    "id": "uyQtP0gLc7Wt",
    "outputId": "86789562-4f87-4d0c-b0fa-5748fa2214ad"
   },
   "outputs": [
    {
     "data": {
      "text/plain": [
       "{'-guided': <gensim.models.keyedvectors.Vocab at 0x7f73ad6ad400>,\n",
       " '-induced': <gensim.models.keyedvectors.Vocab at 0x7f73ad69c2b0>,\n",
       " '0': <gensim.models.keyedvectors.Vocab at 0x7f73af6fd470>,\n",
       " '0.0002': <gensim.models.keyedvectors.Vocab at 0x7f73ad6ad828>,\n",
       " '0.001': <gensim.models.keyedvectors.Vocab at 0x7f73af6ebac8>,\n",
       " '0.005': <gensim.models.keyedvectors.Vocab at 0x7f73ad6ad7b8>,\n",
       " '0.01': <gensim.models.keyedvectors.Vocab at 0x7f73af6ebbe0>,\n",
       " '0.03': <gensim.models.keyedvectors.Vocab at 0x7f73ad6ad780>,\n",
       " '0.05': <gensim.models.keyedvectors.Vocab at 0x7f73af6eb6a0>,\n",
       " '0.63': <gensim.models.keyedvectors.Vocab at 0x7f73ad69ec18>,\n",
       " '0.74': <gensim.models.keyedvectors.Vocab at 0x7f73ad6ad630>,\n",
       " '1': <gensim.models.keyedvectors.Vocab at 0x7f73af6fd4a8>,\n",
       " '1.25': <gensim.models.keyedvectors.Vocab at 0x7f73ad69ec50>,\n",
       " '10-day': <gensim.models.keyedvectors.Vocab at 0x7f73af7090b8>,\n",
       " '126/189': <gensim.models.keyedvectors.Vocab at 0x7f73ad6ad470>,\n",
       " '128': <gensim.models.keyedvectors.Vocab at 0x7f73ad69ed68>,\n",
       " '131': <gensim.models.keyedvectors.Vocab at 0x7f73ad69edd8>,\n",
       " '14': <gensim.models.keyedvectors.Vocab at 0x7f73af6fd550>,\n",
       " '16': <gensim.models.keyedvectors.Vocab at 0x7f73af6fa2b0>,\n",
       " '160': <gensim.models.keyedvectors.Vocab at 0x7f73af6fa278>,\n",
       " '1:1': <gensim.models.keyedvectors.Vocab at 0x7f73ad69e400>,\n",
       " '2': <gensim.models.keyedvectors.Vocab at 0x7f73ad6ad240>,\n",
       " '2.2-': <gensim.models.keyedvectors.Vocab at 0x7f73ad6d2b70>,\n",
       " '2.4-fold': <gensim.models.keyedvectors.Vocab at 0x7f73ad6d2ba8>,\n",
       " '200': <gensim.models.keyedvectors.Vocab at 0x7f73af6fd828>,\n",
       " '2000': <gensim.models.keyedvectors.Vocab at 0x7f73ad69e898>,\n",
       " '2018': <gensim.models.keyedvectors.Vocab at 0x7f73ad6aa0f0>,\n",
       " '3': <gensim.models.keyedvectors.Vocab at 0x7f73af6fd4e0>,\n",
       " '3-phosphate': <gensim.models.keyedvectors.Vocab at 0x7f73ad6ad160>,\n",
       " '3.7-4.2': <gensim.models.keyedvectors.Vocab at 0x7f73ad69ecf8>,\n",
       " '3000': <gensim.models.keyedvectors.Vocab at 0x7f73ad69e908>,\n",
       " '31': <gensim.models.keyedvectors.Vocab at 0x7f73af6e7080>,\n",
       " '4000': <gensim.models.keyedvectors.Vocab at 0x7f73ad69e940>,\n",
       " '405-nm': <gensim.models.keyedvectors.Vocab at 0x7f73ad6ad2b0>,\n",
       " '4T1': <gensim.models.keyedvectors.Vocab at 0x7f73ad6d2320>,\n",
       " '5': <gensim.models.keyedvectors.Vocab at 0x7f73af6fd518>,\n",
       " '5-ALA': <gensim.models.keyedvectors.Vocab at 0x7f73ad6aa470>,\n",
       " '5-Aminolevulinic': <gensim.models.keyedvectors.Vocab at 0x7f73b0fc5d68>,\n",
       " '5-aminolevulinic': <gensim.models.keyedvectors.Vocab at 0x7f73ad6a5828>,\n",
       " '50': <gensim.models.keyedvectors.Vocab at 0x7f73ad6c3f98>,\n",
       " '53': <gensim.models.keyedvectors.Vocab at 0x7f73b0f77940>,\n",
       " '6': <gensim.models.keyedvectors.Vocab at 0x7f73af709550>,\n",
       " '6.00': <gensim.models.keyedvectors.Vocab at 0x7f73ad69e860>,\n",
       " '60': <gensim.models.keyedvectors.Vocab at 0x7f73ad6c3eb8>,\n",
       " '63': <gensim.models.keyedvectors.Vocab at 0x7f73ad69ea20>,\n",
       " '630': <gensim.models.keyedvectors.Vocab at 0x7f73af6fd048>,\n",
       " '635': <gensim.models.keyedvectors.Vocab at 0x7f73ad6ad278>,\n",
       " '67': <gensim.models.keyedvectors.Vocab at 0x7f73ad6ad4a8>,\n",
       " '7': <gensim.models.keyedvectors.Vocab at 0x7f73af709240>,\n",
       " '7.00': <gensim.models.keyedvectors.Vocab at 0x7f73ad69e8d0>,\n",
       " '7.50': <gensim.models.keyedvectors.Vocab at 0x7f73ad69e828>,\n",
       " '71': <gensim.models.keyedvectors.Vocab at 0x7f73ad69ea58>,\n",
       " '75': <gensim.models.keyedvectors.Vocab at 0x7f73ad69ea90>,\n",
       " '77': <gensim.models.keyedvectors.Vocab at 0x7f73ad6ad668>,\n",
       " '8': <gensim.models.keyedvectors.Vocab at 0x7f73b0fd4278>,\n",
       " '8-10': <gensim.models.keyedvectors.Vocab at 0x7f73ad6ad7f0>,\n",
       " '80': <gensim.models.keyedvectors.Vocab at 0x7f73af6fd6a0>,\n",
       " '90': <gensim.models.keyedvectors.Vocab at 0x7f73ad69eda0>,\n",
       " '96': <gensim.models.keyedvectors.Vocab at 0x7f73ad69e320>,\n",
       " '9999:1-21': <gensim.models.keyedvectors.Vocab at 0x7f73ad6c35f8>,\n",
       " 'ABCB1': <gensim.models.keyedvectors.Vocab at 0x7f73ad6d2908>,\n",
       " 'AIMS': <gensim.models.keyedvectors.Vocab at 0x7f73ad6aa550>,\n",
       " 'ALA': <gensim.models.keyedvectors.Vocab at 0x7f73ad6a5a58>,\n",
       " 'ALA-PDT': <gensim.models.keyedvectors.Vocab at 0x7f73b0fc5eb8>,\n",
       " 'ALA.': <gensim.models.keyedvectors.Vocab at 0x7f73af6fd1d0>,\n",
       " 'AND': <gensim.models.keyedvectors.Vocab at 0x7f73ad6aa908>,\n",
       " 'ATP': <gensim.models.keyedvectors.Vocab at 0x7f73ad6d27b8>,\n",
       " 'Addition': <gensim.models.keyedvectors.Vocab at 0x7f73ad69eb00>,\n",
       " 'Additionally': <gensim.models.keyedvectors.Vocab at 0x7f73ad69c860>,\n",
       " 'After': <gensim.models.keyedvectors.Vocab at 0x7f73ad6c3e80>,\n",
       " 'All': <gensim.models.keyedvectors.Vocab at 0x7f73ad6aa198>,\n",
       " 'And': <gensim.models.keyedvectors.Vocab at 0x7f73af6fddd8>,\n",
       " 'Authors': <gensim.models.keyedvectors.Vocab at 0x7f73ad6c36d8>,\n",
       " 'B': <gensim.models.keyedvectors.Vocab at 0x7f73ad6d2898>,\n",
       " 'B.V.': <gensim.models.keyedvectors.Vocab at 0x7f73ad6aa160>,\n",
       " 'BACKGROUND': <gensim.models.keyedvectors.Vocab at 0x7f73ad6aa278>,\n",
       " 'BALB/c': <gensim.models.keyedvectors.Vocab at 0x7f73ad6d2240>,\n",
       " 'Before': <gensim.models.keyedvectors.Vocab at 0x7f73af709518>,\n",
       " 'Box-Behnken': <gensim.models.keyedvectors.Vocab at 0x7f73ad69e208>,\n",
       " 'COD': <gensim.models.keyedvectors.Vocab at 0x7f73ad69e630>,\n",
       " 'CONCLUSION': <gensim.models.keyedvectors.Vocab at 0x7f73af6fdeb8>,\n",
       " 'Conclusion': <gensim.models.keyedvectors.Vocab at 0x7f73ad6d2d68>,\n",
       " 'Copyright': <gensim.models.keyedvectors.Vocab at 0x7f73ad6aa080>,\n",
       " 'DEN': <gensim.models.keyedvectors.Vocab at 0x7f73ad69c278>,\n",
       " 'DEN-treated': <gensim.models.keyedvectors.Vocab at 0x7f73ad69c4a8>,\n",
       " 'DISCUSSION': <gensim.models.keyedvectors.Vocab at 0x7f73ad6aac18>,\n",
       " 'Depression': <gensim.models.keyedvectors.Vocab at 0x7f73af6ebef0>,\n",
       " 'Depressive': <gensim.models.keyedvectors.Vocab at 0x7f73ced64550>,\n",
       " 'Design': <gensim.models.keyedvectors.Vocab at 0x7f73ad69e240>,\n",
       " 'Despite': <gensim.models.keyedvectors.Vocab at 0x7f73ad6a7908>,\n",
       " 'Effluent': <gensim.models.keyedvectors.Vocab at 0x7f73af6e7c18>,\n",
       " 'Elsevier': <gensim.models.keyedvectors.Vocab at 0x7f73ad6aa128>,\n",
       " 'FECH': <gensim.models.keyedvectors.Vocab at 0x7f73ad6d2a20>,\n",
       " 'FGS': <gensim.models.keyedvectors.Vocab at 0x7f73ad6add68>,\n",
       " 'Finally': <gensim.models.keyedvectors.Vocab at 0x7f73ad6d2b00>,\n",
       " 'For': <gensim.models.keyedvectors.Vocab at 0x7f73af709588>,\n",
       " 'Formula': <gensim.models.keyedvectors.Vocab at 0x7f73af6ebba8>,\n",
       " 'From': <gensim.models.keyedvectors.Vocab at 0x7f73ad6aa940>,\n",
       " 'GAPDH': <gensim.models.keyedvectors.Vocab at 0x7f73ad6ad1d0>,\n",
       " 'Gleason': <gensim.models.keyedvectors.Vocab at 0x7f73ad6ad710>,\n",
       " 'HCC': <gensim.models.keyedvectors.Vocab at 0x7f73ad6a7828>,\n",
       " 'HFD': <gensim.models.keyedvectors.Vocab at 0x7f73ad69cc50>,\n",
       " 'HS/AI': <gensim.models.keyedvectors.Vocab at 0x7f73ad6a7128>,\n",
       " 'Hematoxylin/eosin': <gensim.models.keyedvectors.Vocab at 0x7f73ad69c668>,\n",
       " 'HepG2': <gensim.models.keyedvectors.Vocab at 0x7f73ad69c3c8>,\n",
       " 'Hepatocellular': <gensim.models.keyedvectors.Vocab at 0x7f73ad6a77b8>,\n",
       " 'Hidradenitis': <gensim.models.keyedvectors.Vocab at 0x7f73ad6a7080>,\n",
       " 'IWT': <gensim.models.keyedvectors.Vocab at 0x7f73af7092e8>,\n",
       " 'IX': <gensim.models.keyedvectors.Vocab at 0x7f73ad6aad30>,\n",
       " 'Immunohistochemical': <gensim.models.keyedvectors.Vocab at 0x7f73ad69c748>,\n",
       " 'In': <gensim.models.keyedvectors.Vocab at 0x7f73af6fd630>,\n",
       " 'Inc.': <gensim.models.keyedvectors.Vocab at 0x7f73ad6c36a0>,\n",
       " 'Increased': <gensim.models.keyedvectors.Vocab at 0x7f73ad6d25c0>,\n",
       " 'Inhibition': <gensim.models.keyedvectors.Vocab at 0x7f73ad6d2518>,\n",
       " 'Intravenous': <gensim.models.keyedvectors.Vocab at 0x7f73ad69c400>,\n",
       " 'J/cm2': <gensim.models.keyedvectors.Vocab at 0x7f73af6fd6d8>,\n",
       " 'KEYWORDS': <gensim.models.keyedvectors.Vocab at 0x7f73ad6aa240>,\n",
       " 'Lac-': <gensim.models.keyedvectors.Vocab at 0x7f73af6eba58>,\n",
       " 'Lasers': <gensim.models.keyedvectors.Vocab at 0x7f73ad6c3550>,\n",
       " 'Light': <gensim.models.keyedvectors.Vocab at 0x7f73af704f28>,\n",
       " 'Liver': <gensim.models.keyedvectors.Vocab at 0x7f73ad69c908>,\n",
       " 'MADRS': <gensim.models.keyedvectors.Vocab at 0x7f73af6eb668>,\n",
       " 'MADRS-score': <gensim.models.keyedvectors.Vocab at 0x7f73af6ebf60>,\n",
       " 'MATERIALS': <gensim.models.keyedvectors.Vocab at 0x7f73ad6aa8d0>,\n",
       " 'MEK': <gensim.models.keyedvectors.Vocab at 0x7f73ad6adef0>,\n",
       " 'METHODS': <gensim.models.keyedvectors.Vocab at 0x7f73af6fa128>,\n",
       " 'Med': <gensim.models.keyedvectors.Vocab at 0x7f73ad6c35c0>,\n",
       " 'Medicine': <gensim.models.keyedvectors.Vocab at 0x7f73ad6c3748>,\n",
       " 'Methods': <gensim.models.keyedvectors.Vocab at 0x7f73ad6adf98>,\n",
       " 'Montgomery-Åsberg': <gensim.models.keyedvectors.Vocab at 0x7f73af6ebcf8>,\n",
       " 'Moreover': <gensim.models.keyedvectors.Vocab at 0x7f73ad6a7a90>,\n",
       " 'Nevertheless': <gensim.models.keyedvectors.Vocab at 0x7f73ad6c3128>,\n",
       " 'Nine': <gensim.models.keyedvectors.Vocab at 0x7f73b0f77b70>,\n",
       " 'OBJECTIVE': <gensim.models.keyedvectors.Vocab at 0x7f73af6eb780>,\n",
       " 'One': <gensim.models.keyedvectors.Vocab at 0x7f73ad6c3b70>,\n",
       " 'Our': <gensim.models.keyedvectors.Vocab at 0x7f73ad6d2da0>,\n",
       " 'Overall': <gensim.models.keyedvectors.Vocab at 0x7f73ad6ad438>,\n",
       " 'P': <gensim.models.keyedvectors.Vocab at 0x7f73af6eb908>,\n",
       " 'PCR': <gensim.models.keyedvectors.Vocab at 0x7f73ad6ad0f0>,\n",
       " 'PCa': <gensim.models.keyedvectors.Vocab at 0x7f73ad6c3a20>,\n",
       " 'PCa-detection': <gensim.models.keyedvectors.Vocab at 0x7f73ad6ada58>,\n",
       " 'PDD-ALA': <gensim.models.keyedvectors.Vocab at 0x7f73ad6c3940>,\n",
       " 'PDL': <gensim.models.keyedvectors.Vocab at 0x7f73af6fd208>,\n",
       " 'PDT': <gensim.models.keyedvectors.Vocab at 0x7f73ad6c3438>,\n",
       " 'PLC': <gensim.models.keyedvectors.Vocab at 0x7f73af7090f0>,\n",
       " 'PP803': <gensim.models.keyedvectors.Vocab at 0x7f73ad6a5dd8>,\n",
       " 'PSA': <gensim.models.keyedvectors.Vocab at 0x7f73ad6c3dd8>,\n",
       " 'PWS': <gensim.models.keyedvectors.Vocab at 0x7f73b0fc5e80>,\n",
       " 'Patients': <gensim.models.keyedvectors.Vocab at 0x7f73ad6aa2b0>,\n",
       " 'Peptide': <gensim.models.keyedvectors.Vocab at 0x7f73ad69cb70>,\n",
       " 'Periodicals': <gensim.models.keyedvectors.Vocab at 0x7f73ad6c3668>,\n",
       " 'PpIX': <gensim.models.keyedvectors.Vocab at 0x7f73af6fd5c0>,\n",
       " 'Protoporphyrin': <gensim.models.keyedvectors.Vocab at 0x7f73ad6adac8>,\n",
       " 'Published': <gensim.models.keyedvectors.Vocab at 0x7f73ad6c3780>,\n",
       " 'R-Tf-D-LP4': <gensim.models.keyedvectors.Vocab at 0x7f73ad6a7cc0>,\n",
       " 'R-Tf-D-LP4-treated': <gensim.models.keyedvectors.Vocab at 0x7f73ad69c7f0>,\n",
       " 'R.': <gensim.models.keyedvectors.Vocab at 0x7f73af6e7b38>,\n",
       " 'RESULTS': <gensim.models.keyedvectors.Vocab at 0x7f73af6fd588>,\n",
       " 'RSW': <gensim.models.keyedvectors.Vocab at 0x7f73ad6a5cf8>,\n",
       " 'Ras': <gensim.models.keyedvectors.Vocab at 0x7f73ad6d2048>,\n",
       " 'Ras/MEK': <gensim.models.keyedvectors.Vocab at 0x7f73ad6d2e10>,\n",
       " 'Ras/mitogen-activated': <gensim.models.keyedvectors.Vocab at 0x7f73ad6ade48>,\n",
       " 'Rating': <gensim.models.keyedvectors.Vocab at 0x7f73af6eb898>,\n",
       " 'Recently': <gensim.models.keyedvectors.Vocab at 0x7f73ad6a7f98>,\n",
       " 'Results': <gensim.models.keyedvectors.Vocab at 0x7f73ad69e6a0>,\n",
       " 'Rhodopseudomonas': <gensim.models.keyedvectors.Vocab at 0x7f73ad6a5d30>,\n",
       " 'SD': <gensim.models.keyedvectors.Vocab at 0x7f73b0fd4160>,\n",
       " 'SFC': <gensim.models.keyedvectors.Vocab at 0x7f73b0f77be0>,\n",
       " 'Scale': <gensim.models.keyedvectors.Vocab at 0x7f73af6eb8d0>,\n",
       " 'Similar': <gensim.models.keyedvectors.Vocab at 0x7f73ad6d2cc0>,\n",
       " 'Sirius': <gensim.models.keyedvectors.Vocab at 0x7f73ad69c6a0>,\n",
       " 'So': <gensim.models.keyedvectors.Vocab at 0x7f73ad6a7400>,\n",
       " 'Surg': <gensim.models.keyedvectors.Vocab at 0x7f73ad6c3588>,\n",
       " 'Surgery': <gensim.models.keyedvectors.Vocab at 0x7f73ad6c3710>,\n",
       " 'TN114': <gensim.models.keyedvectors.Vocab at 0x7f73ad6a5da0>,\n",
       " 'TRUS': <gensim.models.keyedvectors.Vocab at 0x7f73ad6ad3c8>,\n",
       " 'TUNEL': <gensim.models.keyedvectors.Vocab at 0x7f73ad69c588>,\n",
       " 'The': <gensim.models.keyedvectors.Vocab at 0x7f73ad69e1d0>,\n",
       " 'Therefore': <gensim.models.keyedvectors.Vocab at 0x7f73ad6a7b70>,\n",
       " 'These': <gensim.models.keyedvectors.Vocab at 0x7f73af6fdef0>,\n",
       " 'They': <gensim.models.keyedvectors.Vocab at 0x7f73b9b82eb8>,\n",
       " 'This': <gensim.models.keyedvectors.Vocab at 0x7f73ad6a55c0>,\n",
       " 'Thus': <gensim.models.keyedvectors.Vocab at 0x7f73af6eba20>,\n",
       " 'To': <gensim.models.keyedvectors.Vocab at 0x7f73af6eb940>,\n",
       " 'VDAC1': <gensim.models.keyedvectors.Vocab at 0x7f73ad6a7eb8>,\n",
       " 'WV': <gensim.models.keyedvectors.Vocab at 0x7f73ad69e080>,\n",
       " 'We': <gensim.models.keyedvectors.Vocab at 0x7f73b0f77a20>,\n",
       " 'While': <gensim.models.keyedvectors.Vocab at 0x7f73af6fd7f0>,\n",
       " 'Wiley': <gensim.models.keyedvectors.Vocab at 0x7f73ad6c3630>,\n",
       " 'With': <gensim.models.keyedvectors.Vocab at 0x7f73af6fdba8>,\n",
       " 'abnormal': <gensim.models.keyedvectors.Vocab at 0x7f73ad6c3c18>,\n",
       " 'abscesses': <gensim.models.keyedvectors.Vocab at 0x7f73ad6a7320>,\n",
       " 'accelerometry': <gensim.models.keyedvectors.Vocab at 0x7f73af709668>,\n",
       " 'accompanied': <gensim.models.keyedvectors.Vocab at 0x7f73af6ebc88>,\n",
       " 'accumulates': <gensim.models.keyedvectors.Vocab at 0x7f73ad6adba8>,\n",
       " 'accumulation': <gensim.models.keyedvectors.Vocab at 0x7f73ad6aac88>,\n",
       " 'achieved': <gensim.models.keyedvectors.Vocab at 0x7f73ad69e978>,\n",
       " 'achievement': <gensim.models.keyedvectors.Vocab at 0x7f73af6eb748>,\n",
       " 'acid': <gensim.models.keyedvectors.Vocab at 0x7f73ad6a5978>,\n",
       " 'activity': <gensim.models.keyedvectors.Vocab at 0x7f73ad6d29b0>,\n",
       " 'addition': <gensim.models.keyedvectors.Vocab at 0x7f73ad6d2978>,\n",
       " 'additive': <gensim.models.keyedvectors.Vocab at 0x7f73af6e7c50>,\n",
       " 'administration': <gensim.models.keyedvectors.Vocab at 0x7f73ad6aad68>,\n",
       " 'agricultural': <gensim.models.keyedvectors.Vocab at 0x7f73ad6a5e80>,\n",
       " 'agriculture': <gensim.models.keyedvectors.Vocab at 0x7f73af6e7b00>,\n",
       " 'aim': <gensim.models.keyedvectors.Vocab at 0x7f73ad6aaf98>,\n",
       " 'aimed': <gensim.models.keyedvectors.Vocab at 0x7f73ad6a5710>,\n",
       " 'also': <gensim.models.keyedvectors.Vocab at 0x7f73ad6d2cf8>,\n",
       " 'alternative': <gensim.models.keyedvectors.Vocab at 0x7f73ad6a7ba8>,\n",
       " 'aminolevulinic': <gensim.models.keyedvectors.Vocab at 0x7f73ad6c37b8>,\n",
       " 'amount': <gensim.models.keyedvectors.Vocab at 0x7f73af6e78d0>,\n",
       " 'analysis': <gensim.models.keyedvectors.Vocab at 0x7f73ad6ad8d0>,\n",
       " 'analyzed': <gensim.models.keyedvectors.Vocab at 0x7f73ad6ad518>,\n",
       " 'and/or': <gensim.models.keyedvectors.Vocab at 0x7f73ad6c3cf8>,\n",
       " 'animal': <gensim.models.keyedvectors.Vocab at 0x7f73af6fa048>,\n",
       " 'anion': <gensim.models.keyedvectors.Vocab at 0x7f73ad6a7e48>,\n",
       " 'antigen': <gensim.models.keyedvectors.Vocab at 0x7f73ad6c3da0>,\n",
       " 'apoptosis': <gensim.models.keyedvectors.Vocab at 0x7f73ad69c080>,\n",
       " 'appeared': <gensim.models.keyedvectors.Vocab at 0x7f73af6fd940>,\n",
       " 'application': <gensim.models.keyedvectors.Vocab at 0x7f73af7022b0>,\n",
       " 'applications': <gensim.models.keyedvectors.Vocab at 0x7f73ad6a7048>,\n",
       " 'applying': <gensim.models.keyedvectors.Vocab at 0x7f73ad6a5f98>,\n",
       " 'approximately': <gensim.models.keyedvectors.Vocab at 0x7f73af6e7588>,\n",
       " 'area': <gensim.models.keyedvectors.Vocab at 0x7f73ad6ad550>,\n",
       " 'aspects': <gensim.models.keyedvectors.Vocab at 0x7f73ad6aaa58>,\n",
       " 'athymic': <gensim.models.keyedvectors.Vocab at 0x7f73ad6d2358>,\n",
       " 'attenuated': <gensim.models.keyedvectors.Vocab at 0x7f73af6ebd68>,\n",
       " 'ballooning': <gensim.models.keyedvectors.Vocab at 0x7f73ad69ca58>,\n",
       " 'bands': <gensim.models.keyedvectors.Vocab at 0x7f73ad6ad4e0>,\n",
       " 'barriers': <gensim.models.keyedvectors.Vocab at 0x7f73b0f77b38>,\n",
       " 'based': <gensim.models.keyedvectors.Vocab at 0x7f73ad6aa7b8>,\n",
       " 'basis': <gensim.models.keyedvectors.Vocab at 0x7f73af6e7160>,\n",
       " 'bearing': <gensim.models.keyedvectors.Vocab at 0x7f73ad6d22b0>,\n",
       " 'become': <gensim.models.keyedvectors.Vocab at 0x7f73ad6aa4a8>,\n",
       " 'better': <gensim.models.keyedvectors.Vocab at 0x7f73ad6c3198>,\n",
       " 'binding': <gensim.models.keyedvectors.Vocab at 0x7f73ad6d27f0>,\n",
       " 'biochemical': <gensim.models.keyedvectors.Vocab at 0x7f73ad6d2438>,\n",
       " 'biological': <gensim.models.keyedvectors.Vocab at 0x7f73ad6d24a8>,\n",
       " 'biopsy': <gensim.models.keyedvectors.Vocab at 0x7f73ad6c3860>,\n",
       " 'brain': <gensim.models.keyedvectors.Vocab at 0x7f73ad6aa860>,\n",
       " 'brainshift': <gensim.models.keyedvectors.Vocab at 0x7f73ad6aae80>,\n",
       " 'cancer': <gensim.models.keyedvectors.Vocab at 0x7f73ad6c39e8>,\n",
       " 'cancer-specific': <gensim.models.keyedvectors.Vocab at 0x7f73ad6adc88>,\n",
       " 'capillaries': <gensim.models.keyedvectors.Vocab at 0x7f73af6fdac8>,\n",
       " 'capillary': <gensim.models.keyedvectors.Vocab at 0x7f73af6fd3c8>,\n",
       " 'carbon': <gensim.models.keyedvectors.Vocab at 0x7f73af6eb6d8>,\n",
       " 'carcinoma': <gensim.models.keyedvectors.Vocab at 0x7f73ad6a77f0>,\n",
       " 'case': <gensim.models.keyedvectors.Vocab at 0x7f73ad6a75c0>,\n",
       " 'cassette': <gensim.models.keyedvectors.Vocab at 0x7f73ad6d2828>,\n",
       " 'cell': <gensim.models.keyedvectors.Vocab at 0x7f73ad6d21d0>,\n",
       " 'cell-penetrating': <gensim.models.keyedvectors.Vocab at 0x7f73ad6a7cf8>,\n",
       " 'cells': <gensim.models.keyedvectors.Vocab at 0x7f73ad6c3a58>,\n",
       " 'cellular': <gensim.models.keyedvectors.Vocab at 0x7f73ad6d26a0>,\n",
       " 'chain': <gensim.models.keyedvectors.Vocab at 0x7f73ad6ad080>,\n",
       " 'change': <gensim.models.keyedvectors.Vocab at 0x7f73af6fd7b8>,\n",
       " 'changes': <gensim.models.keyedvectors.Vocab at 0x7f73af6fd358>,\n",
       " 'channel': <gensim.models.keyedvectors.Vocab at 0x7f73ad6a7e80>,\n",
       " 'characterized': <gensim.models.keyedvectors.Vocab at 0x7f73ad6a72b0>,\n",
       " 'charred': <gensim.models.keyedvectors.Vocab at 0x7f73af6fdc18>,\n",
       " 'chemical': <gensim.models.keyedvectors.Vocab at 0x7f73ad69e588>,\n",
       " 'chronic': <gensim.models.keyedvectors.Vocab at 0x7f73ad6a7198>,\n",
       " 'citrate': <gensim.models.keyedvectors.Vocab at 0x7f73b0f77ba8>,\n",
       " 'clinical': <gensim.models.keyedvectors.Vocab at 0x7f73ad6aab38>,\n",
       " 'cocks': <gensim.models.keyedvectors.Vocab at 0x7f73af6fa2e8>,\n",
       " 'collected': <gensim.models.keyedvectors.Vocab at 0x7f73ad6c3f60>,\n",
       " 'comb': <gensim.models.keyedvectors.Vocab at 0x7f73af6fa0b8>,\n",
       " 'compared': <gensim.models.keyedvectors.Vocab at 0x7f73ad69ee48>,\n",
       " 'complete': <gensim.models.keyedvectors.Vocab at 0x7f73ad6aafd0>,\n",
       " 'concentration': <gensim.models.keyedvectors.Vocab at 0x7f73ad69eb38>,\n",
       " 'condition': <gensim.models.keyedvectors.Vocab at 0x7f73ad69e748>,\n",
       " 'conditions': <gensim.models.keyedvectors.Vocab at 0x7f73ad6a5f60>,\n",
       " 'conducted': <gensim.models.keyedvectors.Vocab at 0x7f73ad69e2b0>,\n",
       " 'connected': <gensim.models.keyedvectors.Vocab at 0x7f73ad6aaa90>,\n",
       " 'consumption': <gensim.models.keyedvectors.Vocab at 0x7f73af6eb828>,\n",
       " 'containing': <gensim.models.keyedvectors.Vocab at 0x7f73af6e7a90>,\n",
       " 'content': <gensim.models.keyedvectors.Vocab at 0x7f73ad69e198>,\n",
       " 'context': <gensim.models.keyedvectors.Vocab at 0x7f73ad6aabe0>,\n",
       " 'control': <gensim.models.keyedvectors.Vocab at 0x7f73af6fde10>,\n",
       " 'controls': <gensim.models.keyedvectors.Vocab at 0x7f73ad69ee80>,\n",
       " 'converting': <gensim.models.keyedvectors.Vocab at 0x7f73ad6d2ac8>,\n",
       " 'cost': <gensim.models.keyedvectors.Vocab at 0x7f73ad69eef0>,\n",
       " 'could': <gensim.models.keyedvectors.Vocab at 0x7f73ad69ef28>,\n",
       " 'crossover': <gensim.models.keyedvectors.Vocab at 0x7f73af743b00>,\n",
       " 'crust': <gensim.models.keyedvectors.Vocab at 0x7f73af6fdc50>,\n",
       " 'culture': <gensim.models.keyedvectors.Vocab at 0x7f73ad69e3c8>,\n",
       " 'curative': <gensim.models.keyedvectors.Vocab at 0x7f73af6ebe10>,\n",
       " 'current': <gensim.models.keyedvectors.Vocab at 0x7f73ad6aa668>,\n",
       " 'curve': <gensim.models.keyedvectors.Vocab at 0x7f73ad6ad588>,\n",
       " 'cycling': <gensim.models.keyedvectors.Vocab at 0x7f73af709048>,\n",
       " 'damage': <gensim.models.keyedvectors.Vocab at 0x7f73af6fdd30>,\n",
       " 'days': <gensim.models.keyedvectors.Vocab at 0x7f73af709080>,\n",
       " 'decreased': <gensim.models.keyedvectors.Vocab at 0x7f73af6ebda0>,\n",
       " 'decreasing': <gensim.models.keyedvectors.Vocab at 0x7f73ad6d2748>,\n",
       " 'degeneration': <gensim.models.keyedvectors.Vocab at 0x7f73ad69ca90>,\n",
       " 'degrees': <gensim.models.keyedvectors.Vocab at 0x7f73af6fdcf8>,\n",
       " 'dehydrogenase': <gensim.models.keyedvectors.Vocab at 0x7f73ad6ad198>,\n",
       " 'demand': <gensim.models.keyedvectors.Vocab at 0x7f73ad69e5f8>,\n",
       " 'demonstrate': <gensim.models.keyedvectors.Vocab at 0x7f73ad6addd8>,\n",
       " 'demonstrated': <gensim.models.keyedvectors.Vocab at 0x7f73ad6a7fd0>,\n",
       " 'demonstrates': <gensim.models.keyedvectors.Vocab at 0x7f73ad6d2dd8>,\n",
       " 'density': <gensim.models.keyedvectors.Vocab at 0x7f73af6fd198>,\n",
       " 'depression': <gensim.models.keyedvectors.Vocab at 0x7f73af6eba90>,\n",
       " 'depressive': <gensim.models.keyedvectors.Vocab at 0x7f73b0f77dd8>,\n",
       " 'derived': <gensim.models.keyedvectors.Vocab at 0x7f73ad6a7d68>,\n",
       " 'dermal': <gensim.models.keyedvectors.Vocab at 0x7f73af6fdd68>,\n",
       " 'design': <gensim.models.keyedvectors.Vocab at 0x7f73af743ac8>,\n",
       " 'despite': <gensim.models.keyedvectors.Vocab at 0x7f73ad6c3160>,\n",
       " 'destroy': <gensim.models.keyedvectors.Vocab at 0x7f73ad6adda0>,\n",
       " 'detected': <gensim.models.keyedvectors.Vocab at 0x7f73af6fd2e8>,\n",
       " 'detection': <gensim.models.keyedvectors.Vocab at 0x7f73ad6c3978>,\n",
       " 'development': <gensim.models.keyedvectors.Vocab at 0x7f73ad69cba8>,\n",
       " 'diagnosis': <gensim.models.keyedvectors.Vocab at 0x7f73ad6c3908>,\n",
       " 'diet-induced': <gensim.models.keyedvectors.Vocab at 0x7f73ad69c358>,\n",
       " 'diethylnitrosamine': <gensim.models.keyedvectors.Vocab at 0x7f73ad69c240>,\n",
       " 'different': <gensim.models.keyedvectors.Vocab at 0x7f73af6fd160>,\n",
       " 'difficulty': <gensim.models.keyedvectors.Vocab at 0x7f73b0f77f98>,\n",
       " 'digital': <gensim.models.keyedvectors.Vocab at 0x7f73ad6c3c50>,\n",
       " 'dioxide': <gensim.models.keyedvectors.Vocab at 0x7f73af6eb9e8>,\n",
       " 'disappearance': <gensim.models.keyedvectors.Vocab at 0x7f73ad6a7710>,\n",
       " 'disease': <gensim.models.keyedvectors.Vocab at 0x7f73ad6a7550>,\n",
       " 'disorder': <gensim.models.keyedvectors.Vocab at 0x7f73b0fd4240>,\n",
       " 'distinguish': <gensim.models.keyedvectors.Vocab at 0x7f73ad6adcc0>,\n",
       " 'distribution': <gensim.models.keyedvectors.Vocab at 0x7f73af6fd240>,\n",
       " 'divided': <gensim.models.keyedvectors.Vocab at 0x7f73af6fa198>,\n",
       " 'dose-dependent': <gensim.models.keyedvectors.Vocab at 0x7f73ad69c518>,\n",
       " 'double-blind': <gensim.models.keyedvectors.Vocab at 0x7f73af743f28>,\n",
       " 'downstream': <gensim.models.keyedvectors.Vocab at 0x7f73ad6d2080>,\n",
       " 'due': <gensim.models.keyedvectors.Vocab at 0x7f73b0f77e48>,\n",
       " 'easily': <gensim.models.keyedvectors.Vocab at 0x7f73ad6c30b8>,\n",
       " 'economical': <gensim.models.keyedvectors.Vocab at 0x7f73ad69e0b8>,\n",
       " 'effect': <gensim.models.keyedvectors.Vocab at 0x7f73af6eb710>,\n",
       " 'effective': <gensim.models.keyedvectors.Vocab at 0x7f73ad6a7f28>,\n",
       " 'effects': <gensim.models.keyedvectors.Vocab at 0x7f73b0f77a90>,\n",
       " 'efficacy': <gensim.models.keyedvectors.Vocab at 0x7f73ad6a74e0>,\n",
       " 'efflux': <gensim.models.keyedvectors.Vocab at 0x7f73ad6d2710>,\n",
       " 'eighty-nine': <gensim.models.keyedvectors.Vocab at 0x7f73ad6c3be0>,\n",
       " 'either': <gensim.models.keyedvectors.Vocab at 0x7f73af6fdf98>,\n",
       " 'elements': <gensim.models.keyedvectors.Vocab at 0x7f73ad6d20b8>,\n",
       " 'elevated': <gensim.models.keyedvectors.Vocab at 0x7f73ad6c3d30>,\n",
       " 'eliminated': <gensim.models.keyedvectors.Vocab at 0x7f73ad69cb00>,\n",
       " 'elimination': <gensim.models.keyedvectors.Vocab at 0x7f73ad69c550>,\n",
       " 'enables': <gensim.models.keyedvectors.Vocab at 0x7f73ad6aada0>,\n",
       " 'endogenous': <gensim.models.keyedvectors.Vocab at 0x7f73ad6adb00>,\n",
       " 'enhance': <gensim.models.keyedvectors.Vocab at 0x7f73ad69e160>,\n",
       " 'enhances': <gensim.models.keyedvectors.Vocab at 0x7f73ad6d2e48>,\n",
       " 'enhancing': <gensim.models.keyedvectors.Vocab at 0x7f73ad6c3080>,\n",
       " 'enzyme': <gensim.models.keyedvectors.Vocab at 0x7f73ad6d2a58>,\n",
       " 'epidermal': <gensim.models.keyedvectors.Vocab at 0x7f73af6fd978>,\n",
       " 'equipment': <gensim.models.keyedvectors.Vocab at 0x7f73ad6aaf28>,\n",
       " 'erosion': <gensim.models.keyedvectors.Vocab at 0x7f73af6fd898>,\n",
       " 'evaluate': <gensim.models.keyedvectors.Vocab at 0x7f73ad6c3898>,\n",
       " 'even': <gensim.models.keyedvectors.Vocab at 0x7f73af6fdc88>,\n",
       " 'examination': <gensim.models.keyedvectors.Vocab at 0x7f73ad6c3cc0>,\n",
       " 'examined': <gensim.models.keyedvectors.Vocab at 0x7f73b0f77ac8>,\n",
       " 'excitation': <gensim.models.keyedvectors.Vocab at 0x7f73ad6ad320>,\n",
       " 'exercise': <gensim.models.keyedvectors.Vocab at 0x7f73b0f77c88>,\n",
       " 'expensive': <gensim.models.keyedvectors.Vocab at 0x7f73ad6aaef0>,\n",
       " 'experience': <gensim.models.keyedvectors.Vocab at 0x7f73b0f77f28>,\n",
       " 'experiment': <gensim.models.keyedvectors.Vocab at 0x7f73ad69e278>,\n",
       " 'experiments': <gensim.models.keyedvectors.Vocab at 0x7f73ad6d24e0>,\n",
       " 'exploited': <gensim.models.keyedvectors.Vocab at 0x7f73ad6c3390>,\n",
       " 'expression': <gensim.models.keyedvectors.Vocab at 0x7f73ad6d2780>,\n",
       " 'extracellular': <gensim.models.keyedvectors.Vocab at 0x7f73ad69e7b8>,\n",
       " 'factors': <gensim.models.keyedvectors.Vocab at 0x7f73ad6a79e8>,\n",
       " 'far': <gensim.models.keyedvectors.Vocab at 0x7f73ad6a7438>,\n",
       " 'fast': <gensim.models.keyedvectors.Vocab at 0x7f73af6eb7f0>,\n",
       " 'fatty': <gensim.models.keyedvectors.Vocab at 0x7f73ad69c9e8>,\n",
       " 'feasibility': <gensim.models.keyedvectors.Vocab at 0x7f73ad6c38d0>,\n",
       " 'ferrochelatase': <gensim.models.keyedvectors.Vocab at 0x7f73ad6d29e8>,\n",
       " 'ferrous': <gensim.models.keyedvectors.Vocab at 0x7f73b0f779e8>,\n",
       " 'fibrosis': <gensim.models.keyedvectors.Vocab at 0x7f73ad69cac8>,\n",
       " 'fibrotic': <gensim.models.keyedvectors.Vocab at 0x7f73ad69c6d8>,\n",
       " 'findings': <gensim.models.keyedvectors.Vocab at 0x7f73ad6ad908>,\n",
       " 'first': <gensim.models.keyedvectors.Vocab at 0x7f73af7096a0>,\n",
       " 'fluorescence': <gensim.models.keyedvectors.Vocab at 0x7f73af6fd278>,\n",
       " 'fluorescence-guided': <gensim.models.keyedvectors.Vocab at 0x7f73ad6add30>,\n",
       " 'fluorescent': <gensim.models.keyedvectors.Vocab at 0x7f73ad6aacc0>,\n",
       " 'follicles': <gensim.models.keyedvectors.Vocab at 0x7f73ad6a7278>,\n",
       " 'formation': <gensim.models.keyedvectors.Vocab at 0x7f73ad69c710>,\n",
       " 'found': <gensim.models.keyedvectors.Vocab at 0x7f73ad69e7f0>,\n",
       " 'future': <gensim.models.keyedvectors.Vocab at 0x7f73ad6aa748>,\n",
       " 'generated': <gensim.models.keyedvectors.Vocab at 0x7f73af6fd5f8>,\n",
       " 'given': <gensim.models.keyedvectors.Vocab at 0x7f73ad69efd0>,\n",
       " 'glioma': <gensim.models.keyedvectors.Vocab at 0x7f73ad6c37f0>,\n",
       " 'gliomas': <gensim.models.keyedvectors.Vocab at 0x7f73ad6aa358>,\n",
       " 'glyceraldehyde': <gensim.models.keyedvectors.Vocab at 0x7f73ad6ad128>,\n",
       " 'graded': <gensim.models.keyedvectors.Vocab at 0x7f73af709278>,\n",
       " 'group': <gensim.models.keyedvectors.Vocab at 0x7f73ad69ef98>,\n",
       " 'groups': <gensim.models.keyedvectors.Vocab at 0x7f73af6fa208>,\n",
       " 'growth': <gensim.models.keyedvectors.Vocab at 0x7f73ad69c0f0>,\n",
       " 'guidance': <gensim.models.keyedvectors.Vocab at 0x7f73ad6aae10>,\n",
       " 'guided': <gensim.models.keyedvectors.Vocab at 0x7f73ad6aa7f0>,\n",
       " 'h': <gensim.models.keyedvectors.Vocab at 0x7f73ad69e358>,\n",
       " 'hair': <gensim.models.keyedvectors.Vocab at 0x7f73ad6a7240>,\n",
       " 'healing': <gensim.models.keyedvectors.Vocab at 0x7f73ad6a76d8>,\n",
       " 'heme': <gensim.models.keyedvectors.Vocab at 0x7f73ad6adc18>,\n",
       " 'high': <gensim.models.keyedvectors.Vocab at 0x7f73ad69e9e8>,\n",
       " 'high-fat': <gensim.models.keyedvectors.Vocab at 0x7f73ad69c320>,\n",
       " 'higher': <gensim.models.keyedvectors.Vocab at 0x7f73ad6ad6d8>,\n",
       " 'highly': <gensim.models.keyedvectors.Vocab at 0x7f73ad6a7ef0>,\n",
       " 'histopathology': <gensim.models.keyedvectors.Vocab at 0x7f73af6fd748>,\n",
       " 'home-based': <gensim.models.keyedvectors.Vocab at 0x7f73b0f77cf8>,\n",
       " 'human': <gensim.models.keyedvectors.Vocab at 0x7f73ad6d2198>,\n",
       " 'hundred': <gensim.models.keyedvectors.Vocab at 0x7f73ad6c3ba8>,\n",
       " 'identified': <gensim.models.keyedvectors.Vocab at 0x7f73ad6d2630>,\n",
       " 'identify': <gensim.models.keyedvectors.Vocab at 0x7f73ad6adfd0>,\n",
       " 'identifying': <gensim.models.keyedvectors.Vocab at 0x7f73ad6a7978>,\n",
       " 'immunohistochemistry': <gensim.models.keyedvectors.Vocab at 0x7f73af6fda20>,\n",
       " 'improve': <gensim.models.keyedvectors.Vocab at 0x7f73af6ebb00>,\n",
       " 'improves': <gensim.models.keyedvectors.Vocab at 0x7f73ad6c30f0>,\n",
       " 'impulse': <gensim.models.keyedvectors.Vocab at 0x7f73af6ebcc0>,\n",
       " 'incidence': <gensim.models.keyedvectors.Vocab at 0x7f73ad6a7a20>,\n",
       " 'included': <gensim.models.keyedvectors.Vocab at 0x7f73ad69c208>,\n",
       " 'increase': <gensim.models.keyedvectors.Vocab at 0x7f73af6fdbe0>,\n",
       " 'increased': <gensim.models.keyedvectors.Vocab at 0x7f73ad69ecc0>,\n",
       " 'increases': <gensim.models.keyedvectors.Vocab at 0x7f73af6eb978>,\n",
       " 'increasing': <gensim.models.keyedvectors.Vocab at 0x7f73ad6a7a58>,\n",
       " 'incubation': <gensim.models.keyedvectors.Vocab at 0x7f73ad6ad208>,\n",
       " 'independent': <gensim.models.keyedvectors.Vocab at 0x7f73ad6d2668>,\n",
       " 'induced': <gensim.models.keyedvectors.Vocab at 0x7f73ad69c048>,\n",
       " 'inevitably': <gensim.models.keyedvectors.Vocab at 0x7f73ad6c31d0>,\n",
       " 'inexpensive': <gensim.models.keyedvectors.Vocab at 0x7f73ad6a57f0>,\n",
       " 'inflammation': <gensim.models.keyedvectors.Vocab at 0x7f73ad69ca20>,\n",
       " 'inflammatory': <gensim.models.keyedvectors.Vocab at 0x7f73ad6a7208>,\n",
       " 'inhibited': <gensim.models.keyedvectors.Vocab at 0x7f73ad69c0b8>,\n",
       " 'inhibition': <gensim.models.keyedvectors.Vocab at 0x7f73ad6d2160>,\n",
       " 'inhibitors': <gensim.models.keyedvectors.Vocab at 0x7f73ad6d2128>,\n",
       " 'initial': <gensim.models.keyedvectors.Vocab at 0x7f73ad69e470>,\n",
       " 'injected': <gensim.models.keyedvectors.Vocab at 0x7f73ad6d2c18>,\n",
       " 'injection': <gensim.models.keyedvectors.Vocab at 0x7f73ad69c438>,\n",
       " 'innovative': <gensim.models.keyedvectors.Vocab at 0x7f73ad6a7be0>,\n",
       " 'inoculum': <gensim.models.keyedvectors.Vocab at 0x7f73ad69e4e0>,\n",
       " 'intake': <gensim.models.keyedvectors.Vocab at 0x7f73af7091d0>,\n",
       " 'intends': <gensim.models.keyedvectors.Vocab at 0x7f73ad6aa5c0>,\n",
       " 'intensify': <gensim.models.keyedvectors.Vocab at 0x7f73ad6d2fd0>,\n",
       " 'intensity': <gensim.models.keyedvectors.Vocab at 0x7f73af709198>,\n",
       " 'intermittently': <gensim.models.keyedvectors.Vocab at 0x7f73af709390>,\n",
       " 'interstitial': <gensim.models.keyedvectors.Vocab at 0x7f73ad6c3400>,\n",
       " 'interval': <gensim.models.keyedvectors.Vocab at 0x7f73af709358>,\n",
       " 'intra-operative': <gensim.models.keyedvectors.Vocab at 0x7f73ad6aadd8>,\n",
       " 'intriguing': <gensim.models.keyedvectors.Vocab at 0x7f73ad6c34a8>,\n",
       " 'inversa': <gensim.models.keyedvectors.Vocab at 0x7f73ad6a70f0>,\n",
       " 'investigating': <gensim.models.keyedvectors.Vocab at 0x7f73ad6a5ef0>,\n",
       " 'involved': <gensim.models.keyedvectors.Vocab at 0x7f73ad6d20f0>,\n",
       " 'irradiation': <gensim.models.keyedvectors.Vocab at 0x7f73af6fd128>,\n",
       " 'kinase': <gensim.models.keyedvectors.Vocab at 0x7f73ad6adeb8>,\n",
       " 'lactate': <gensim.models.keyedvectors.Vocab at 0x7f73af7095c0>,\n",
       " 'latex': <gensim.models.keyedvectors.Vocab at 0x7f73ad6a5c18>,\n",
       " 'lesions': <gensim.models.keyedvectors.Vocab at 0x7f73ad6a7668>,\n",
       " 'lethal': <gensim.models.keyedvectors.Vocab at 0x7f73ad6a7898>,\n",
       " 'level': <gensim.models.keyedvectors.Vocab at 0x7f73ad6c3e10>,\n",
       " 'levulinic': <gensim.models.keyedvectors.Vocab at 0x7f73ad69e128>,\n",
       " 'light': <gensim.models.keyedvectors.Vocab at 0x7f73af6fd0f0>,\n",
       " 'limitations': <gensim.models.keyedvectors.Vocab at 0x7f73ad6aa710>,\n",
       " 'limited': <gensim.models.keyedvectors.Vocab at 0x7f73ad6a7b38>,\n",
       " 'lines': <gensim.models.keyedvectors.Vocab at 0x7f73ad6d2208>,\n",
       " 'little': <gensim.models.keyedvectors.Vocab at 0x7f73af6e7cc0>,\n",
       " 'liver': <gensim.models.keyedvectors.Vocab at 0x7f73ad6a7f60>,\n",
       " 'liver-derived': <gensim.models.keyedvectors.Vocab at 0x7f73ad69c198>,\n",
       " 'livers': <gensim.models.keyedvectors.Vocab at 0x7f73ad69c828>,\n",
       " 'log': <gensim.models.keyedvectors.Vocab at 0x7f73ad69eba8>,\n",
       " 'loss': <gensim.models.keyedvectors.Vocab at 0x7f73af6fd9e8>,\n",
       " 'low': <gensim.models.keyedvectors.Vocab at 0x7f73af6fd668>,\n",
       " 'mL': <gensim.models.keyedvectors.Vocab at 0x7f73ad6c3ef0>,\n",
       " 'macrophage': <gensim.models.keyedvectors.Vocab at 0x7f73ad69c898>,\n",
       " 'major': <gensim.models.keyedvectors.Vocab at 0x7f73b0fd4198>,\n",
       " 'male': <gensim.models.keyedvectors.Vocab at 0x7f73af6fa0f0>,\n",
       " 'malignant': <gensim.models.keyedvectors.Vocab at 0x7f73ad6aa320>,\n",
       " 'mammary': <gensim.models.keyedvectors.Vocab at 0x7f73ad6d22e8>,\n",
       " 'management': <gensim.models.keyedvectors.Vocab at 0x7f73ad6c3518>,\n",
       " 'manner': <gensim.models.keyedvectors.Vocab at 0x7f73ad6d2eb8>,\n",
       " 'many': <gensim.models.keyedvectors.Vocab at 0x7f73ad6aaa20>,\n",
       " 'markers': <gensim.models.keyedvectors.Vocab at 0x7f73ad6ad940>,\n",
       " 'massage': <gensim.models.keyedvectors.Vocab at 0x7f73ad6c3b00>,\n",
       " 'may': <gensim.models.keyedvectors.Vocab at 0x7f73ad6d2f28>,\n",
       " 'measured': <gensim.models.keyedvectors.Vocab at 0x7f73af709630>,\n",
       " 'mechanisms': <gensim.models.keyedvectors.Vocab at 0x7f73ad6d23c8>,\n",
       " 'member': <gensim.models.keyedvectors.Vocab at 0x7f73ad6d28d0>,\n",
       " 'metabolically': <gensim.models.keyedvectors.Vocab at 0x7f73ad69c2e8>,\n",
       " 'method': <gensim.models.keyedvectors.Vocab at 0x7f73ad6ada90>,\n",
       " 'methods': <gensim.models.keyedvectors.Vocab at 0x7f73ad6aa048>,\n",
       " 'mg/L': <gensim.models.keyedvectors.Vocab at 0x7f73ad69e668>,\n",
       " 'mice': <gensim.models.keyedvectors.Vocab at 0x7f73ad6d2278>,\n",
       " 'microaerobic-light': <gensim.models.keyedvectors.Vocab at 0x7f73ad69e2e8>,\n",
       " 'mid': <gensim.models.keyedvectors.Vocab at 0x7f73ad69eb70>,\n",
       " 'middle-aged': <gensim.models.keyedvectors.Vocab at 0x7f73b0f77f60>,\n",
       " 'mitochondrial': <gensim.models.keyedvectors.Vocab at 0x7f73ad6a7da0>,\n",
       " 'mixed': <gensim.models.keyedvectors.Vocab at 0x7f73ad69e390>,\n",
       " 'model': <gensim.models.keyedvectors.Vocab at 0x7f73af6fa1d0>,\n",
       " 'models': <gensim.models.keyedvectors.Vocab at 0x7f73ad69c160>,\n",
       " 'modulate': <gensim.models.keyedvectors.Vocab at 0x7f73ad6adf60>,\n",
       " 'molecular': <gensim.models.keyedvectors.Vocab at 0x7f73ad6d2470>,\n",
       " 'molecule': <gensim.models.keyedvectors.Vocab at 0x7f73ad6adb38>,\n",
       " 'morphological': <gensim.models.keyedvectors.Vocab at 0x7f73af6fd320>,\n",
       " 'morphology': <gensim.models.keyedvectors.Vocab at 0x7f73af6fd710>,\n",
       " 'mouse': <gensim.models.keyedvectors.Vocab at 0x7f73ad69c128>,\n",
       " 'multifunctional': <gensim.models.keyedvectors.Vocab at 0x7f73ad6a7dd8>,\n",
       " 'multivariate': <gensim.models.keyedvectors.Vocab at 0x7f73ad6ad898>,\n",
       " 'necrosis': <gensim.models.keyedvectors.Vocab at 0x7f73af6fd9b0>,\n",
       " 'negative': <gensim.models.keyedvectors.Vocab at 0x7f73ad6ad860>,\n",
       " 'neurosurgical': <gensim.models.keyedvectors.Vocab at 0x7f73ad6aaf60>,\n",
       " 'new': <gensim.models.keyedvectors.Vocab at 0x7f73ad6aa4e0>,\n",
       " 'nine': <gensim.models.keyedvectors.Vocab at 0x7f73ad6a7748>,\n",
       " 'nm': <gensim.models.keyedvectors.Vocab at 0x7f73af6fd080>,\n",
       " 'non-sterile': <gensim.models.keyedvectors.Vocab at 0x7f73ad6a5be0>,\n",
       " 'nonalcoholic': <gensim.models.keyedvectors.Vocab at 0x7f73ad69cbe0>,\n",
       " 'normal': <gensim.models.keyedvectors.Vocab at 0x7f73ad6adcf8>,\n",
       " 'nude': <gensim.models.keyedvectors.Vocab at 0x7f73ad6d2390>,\n",
       " 'number': <gensim.models.keyedvectors.Vocab at 0x7f73af6fda90>,\n",
       " 'numbers': <gensim.models.keyedvectors.Vocab at 0x7f73ad69c780>,\n",
       " 'observed': <gensim.models.keyedvectors.Vocab at 0x7f73af6fd400>,\n",
       " 'obvious': <gensim.models.keyedvectors.Vocab at 0x7f73af6fd780>,\n",
       " 'offer': <gensim.models.keyedvectors.Vocab at 0x7f73ad6c3470>,\n",
       " 'often': <gensim.models.keyedvectors.Vocab at 0x7f73b0f77eb8>,\n",
       " 'oncogenic': <gensim.models.keyedvectors.Vocab at 0x7f73ad6ade10>,\n",
       " 'one': <gensim.models.keyedvectors.Vocab at 0x7f73ad6d2550>,\n",
       " 'optimal': <gensim.models.keyedvectors.Vocab at 0x7f73ad69e710>,\n",
       " 'optimized': <gensim.models.keyedvectors.Vocab at 0x7f73af6e7ac8>,\n",
       " 'optimum': <gensim.models.keyedvectors.Vocab at 0x7f73ad6a5f28>,\n",
       " 'option': <gensim.models.keyedvectors.Vocab at 0x7f73ad6c34e0>,\n",
       " 'options': <gensim.models.keyedvectors.Vocab at 0x7f73ad6a7b00>,\n",
       " 'order': <gensim.models.keyedvectors.Vocab at 0x7f73ad6c3240>,\n",
       " 'organs': <gensim.models.keyedvectors.Vocab at 0x7f73ad6d2c88>,\n",
       " 'outpatients': <gensim.models.keyedvectors.Vocab at 0x7f73b0f77fd0>,\n",
       " 'overview': <gensim.models.keyedvectors.Vocab at 0x7f73ad6aa630>,\n",
       " 'oxygen': <gensim.models.keyedvectors.Vocab at 0x7f73ad69e5c0>,\n",
       " 'p': <gensim.models.keyedvectors.Vocab at 0x7f73af6ebb38>,\n",
       " 'pH': <gensim.models.keyedvectors.Vocab at 0x7f73ad69e4a8>,\n",
       " 'palustris': <gensim.models.keyedvectors.Vocab at 0x7f73ad6a5d68>,\n",
       " 'partial': <gensim.models.keyedvectors.Vocab at 0x7f73af6fdb00>,\n",
       " 'participated': <gensim.models.keyedvectors.Vocab at 0x7f73af743fd0>,\n",
       " 'pathological': <gensim.models.keyedvectors.Vocab at 0x7f73af6fd390>,\n",
       " 'pathology': <gensim.models.keyedvectors.Vocab at 0x7f73ad69c978>,\n",
       " 'pathway': <gensim.models.keyedvectors.Vocab at 0x7f73ad6adf28>,\n",
       " 'patients': <gensim.models.keyedvectors.Vocab at 0x7f73b0f77d68>,\n",
       " 'peer': <gensim.models.keyedvectors.Vocab at 0x7f73ad6aa978>,\n",
       " 'peptide': <gensim.models.keyedvectors.Vocab at 0x7f73ad6a7d30>,\n",
       " 'peptide-induced': <gensim.models.keyedvectors.Vocab at 0x7f73ad69c630>,\n",
       " 'performing': <gensim.models.keyedvectors.Vocab at 0x7f73b0f77978>,\n",
       " 'period': <gensim.models.keyedvectors.Vocab at 0x7f73af709208>,\n",
       " 'perspectives': <gensim.models.keyedvectors.Vocab at 0x7f73ad6aa780>,\n",
       " 'phase': <gensim.models.keyedvectors.Vocab at 0x7f73ad69ebe0>,\n",
       " 'photodynamic': <gensim.models.keyedvectors.Vocab at 0x7f73b0fc5240>,\n",
       " 'phototoxic': <gensim.models.keyedvectors.Vocab at 0x7f73ad6c32e8>,\n",
       " 'physical': <gensim.models.keyedvectors.Vocab at 0x7f73b0f77e10>,\n",
       " 'pilot': <gensim.models.keyedvectors.Vocab at 0x7f73af743f98>,\n",
       " 'placebo': <gensim.models.keyedvectors.Vocab at 0x7f73af709400>,\n",
       " 'placebo-controlled': <gensim.models.keyedvectors.Vocab at 0x7f73af743a90>,\n",
       " 'plasma': <gensim.models.keyedvectors.Vocab at 0x7f73af6eb860>,\n",
       " 'plump': <gensim.models.keyedvectors.Vocab at 0x7f73af6fde80>,\n",
       " 'polymerase': <gensim.models.keyedvectors.Vocab at 0x7f73ad6ad048>,\n",
       " 'poor': <gensim.models.keyedvectors.Vocab at 0x7f73ad6aa390>,\n",
       " 'port': <gensim.models.keyedvectors.Vocab at 0x7f73b0fc5f60>,\n",
       " 'positive': <gensim.models.keyedvectors.Vocab at 0x7f73ad6ad9b0>,\n",
       " 'possibility': <gensim.models.keyedvectors.Vocab at 0x7f73ad6a5e10>,\n",
       " 'post-operative': <gensim.models.keyedvectors.Vocab at 0x7f73ad6c33c8>,\n",
       " 'potential': <gensim.models.keyedvectors.Vocab at 0x7f73ad6aab00>,\n",
       " 'precursor': <gensim.models.keyedvectors.Vocab at 0x7f73ad6adc50>,\n",
       " 'predict': <gensim.models.keyedvectors.Vocab at 0x7f73ad6ada20>,\n",
       " 'prediction': <gensim.models.keyedvectors.Vocab at 0x7f73ad6ad978>,\n",
       " 'presence': <gensim.models.keyedvectors.Vocab at 0x7f73ad69c8d0>,\n",
       " 'presently': <gensim.models.keyedvectors.Vocab at 0x7f73ad6c3358>,\n",
       " 'produce': <gensim.models.keyedvectors.Vocab at 0x7f73ad6a57b8>,\n",
       " 'producer': <gensim.models.keyedvectors.Vocab at 0x7f73af6e7908>,\n",
       " 'production': <gensim.models.keyedvectors.Vocab at 0x7f73ad69eeb8>,\n",
       " 'prognosis': <gensim.models.keyedvectors.Vocab at 0x7f73ad6aa3c8>,\n",
       " 'progress': <gensim.models.keyedvectors.Vocab at 0x7f73ad6a7940>,\n",
       " 'prolong': <gensim.models.keyedvectors.Vocab at 0x7f73ad6c3278>,\n",
       " 'promoted': <gensim.models.keyedvectors.Vocab at 0x7f73ad6d2588>,\n",
       " 'properties': <gensim.models.keyedvectors.Vocab at 0x7f73ad6c3320>,\n",
       " 'prospective': <gensim.models.keyedvectors.Vocab at 0x7f73ad6a7470>,\n",
       " 'prostate': <gensim.models.keyedvectors.Vocab at 0x7f73ad6c39b0>,\n",
       " 'prostate-specific': <gensim.models.keyedvectors.Vocab at 0x7f73ad6c3d68>,\n",
       " 'protein': <gensim.models.keyedvectors.Vocab at 0x7f73ad6ade80>,\n",
       " 'protoporphyrin': <gensim.models.keyedvectors.Vocab at 0x7f73ad6aacf8>,\n",
       " 'provide': <gensim.models.keyedvectors.Vocab at 0x7f73ad6aa5f8>,\n",
       " 'proving': <gensim.models.keyedvectors.Vocab at 0x7f73ad6a74a8>,\n",
       " 'psychological': <gensim.models.keyedvectors.Vocab at 0x7f73b0f77c18>,\n",
       " 'publications': <gensim.models.keyedvectors.Vocab at 0x7f73ad6aa9e8>,\n",
       " 'purposes': <gensim.models.keyedvectors.Vocab at 0x7f73ad6a5eb8>,\n",
       " 'put': <gensim.models.keyedvectors.Vocab at 0x7f73ad6aaba8>,\n",
       " 'randomized': <gensim.models.keyedvectors.Vocab at 0x7f73af743f60>,\n",
       " 'randomly': <gensim.models.keyedvectors.Vocab at 0x7f73af6fa240>,\n",
       " 'rate': <gensim.models.keyedvectors.Vocab at 0x7f73af6ebc18>,\n",
       " 'reaction': <gensim.models.keyedvectors.Vocab at 0x7f73ad6ad0b8>,\n",
       " 'recruited': <gensim.models.keyedvectors.Vocab at 0x7f73ad6c3e48>,\n",
       " 'rectal': <gensim.models.keyedvectors.Vocab at 0x7f73ad6c3c88>,\n",
       " 'recur': <gensim.models.keyedvectors.Vocab at 0x7f73ad6c3208>,\n",
       " 'recurrent': <gensim.models.keyedvectors.Vocab at 0x7f73ad6a72e8>,\n",
       " 'red': <gensim.models.keyedvectors.Vocab at 0x7f73af6fd0b8>,\n",
       " 'red-light': <gensim.models.keyedvectors.Vocab at 0x7f73b0fc5cc0>,\n",
       " 'reduced': <gensim.models.keyedvectors.Vocab at 0x7f73ad69ef60>,\n",
       " 'reduction': <gensim.models.keyedvectors.Vocab at 0x7f73ad69e9b0>,\n",
       " 'reflected': <gensim.models.keyedvectors.Vocab at 0x7f73ad69c9b0>,\n",
       " 'regulation': <gensim.models.keyedvectors.Vocab at 0x7f73ad6d2400>,\n",
       " 'relevance': <gensim.models.keyedvectors.Vocab at 0x7f73ad6aab70>,\n",
       " 'report': <gensim.models.keyedvectors.Vocab at 0x7f73ad6a7588>,\n",
       " 'require': <gensim.models.keyedvectors.Vocab at 0x7f73ad6aaeb8>,\n",
       " 'required': <gensim.models.keyedvectors.Vocab at 0x7f73ad6a7c88>,\n",
       " 'resection': <gensim.models.keyedvectors.Vocab at 0x7f73ad6c3048>,\n",
       " 'reserved': <gensim.models.keyedvectors.Vocab at 0x7f73ad6aa208>,\n",
       " 'resolution': <gensim.models.keyedvectors.Vocab at 0x7f73ad6a75f8>,\n",
       " 'respectively': <gensim.models.keyedvectors.Vocab at 0x7f73ad69eac8>,\n",
       " 'responsible': <gensim.models.keyedvectors.Vocab at 0x7f73ad6d2a90>,\n",
       " 'rest': <gensim.models.keyedvectors.Vocab at 0x7f73ad6c3fd0>,\n",
       " 'resulted': <gensim.models.keyedvectors.Vocab at 0x7f73ad69c4e0>,\n",
       " 'results': <gensim.models.keyedvectors.Vocab at 0x7f73af6fdf28>,\n",
       " 'review': <gensim.models.keyedvectors.Vocab at 0x7f73ad6aa588>,\n",
       " 'reviewed': <gensim.models.keyedvectors.Vocab at 0x7f73ad6aa9b0>,\n",
       " 'rights': <gensim.models.keyedvectors.Vocab at 0x7f73ad6aa1d0>,\n",
       " 'risk': <gensim.models.keyedvectors.Vocab at 0x7f73ad6a79b0>,\n",
       " 'rubber': <gensim.models.keyedvectors.Vocab at 0x7f73ad6a5c50>,\n",
       " 'ruddy': <gensim.models.keyedvectors.Vocab at 0x7f73af6fde48>,\n",
       " 'safety': <gensim.models.keyedvectors.Vocab at 0x7f73ad6a7518>,\n",
       " 'samples': <gensim.models.keyedvectors.Vocab at 0x7f73ad6c3ac8>,\n",
       " 'scab': <gensim.models.keyedvectors.Vocab at 0x7f73af6fd908>,\n",
       " 'scar': <gensim.models.keyedvectors.Vocab at 0x7f73af6fdcc0>,\n",
       " 'scars': <gensim.models.keyedvectors.Vocab at 0x7f73ad6a73c8>,\n",
       " 'scores': <gensim.models.keyedvectors.Vocab at 0x7f73ad6ad748>,\n",
       " 'sections': <gensim.models.keyedvectors.Vocab at 0x7f73ad69c5f8>,\n",
       " 'see': <gensim.models.keyedvectors.Vocab at 0x7f73af6ebb70>,\n",
       " 'selected': <gensim.models.keyedvectors.Vocab at 0x7f73af6e7b70>,\n",
       " 'selectively': <gensim.models.keyedvectors.Vocab at 0x7f73ad6adb70>,\n",
       " 'selectivity': <gensim.models.keyedvectors.Vocab at 0x7f73ad6aac50>,\n",
       " 'sensitivity': <gensim.models.keyedvectors.Vocab at 0x7f73ad6ad5c0>,\n",
       " 'set': <gensim.models.keyedvectors.Vocab at 0x7f73ad69e780>,\n",
       " 'severe': <gensim.models.keyedvectors.Vocab at 0x7f73af6fd860>,\n",
       " 'severity': <gensim.models.keyedvectors.Vocab at 0x7f73af6eb550>,\n",
       " 'sheet': <gensim.models.keyedvectors.Vocab at 0x7f73ad6a5c88>,\n",
       " 'showed': <gensim.models.keyedvectors.Vocab at 0x7f73ad69e6d8>,\n",
       " 'side': <gensim.models.keyedvectors.Vocab at 0x7f73af6fdb70>,\n",
       " 'significance': <gensim.models.keyedvectors.Vocab at 0x7f73ad6aa6d8>,\n",
       " 'significant': <gensim.models.keyedvectors.Vocab at 0x7f73af6fda58>,\n",
       " 'significantly': <gensim.models.keyedvectors.Vocab at 0x7f73ad69ec88>,\n",
       " 'sinus': <gensim.models.keyedvectors.Vocab at 0x7f73ad6a7358>,\n",
       " 'size': <gensim.models.keyedvectors.Vocab at 0x7f73ad69e518>,\n",
       " 'skin': <gensim.models.keyedvectors.Vocab at 0x7f73ad6a7630>,\n",
       " 'sodium': <gensim.models.keyedvectors.Vocab at 0x7f73b0f779b0>,\n",
       " 'source': <gensim.models.keyedvectors.Vocab at 0x7f73ad69e0f0>,\n",
       " 'specificity': <gensim.models.keyedvectors.Vocab at 0x7f73ad6ad5f8>,\n",
       " 'staining': <gensim.models.keyedvectors.Vocab at 0x7f73ad69c5c0>,\n",
       " 'stains': <gensim.models.keyedvectors.Vocab at 0x7f73b0fc5fd0>,\n",
       " 'standard': <gensim.models.keyedvectors.Vocab at 0x7f73ad6aa518>,\n",
       " 'status': <gensim.models.keyedvectors.Vocab at 0x7f73ad6aa6a0>,\n",
       " 'steatohepatic': <gensim.models.keyedvectors.Vocab at 0x7f73ad69c940>,\n",
       " 'steatohepatitis-hepatocellular': <gensim.models.keyedvectors.Vocab at 0x7f73ad69cc18>,\n",
       " 'stereotactic': <gensim.models.keyedvectors.Vocab at 0x7f73ad6c3828>,\n",
       " 'strains': <gensim.models.keyedvectors.Vocab at 0x7f73af6e7c88>,\n",
       " 'strategies': <gensim.models.keyedvectors.Vocab at 0x7f73ad6a7c18>,\n",
       " 'strategy': <gensim.models.keyedvectors.Vocab at 0x7f73ad6d2f98>,\n",
       " 'study': <gensim.models.keyedvectors.Vocab at 0x7f73ad6a5668>,\n",
       " 'subcutaneous': <gensim.models.keyedvectors.Vocab at 0x7f73ad69c390>,\n",
       " 'subfamily': <gensim.models.keyedvectors.Vocab at 0x7f73ad6d2860>,\n",
       " 'subjects': <gensim.models.keyedvectors.Vocab at 0x7f73af709128>,\n",
       " 'suffering': <gensim.models.keyedvectors.Vocab at 0x7f73ad6aa2e8>,\n",
       " 'suggest': <gensim.models.keyedvectors.Vocab at 0x7f73af6fdf60>,\n",
       " 'suitable': <gensim.models.keyedvectors.Vocab at 0x7f73af6fdfd0>,\n",
       " 'supplement': <gensim.models.keyedvectors.Vocab at 0x7f73af709320>,\n",
       " 'supplementation': <gensim.models.keyedvectors.Vocab at 0x7f73b0f77e80>,\n",
       " 'suppressing': <gensim.models.keyedvectors.Vocab at 0x7f73ad6d2ef0>,\n",
       " 'suppurativa/acne': <gensim.models.keyedvectors.Vocab at 0x7f73ad6a70b8>,\n",
       " 'suppurative': <gensim.models.keyedvectors.Vocab at 0x7f73ad6a71d0>,\n",
       " 'surgery': <gensim.models.keyedvectors.Vocab at 0x7f73ad6aa828>,\n",
       " 'surgical': <gensim.models.keyedvectors.Vocab at 0x7f73ad6aa400>,\n",
       " 'survival': <gensim.models.keyedvectors.Vocab at 0x7f73ad6c32b0>,\n",
       " 'suspected': <gensim.models.keyedvectors.Vocab at 0x7f73ad6c3b38>,\n",
       " 'symptoms': <gensim.models.keyedvectors.Vocab at 0x7f73af6eb7b8>,\n",
       " 'systemic': <gensim.models.keyedvectors.Vocab at 0x7f73af6f82e8>,\n",
       " 'test': <gensim.models.keyedvectors.Vocab at 0x7f73af7094a8>,\n",
       " 'text': <gensim.models.keyedvectors.Vocab at 0x7f73af6eb9b0>,\n",
       " 'therapeutic': <gensim.models.keyedvectors.Vocab at 0x7f73ad6a7ac8>,\n",
       " 'therapy': <gensim.models.keyedvectors.Vocab at 0x7f73b0fc5e10>,\n",
       " 'thick': <gensim.models.keyedvectors.Vocab at 0x7f73af6fd8d0>,\n",
       " 'thin': <gensim.models.keyedvectors.Vocab at 0x7f73af6fdb38>,\n",
       " 'third': <gensim.models.keyedvectors.Vocab at 0x7f73ad6a7860>,\n",
       " 'three': <gensim.models.keyedvectors.Vocab at 0x7f73ad69c1d0>,\n",
       " 'time': <gensim.models.keyedvectors.Vocab at 0x7f73af6ebc50>,\n",
       " 'times': <gensim.models.keyedvectors.Vocab at 0x7f73ad69ed30>,\n",
       " 'tissue': <gensim.models.keyedvectors.Vocab at 0x7f73af6fd2b0>,\n",
       " 'tissues': <gensim.models.keyedvectors.Vocab at 0x7f73af6fdda0>,\n",
       " 'topic': <gensim.models.keyedvectors.Vocab at 0x7f73ad6aaac8>,\n",
       " 'topical': <gensim.models.keyedvectors.Vocab at 0x7f73af6f81d0>,\n",
       " 'tracts': <gensim.models.keyedvectors.Vocab at 0x7f73ad6a7390>,\n",
       " 'training': <gensim.models.keyedvectors.Vocab at 0x7f73b0f77ef0>,\n",
       " 'transporter': <gensim.models.keyedvectors.Vocab at 0x7f73ad6d2940>,\n",
       " 'transrectal': <gensim.models.keyedvectors.Vocab at 0x7f73ad6ad358>,\n",
       " 'treated': <gensim.models.keyedvectors.Vocab at 0x7f73ad6adbe0>,\n",
       " 'treating': <gensim.models.keyedvectors.Vocab at 0x7f73af6e7978>,\n",
       " 'treatment': <gensim.models.keyedvectors.Vocab at 0x7f73af6fd438>,\n",
       " 'treatments': <gensim.models.keyedvectors.Vocab at 0x7f73ad6a7780>,\n",
       " 'trial': <gensim.models.keyedvectors.Vocab at 0x7f73af7095f8>,\n",
       " 'trials': <gensim.models.keyedvectors.Vocab at 0x7f73af7094e0>,\n",
       " 'tumor': <gensim.models.keyedvectors.Vocab at 0x7f73ad6aa898>,\n",
       " 'tumor-carrying': <gensim.models.keyedvectors.Vocab at 0x7f73ad69c470>,\n",
       " 'tumors': <gensim.models.keyedvectors.Vocab at 0x7f73ad6aa438>,\n",
       " 'two': <gensim.models.keyedvectors.Vocab at 0x7f73af7092b0>,\n",
       " 'type': <gensim.models.keyedvectors.Vocab at 0x7f73ad6a7160>,\n",
       " 'types': <gensim.models.keyedvectors.Vocab at 0x7f73ad6d25f8>,\n",
       " 'ulcer': <gensim.models.keyedvectors.Vocab at 0x7f73ad6a76a0>,\n",
       " 'ultrasound': <gensim.models.keyedvectors.Vocab at 0x7f73ad6ad390>,\n",
       " 'underlie': <gensim.models.keyedvectors.Vocab at 0x7f73ad6d26d8>,\n",
       " 'underwent': <gensim.models.keyedvectors.Vocab at 0x7f73af709160>,\n",
       " 'unimpaired': <gensim.models.keyedvectors.Vocab at 0x7f73ad6aae48>,\n",
       " 'upon': <gensim.models.keyedvectors.Vocab at 0x7f73ad69cb38>,\n",
       " 'urgently': <gensim.models.keyedvectors.Vocab at 0x7f73ad6a7c50>,\n",
       " 'urine': <gensim.models.keyedvectors.Vocab at 0x7f73ad6c3a90>,\n",
       " 'use': <gensim.models.keyedvectors.Vocab at 0x7f73ad6a5e48>,\n",
       " 'used': <gensim.models.keyedvectors.Vocab at 0x7f73af6e7048>,\n",
       " 'useful': <gensim.models.keyedvectors.Vocab at 0x7f73ad6ad9e8>,\n",
       " 'using': <gensim.models.keyedvectors.Vocab at 0x7f73af6e79e8>,\n",
       " 'v/v': <gensim.models.keyedvectors.Vocab at 0x7f73ad69e550>,\n",
       " 'value': <gensim.models.keyedvectors.Vocab at 0x7f73ad6ad6a0>,\n",
       " 'varying': <gensim.models.keyedvectors.Vocab at 0x7f73ad69e438>,\n",
       " 'viable': <gensim.models.keyedvectors.Vocab at 0x7f73ad6d2f60>,\n",
       " 'vinegar': <gensim.models.keyedvectors.Vocab at 0x7f73ad69e048>,\n",
       " 'vitro': <gensim.models.keyedvectors.Vocab at 0x7f73ad6d2e80>,\n",
       " 'vivo': <gensim.models.keyedvectors.Vocab at 0x7f73ad6d2b38>,\n",
       " 'voided': <gensim.models.keyedvectors.Vocab at 0x7f73ad6c3f28>,\n",
       " 'voltage-dependent': <gensim.models.keyedvectors.Vocab at 0x7f73ad6a7e10>,\n",
       " 'vs.': <gensim.models.keyedvectors.Vocab at 0x7f73af6eb588>,\n",
       " 'walking': <gensim.models.keyedvectors.Vocab at 0x7f73b0f77a58>,\n",
       " 'washout': <gensim.models.keyedvectors.Vocab at 0x7f73af709470>,\n",
       " 'wastewater': <gensim.models.keyedvectors.Vocab at 0x7f73ad6a5cc0>,\n",
       " 'wavelength': <gensim.models.keyedvectors.Vocab at 0x7f73ad6ad2e8>,\n",
       " 'wine': <gensim.models.keyedvectors.Vocab at 0x7f73b0fc5c50>,\n",
       " 'within': <gensim.models.keyedvectors.Vocab at 0x7f73ad6d2be0>,\n",
       " 'without': <gensim.models.keyedvectors.Vocab at 0x7f73ad6d2c50>,\n",
       " 'women': <gensim.models.keyedvectors.Vocab at 0x7f73b0f77b00>,\n",
       " 'wood': <gensim.models.keyedvectors.Vocab at 0x7f73ad6a5fd0>,\n",
       " 'workload': <gensim.models.keyedvectors.Vocab at 0x7f73af6ebdd8>,\n",
       " 'worldwide': <gensim.models.keyedvectors.Vocab at 0x7f73ad6a78d0>,\n",
       " 'xenograft': <gensim.models.keyedvectors.Vocab at 0x7f73ad6d2d30>,\n",
       " 'xenografts': <gensim.models.keyedvectors.Vocab at 0x7f73ad69cc88>,\n",
       " 'yr': <gensim.models.keyedvectors.Vocab at 0x7f73b0fd4048>,\n",
       " '©': <gensim.models.keyedvectors.Vocab at 0x7f73ad6aa0b8>,\n",
       " '±': <gensim.models.keyedvectors.Vocab at 0x7f73b0f61208>,\n",
       " '×': <gensim.models.keyedvectors.Vocab at 0x7f73af6ebd30>,\n",
       " 'α-SMA-expressing': <gensim.models.keyedvectors.Vocab at 0x7f73ad69c7b8>,\n",
       " 'μM': <gensim.models.keyedvectors.Vocab at 0x7f73ad69ee10>}"
      ]
     },
     "execution_count": 40,
     "metadata": {
      "tags": []
     },
     "output_type": "execute_result"
    }
   ],
   "source": [
    "model.wv.vocab"
   ]
  },
  {
   "cell_type": "markdown",
   "metadata": {
    "colab_type": "text",
    "id": "tx8cN1F9XAmq"
   },
   "source": [
    "## word2vec を使ってみる"
   ]
  },
  {
   "cell_type": "code",
   "execution_count": 0,
   "metadata": {
    "colab": {
     "autoexec": {
      "startup": false,
      "wait_interval": 0
     }
    },
    "colab_type": "code",
    "id": "GVMGeALXPnBB"
   },
   "outputs": [],
   "source": []
  },
  {
   "cell_type": "code",
   "execution_count": 0,
   "metadata": {
    "colab": {
     "autoexec": {
      "startup": false,
      "wait_interval": 0
     }
    },
    "colab_type": "code",
    "id": "SoUS0o_rXkMY"
   },
   "outputs": [],
   "source": [
    "from gensim.models.word2vec import Word2Vec"
   ]
  },
  {
   "cell_type": "code",
   "execution_count": 0,
   "metadata": {
    "colab": {
     "autoexec": {
      "startup": false,
      "wait_interval": 0
     }
    },
    "colab_type": "code",
    "id": "Ha4LnMvYOaq-"
   },
   "outputs": [],
   "source": [
    "sentences = []\n",
    "for txt in docs:\n",
    "  _s = sent_tokenize(txt)\n",
    "  for t in _s:\n",
    "    #s = word_tokenize(t)\n",
    "    s = [ w for w in word_tokenize(t) if w not in stop_words ]\n",
    "    sentences.append(s)\n"
   ]
  },
  {
   "cell_type": "code",
   "execution_count": 0,
   "metadata": {
    "colab": {
     "autoexec": {
      "startup": false,
      "wait_interval": 0
     }
    },
    "colab_type": "code",
    "id": "ObxfFUPZXZRd"
   },
   "outputs": [],
   "source": [
    "model_w2v = Word2Vec(sentences, size=128, min_count=1, window=5, seed=123, hs=1)"
   ]
  },
  {
   "cell_type": "code",
   "execution_count": 55,
   "metadata": {
    "colab": {
     "autoexec": {
      "startup": false,
      "wait_interval": 0
     },
     "base_uri": "https://localhost:8080/",
     "height": 193
    },
    "colab_type": "code",
    "executionInfo": {
     "elapsed": 594,
     "status": "ok",
     "timestamp": 1526365769231,
     "user": {
      "displayName": "大下健史",
      "photoUrl": "https://lh3.googleusercontent.com/a/default-user=s128",
      "userId": "114806679545096700120"
     },
     "user_tz": -540
    },
    "id": "Q3wa7y6_YN6b",
    "outputId": "9b88f32c-d4cd-433d-d2d8-7c348d7bed1a"
   },
   "outputs": [
    {
     "data": {
      "text/plain": [
       "[('suspected', 0.28630536794662476),\n",
       " ('biopsy', 0.28629907965660095),\n",
       " ('lines', 0.28521400690078735),\n",
       " ('human', 0.2640345096588135),\n",
       " ('vs.', 0.2587617039680481),\n",
       " ('peptide', 0.2488127052783966),\n",
       " ('level', 0.2438606470823288),\n",
       " ('higher', 0.23779696226119995),\n",
       " ('application', 0.2368009239435196),\n",
       " ('wavelength', 0.23492580652236938)]"
      ]
     },
     "execution_count": 55,
     "metadata": {
      "tags": []
     },
     "output_type": "execute_result"
    }
   ],
   "source": [
    "model_w2v.wv.most_similar(\"ALA\")"
   ]
  },
  {
   "cell_type": "code",
   "execution_count": 56,
   "metadata": {
    "colab": {
     "autoexec": {
      "startup": false,
      "wait_interval": 0
     },
     "base_uri": "https://localhost:8080/",
     "height": 418
    },
    "colab_type": "code",
    "executionInfo": {
     "elapsed": 561,
     "status": "error",
     "timestamp": 1526365774234,
     "user": {
      "displayName": "大下健史",
      "photoUrl": "https://lh3.googleusercontent.com/a/default-user=s128",
      "userId": "114806679545096700120"
     },
     "user_tz": -540
    },
    "id": "viTjg-LKQEfS",
    "outputId": "553f14bc-fe18-4d6a-fbf7-2a02bd212ec6"
   },
   "outputs": [
    {
     "ename": "KeyError",
     "evalue": "ignored",
     "output_type": "error",
     "traceback": [
      "\u001b[0;31m---------------------------------------------------------------------------\u001b[0m",
      "\u001b[0;31mKeyError\u001b[0m                                  Traceback (most recent call last)",
      "\u001b[0;32m<ipython-input-56-db9d304970e4>\u001b[0m in \u001b[0;36m<module>\u001b[0;34m()\u001b[0m\n\u001b[0;32m----> 1\u001b[0;31m \u001b[0mmodel_w2v\u001b[0m\u001b[0;34m.\u001b[0m\u001b[0mwv\u001b[0m\u001b[0;34m.\u001b[0m\u001b[0mmost_similar\u001b[0m\u001b[0;34m(\u001b[0m\u001b[0;34m\"ala\"\u001b[0m\u001b[0;34m)\u001b[0m\u001b[0;34m\u001b[0m\u001b[0m\n\u001b[0m",
      "\u001b[0;32m/usr/local/lib/python3.6/dist-packages/gensim/models/keyedvectors.py\u001b[0m in \u001b[0;36mmost_similar\u001b[0;34m(self, positive, negative, topn, restrict_vocab, indexer)\u001b[0m\n\u001b[1;32m    363\u001b[0m                 \u001b[0mmean\u001b[0m\u001b[0;34m.\u001b[0m\u001b[0mappend\u001b[0m\u001b[0;34m(\u001b[0m\u001b[0mweight\u001b[0m \u001b[0;34m*\u001b[0m \u001b[0mword\u001b[0m\u001b[0;34m)\u001b[0m\u001b[0;34m\u001b[0m\u001b[0m\n\u001b[1;32m    364\u001b[0m             \u001b[0;32melse\u001b[0m\u001b[0;34m:\u001b[0m\u001b[0;34m\u001b[0m\u001b[0m\n\u001b[0;32m--> 365\u001b[0;31m                 \u001b[0mmean\u001b[0m\u001b[0;34m.\u001b[0m\u001b[0mappend\u001b[0m\u001b[0;34m(\u001b[0m\u001b[0mweight\u001b[0m \u001b[0;34m*\u001b[0m \u001b[0mself\u001b[0m\u001b[0;34m.\u001b[0m\u001b[0mword_vec\u001b[0m\u001b[0;34m(\u001b[0m\u001b[0mword\u001b[0m\u001b[0;34m,\u001b[0m \u001b[0muse_norm\u001b[0m\u001b[0;34m=\u001b[0m\u001b[0;32mTrue\u001b[0m\u001b[0;34m)\u001b[0m\u001b[0;34m)\u001b[0m\u001b[0;34m\u001b[0m\u001b[0m\n\u001b[0m\u001b[1;32m    366\u001b[0m                 \u001b[0;32mif\u001b[0m \u001b[0mword\u001b[0m \u001b[0;32min\u001b[0m \u001b[0mself\u001b[0m\u001b[0;34m.\u001b[0m\u001b[0mvocab\u001b[0m\u001b[0;34m:\u001b[0m\u001b[0;34m\u001b[0m\u001b[0m\n\u001b[1;32m    367\u001b[0m                     \u001b[0mall_words\u001b[0m\u001b[0;34m.\u001b[0m\u001b[0madd\u001b[0m\u001b[0;34m(\u001b[0m\u001b[0mself\u001b[0m\u001b[0;34m.\u001b[0m\u001b[0mvocab\u001b[0m\u001b[0;34m[\u001b[0m\u001b[0mword\u001b[0m\u001b[0;34m]\u001b[0m\u001b[0;34m.\u001b[0m\u001b[0mindex\u001b[0m\u001b[0;34m)\u001b[0m\u001b[0;34m\u001b[0m\u001b[0m\n",
      "\u001b[0;32m/usr/local/lib/python3.6/dist-packages/gensim/models/keyedvectors.py\u001b[0m in \u001b[0;36mword_vec\u001b[0;34m(self, word, use_norm)\u001b[0m\n\u001b[1;32m    272\u001b[0m             \u001b[0;32mreturn\u001b[0m \u001b[0mresult\u001b[0m\u001b[0;34m\u001b[0m\u001b[0m\n\u001b[1;32m    273\u001b[0m         \u001b[0;32melse\u001b[0m\u001b[0;34m:\u001b[0m\u001b[0;34m\u001b[0m\u001b[0m\n\u001b[0;32m--> 274\u001b[0;31m             \u001b[0;32mraise\u001b[0m \u001b[0mKeyError\u001b[0m\u001b[0;34m(\u001b[0m\u001b[0;34m\"word '%s' not in vocabulary\"\u001b[0m \u001b[0;34m%\u001b[0m \u001b[0mword\u001b[0m\u001b[0;34m)\u001b[0m\u001b[0;34m\u001b[0m\u001b[0m\n\u001b[0m\u001b[1;32m    275\u001b[0m \u001b[0;34m\u001b[0m\u001b[0m\n\u001b[1;32m    276\u001b[0m     \u001b[0;32mdef\u001b[0m \u001b[0mget_vector\u001b[0m\u001b[0;34m(\u001b[0m\u001b[0mself\u001b[0m\u001b[0;34m,\u001b[0m \u001b[0mword\u001b[0m\u001b[0;34m)\u001b[0m\u001b[0;34m:\u001b[0m\u001b[0;34m\u001b[0m\u001b[0m\n",
      "\u001b[0;31mKeyError\u001b[0m: \"word 'ala' not in vocabulary\""
     ]
    }
   ],
   "source": [
    "model_w2v.wv.most_similar(\"ala\")"
   ]
  },
  {
   "cell_type": "code",
   "execution_count": 15,
   "metadata": {
    "colab": {
     "autoexec": {
      "startup": false,
      "wait_interval": 0
     },
     "base_uri": "https://localhost:8080/",
     "height": 653
    },
    "colab_type": "code",
    "executionInfo": {
     "elapsed": 527,
     "status": "ok",
     "timestamp": 1526260944891,
     "user": {
      "displayName": "大下健史",
      "photoUrl": "https://lh3.googleusercontent.com/a/default-user=s128",
      "userId": "114806679545096700120"
     },
     "user_tz": -540
    },
    "id": "dWxWWayUYWIU",
    "outputId": "66bb50dd-38cf-4549-eabb-b8099be18413"
   },
   "outputs": [
    {
     "name": "stderr",
     "output_type": "stream",
     "text": [
      "/usr/local/lib/python3.6/dist-packages/ipykernel_launcher.py:1: DeprecationWarning: Call to deprecated `__getitem__` (Method will be removed in 4.0.0, use self.wv.__getitem__() instead).\n",
      "  \"\"\"Entry point for launching an IPython kernel.\n"
     ]
    },
    {
     "data": {
      "text/plain": [
       "array([-1.0134105e-03,  1.5339239e-03,  3.0394134e-03,  3.0444609e-03,\n",
       "       -1.8634626e-03,  2.9404338e-03, -1.8008141e-05,  1.8967274e-03,\n",
       "        2.0861051e-03, -4.2824866e-03,  1.9788083e-03,  1.9208768e-03,\n",
       "       -2.5379770e-03, -7.8319927e-04,  4.1189599e-03,  1.7217455e-03,\n",
       "       -1.4654294e-03,  1.1347667e-03, -9.9318917e-04,  2.7858843e-03,\n",
       "        2.4060844e-03,  3.2390305e-03,  2.2179233e-03,  2.4751094e-03,\n",
       "       -2.7930886e-03, -3.7656780e-03,  7.4222061e-04, -7.9163886e-04,\n",
       "       -1.8915015e-04, -3.5814825e-03,  8.4188185e-04,  1.2060381e-03,\n",
       "       -1.2045883e-03, -1.5391675e-03,  1.8062076e-03,  2.3510484e-03,\n",
       "       -1.2720677e-03, -2.0894783e-03,  1.4451373e-03,  2.5015362e-03,\n",
       "        1.2227798e-04, -9.6634019e-04, -3.6166755e-03, -1.0987178e-03,\n",
       "        2.5019897e-03,  5.2798068e-04,  3.8835863e-03, -1.5351627e-03,\n",
       "        7.0581335e-04, -4.0057403e-04,  2.5099393e-03, -3.4252438e-03,\n",
       "        2.7231991e-03,  2.8576157e-03,  5.5128412e-04,  2.3675526e-03,\n",
       "       -4.0327320e-03,  2.4897552e-03,  5.8915681e-04,  3.3639034e-03,\n",
       "       -1.1406986e-03, -4.0647471e-03, -2.7881734e-04, -2.0684679e-03,\n",
       "       -7.9000631e-04,  2.4537507e-03, -3.7086208e-03,  3.5503791e-03,\n",
       "        3.6286127e-03, -3.6497782e-03, -1.9894906e-03,  6.3273247e-04,\n",
       "        1.1428142e-03, -3.0971603e-03,  3.4210996e-03,  2.3234370e-03,\n",
       "        2.5579876e-03, -2.7640485e-03,  2.5692827e-03, -1.5479008e-03,\n",
       "       -3.4175178e-03,  2.8857528e-03,  1.2749629e-03, -3.5623596e-03,\n",
       "       -3.2110822e-03,  1.1821006e-03,  1.1717608e-04, -2.8549486e-03,\n",
       "       -7.9088489e-04,  1.4075409e-03,  1.1635139e-03, -3.1602711e-03,\n",
       "        5.1113754e-04, -1.2350476e-03,  2.8956605e-03, -3.1940346e-03,\n",
       "       -3.0897243e-03,  9.9944579e-04, -3.6691122e-03,  1.6041861e-03,\n",
       "        3.5810804e-03,  2.4525770e-03, -1.7714964e-03, -1.1281123e-03,\n",
       "       -7.5520365e-04,  3.2024770e-03, -3.3164094e-03, -2.1589980e-03,\n",
       "        2.2760492e-03, -3.1219443e-04,  9.6465141e-04, -4.2218901e-03,\n",
       "        3.8910646e-05, -3.0989244e-03, -3.8038432e-03, -2.5188597e-03,\n",
       "        9.9484494e-04, -3.2654521e-04,  7.8160188e-04, -3.4809634e-03,\n",
       "        2.4076404e-04,  2.2797924e-03,  8.7991892e-04, -1.5475904e-03,\n",
       "        3.9207973e-04,  1.9183212e-03, -3.1361894e-03, -3.3347933e-03],\n",
       "      dtype=float32)"
      ]
     },
     "execution_count": 15,
     "metadata": {
      "tags": []
     },
     "output_type": "execute_result"
    }
   ],
   "source": [
    "model_w2v[\"ALA\"]"
   ]
  },
  {
   "cell_type": "code",
   "execution_count": 16,
   "metadata": {
    "colab": {
     "autoexec": {
      "startup": false,
      "wait_interval": 0
     },
     "base_uri": "https://localhost:8080/",
     "height": 105
    },
    "colab_type": "code",
    "executionInfo": {
     "elapsed": 1604,
     "status": "ok",
     "timestamp": 1526260948950,
     "user": {
      "displayName": "大下健史",
      "photoUrl": "https://lh3.googleusercontent.com/a/default-user=s128",
      "userId": "114806679545096700120"
     },
     "user_tz": -540
    },
    "id": "D0oDOqsTYd0C",
    "outputId": "b71d56de-a7d7-46ed-8796-5f04fc48f089"
   },
   "outputs": [
    {
     "name": "stdout",
     "output_type": "stream",
     "text": [
      "total 3296\r\n",
      "drwxr-xr-x 1 root root    4096 Apr 30 16:29 datalab\r\n",
      "drwxr-xr-x 3 root root    4096 May 14 01:21 nltk_data\r\n",
      "-rw-r--r-- 1 root root 2067542 May 14 01:22 doc2vec.model\r\n",
      "-rw-r--r-- 1 root root 1296032 May 14 01:22 word2vec.model\r\n"
     ]
    }
   ],
   "source": [
    "model_w2v.save(\"word2vec.model\")\n",
    "!ls -ltr"
   ]
  },
  {
   "cell_type": "code",
   "execution_count": 0,
   "metadata": {
    "colab": {
     "autoexec": {
      "startup": false,
      "wait_interval": 0
     }
    },
    "colab_type": "code",
    "id": "P2LOkS5bZy7Y"
   },
   "outputs": [],
   "source": []
  }
 ],
 "metadata": {
  "colab": {
   "collapsed_sections": [],
   "default_view": {},
   "name": "vectorize.ipynb",
   "provenance": [],
   "version": "0.3.2",
   "views": {}
  },
  "kernelspec": {
   "display_name": "Python 3",
   "language": "python",
   "name": "python3"
  },
  "language_info": {
   "codemirror_mode": {
    "name": "ipython",
    "version": 3
   },
   "file_extension": ".py",
   "mimetype": "text/x-python",
   "name": "python",
   "nbconvert_exporter": "python",
   "pygments_lexer": "ipython3",
   "version": "3.6.5"
  }
 },
 "nbformat": 4,
 "nbformat_minor": 1
}
